{
 "cells": [
  {
   "cell_type": "code",
   "execution_count": 49,
   "id": "b81c77e5",
   "metadata": {},
   "outputs": [],
   "source": [
    "import selenium\n",
    "from selenium.common.exceptions import NoSuchElementException\n",
    "from selenium import webdriver\n",
    "from selenium.webdriver.common.by import By\n",
    "import warnings\n",
    "warnings.filterwarnings('ignore')\n",
    "import time\n",
    "import pandas as pd"
   ]
  },
  {
   "cell_type": "code",
   "execution_count": 18,
   "id": "472fa8a2",
   "metadata": {},
   "outputs": [],
   "source": [
    "q6=webdriver.Chrome()"
   ]
  },
  {
   "cell_type": "code",
   "execution_count": 19,
   "id": "a1ea9fbc",
   "metadata": {},
   "outputs": [],
   "source": [
    "q6.get('https://www.flipkart.com/')"
   ]
  },
  {
   "cell_type": "code",
   "execution_count": 20,
   "id": "7b94b8ee",
   "metadata": {},
   "outputs": [],
   "source": [
    "search_sneaker=q6.find_element(By.CLASS_NAME,'Pke_EE')\n",
    "search_sneaker.send_keys('sneakers')"
   ]
  },
  {
   "cell_type": "code",
   "execution_count": 22,
   "id": "9a4ec01c",
   "metadata": {},
   "outputs": [],
   "source": [
    "search=q6.find_element(By.XPATH,'/html/body/div[1]/div/div[1]/div/div/div/div/div[1]/div/div[1]/div/div[1]/header/div[1]/div[2]/form/div/button')\n",
    "search.click()"
   ]
  },
  {
   "cell_type": "code",
   "execution_count": 35,
   "id": "b113591e",
   "metadata": {},
   "outputs": [],
   "source": [
    "Brands=[]\n",
    "start=0\n",
    "end=5\n",
    "for page in range(start,end):\n",
    "    brands=q6.find_elements(By.XPATH,'//div[@class=\"_2WkVRV\"]')\n",
    "    for i in brands:\n",
    "        Brands.append(i.text)\n",
    "    nextb=q6.find_elements(By.XPATH,'/html/body/div/div/div[3]/div[1]/div[2]/div[12]/div/div/nav/a[12]')                 \n",
    "    time.sleep(3)\n",
    "        \n"
   ]
  },
  {
   "cell_type": "code",
   "execution_count": 37,
   "id": "9e1eb995",
   "metadata": {},
   "outputs": [
    {
     "data": {
      "text/plain": [
       "200"
      ]
     },
     "execution_count": 37,
     "metadata": {},
     "output_type": "execute_result"
    }
   ],
   "source": [
    "len(Brands)"
   ]
  },
  {
   "cell_type": "code",
   "execution_count": 46,
   "id": "7a1411c3",
   "metadata": {},
   "outputs": [],
   "source": [
    "rB=Brands[0:100]"
   ]
  },
  {
   "cell_type": "code",
   "execution_count": 38,
   "id": "fe4ed48b",
   "metadata": {},
   "outputs": [],
   "source": [
    "product_desc=[]\n",
    "\n",
    "start=0\n",
    "end=5\n",
    "for page in range(start,end):\n",
    "    desc=q6.find_elements(By.XPATH,'//div[@class=\"_2B099V\"]/a[1]')\n",
    "    for i in desc:\n",
    "        product_desc.append(i.text)\n",
    "    next_button=q6.find_elements(By.XPATH,'/html/body/div/div/div[3]/div[1]/div[2]/div[12]/div/div/nav/a[11]/span')\n",
    "    time.sleep(3)"
   ]
  },
  {
   "cell_type": "code",
   "execution_count": 40,
   "id": "3e1433c4",
   "metadata": {},
   "outputs": [
    {
     "data": {
      "text/plain": [
       "200"
      ]
     },
     "execution_count": 40,
     "metadata": {},
     "output_type": "execute_result"
    }
   ],
   "source": [
    "len(product_desc)"
   ]
  },
  {
   "cell_type": "code",
   "execution_count": 47,
   "id": "a98b85e3",
   "metadata": {},
   "outputs": [],
   "source": [
    "rpd=product_desc[0:100]"
   ]
  },
  {
   "cell_type": "code",
   "execution_count": 43,
   "id": "5302a96b",
   "metadata": {},
   "outputs": [],
   "source": [
    "product_price=[]\n",
    "start=0\n",
    "end=5\n",
    "for page in range(start,end):\n",
    "    price=q6.find_elements(By.CLASS_NAME,'_30jeq3')\n",
    "    for i in price:\n",
    "        product_price.append(i.text)\n",
    "    nb=q6.find_elements(By.XPATH,'/html/body/div/div/div[3]/div[1]/div[2]/div[12]/div/div/nav/a[11]/span')\n",
    "    time.sleep(3)"
   ]
  },
  {
   "cell_type": "code",
   "execution_count": null,
   "id": "86001fb6",
   "metadata": {},
   "outputs": [],
   "source": []
  },
  {
   "cell_type": "code",
   "execution_count": 45,
   "id": "956274c1",
   "metadata": {},
   "outputs": [
    {
     "data": {
      "text/plain": [
       "225"
      ]
     },
     "execution_count": 45,
     "metadata": {},
     "output_type": "execute_result"
    }
   ],
   "source": [
    "len(product_price)"
   ]
  },
  {
   "cell_type": "code",
   "execution_count": 48,
   "id": "0e064aff",
   "metadata": {},
   "outputs": [],
   "source": [
    "rpp=product_price[0:100]"
   ]
  },
  {
   "cell_type": "code",
   "execution_count": 50,
   "id": "fc02de7a",
   "metadata": {},
   "outputs": [],
   "source": [
    "flipkartdf=pd.DataFrame({\"Brands\":rB,\"Product desc\":rpd,\"Product price\":rpp})"
   ]
  },
  {
   "cell_type": "code",
   "execution_count": 51,
   "id": "58dbd7da",
   "metadata": {},
   "outputs": [
    {
     "data": {
      "text/html": [
       "<div>\n",
       "<style scoped>\n",
       "    .dataframe tbody tr th:only-of-type {\n",
       "        vertical-align: middle;\n",
       "    }\n",
       "\n",
       "    .dataframe tbody tr th {\n",
       "        vertical-align: top;\n",
       "    }\n",
       "\n",
       "    .dataframe thead th {\n",
       "        text-align: right;\n",
       "    }\n",
       "</style>\n",
       "<table border=\"1\" class=\"dataframe\">\n",
       "  <thead>\n",
       "    <tr style=\"text-align: right;\">\n",
       "      <th></th>\n",
       "      <th>Brands</th>\n",
       "      <th>Product desc</th>\n",
       "      <th>Product price</th>\n",
       "    </tr>\n",
       "  </thead>\n",
       "  <tbody>\n",
       "    <tr>\n",
       "      <th>0</th>\n",
       "      <td>BRUTON</td>\n",
       "      <td>Modern Trendy Sneakers Shoes Sneakers For Men</td>\n",
       "      <td>₹285</td>\n",
       "    </tr>\n",
       "    <tr>\n",
       "      <th>1</th>\n",
       "      <td>BRUTON</td>\n",
       "      <td>Combo Pack Of 2 Casual Shoes Sneakers For Men</td>\n",
       "      <td>₹497</td>\n",
       "    </tr>\n",
       "    <tr>\n",
       "      <th>2</th>\n",
       "      <td>aadi</td>\n",
       "      <td>Synthetic Leather |Lightweight|Comfort|Summer|...</td>\n",
       "      <td>₹289</td>\n",
       "    </tr>\n",
       "    <tr>\n",
       "      <th>3</th>\n",
       "      <td>URBANBOX</td>\n",
       "      <td>Trending Stylish Casual Outdoor Sneakers Shoes...</td>\n",
       "      <td>₹299</td>\n",
       "    </tr>\n",
       "    <tr>\n",
       "      <th>4</th>\n",
       "      <td>Layasa</td>\n",
       "      <td>Sneakers For Men</td>\n",
       "      <td>₹299</td>\n",
       "    </tr>\n",
       "    <tr>\n",
       "      <th>...</th>\n",
       "      <td>...</td>\n",
       "      <td>...</td>\n",
       "      <td>...</td>\n",
       "    </tr>\n",
       "    <tr>\n",
       "      <th>95</th>\n",
       "      <td>Deals4you</td>\n",
       "      <td>Sneakers For Women</td>\n",
       "      <td>₹285</td>\n",
       "    </tr>\n",
       "    <tr>\n",
       "      <th>96</th>\n",
       "      <td>Afrojack</td>\n",
       "      <td>Wellshore Sneakers For Men</td>\n",
       "      <td>₹285</td>\n",
       "    </tr>\n",
       "    <tr>\n",
       "      <th>97</th>\n",
       "      <td>Krors</td>\n",
       "      <td>Casual Premium Ankle Length Black Denim Boots ...</td>\n",
       "      <td>₹497</td>\n",
       "    </tr>\n",
       "    <tr>\n",
       "      <th>98</th>\n",
       "      <td>Layasa</td>\n",
       "      <td>Sneakers For Women</td>\n",
       "      <td>₹1,299</td>\n",
       "    </tr>\n",
       "    <tr>\n",
       "      <th>99</th>\n",
       "      <td>aadi</td>\n",
       "      <td>Sneakers For Men</td>\n",
       "      <td>₹1,429</td>\n",
       "    </tr>\n",
       "  </tbody>\n",
       "</table>\n",
       "<p>100 rows × 3 columns</p>\n",
       "</div>"
      ],
      "text/plain": [
       "       Brands                                       Product desc Product price\n",
       "0      BRUTON      Modern Trendy Sneakers Shoes Sneakers For Men          ₹285\n",
       "1      BRUTON      Combo Pack Of 2 Casual Shoes Sneakers For Men          ₹497\n",
       "2        aadi  Synthetic Leather |Lightweight|Comfort|Summer|...          ₹289\n",
       "3    URBANBOX  Trending Stylish Casual Outdoor Sneakers Shoes...          ₹299\n",
       "4      Layasa                                   Sneakers For Men          ₹299\n",
       "..        ...                                                ...           ...\n",
       "95  Deals4you                                 Sneakers For Women          ₹285\n",
       "96   Afrojack                         Wellshore Sneakers For Men          ₹285\n",
       "97      Krors  Casual Premium Ankle Length Black Denim Boots ...          ₹497\n",
       "98     Layasa                                 Sneakers For Women        ₹1,299\n",
       "99       aadi                                   Sneakers For Men        ₹1,429\n",
       "\n",
       "[100 rows x 3 columns]"
      ]
     },
     "execution_count": 51,
     "metadata": {},
     "output_type": "execute_result"
    }
   ],
   "source": [
    "flipkartdf"
   ]
  },
  {
   "cell_type": "code",
   "execution_count": 54,
   "id": "6f207327",
   "metadata": {},
   "outputs": [],
   "source": [
    "q7=webdriver.Chrome()"
   ]
  },
  {
   "cell_type": "code",
   "execution_count": 55,
   "id": "38cc0ef6",
   "metadata": {},
   "outputs": [],
   "source": [
    "q7.get(' https://www.amazon.in/')"
   ]
  },
  {
   "cell_type": "code",
   "execution_count": 58,
   "id": "d0e4d262",
   "metadata": {},
   "outputs": [],
   "source": [
    "captch=q7.find_element(By.ID,'captchacharacters')\n",
    "captch.send_keys(\"KFTPAJ\")"
   ]
  },
  {
   "cell_type": "code",
   "execution_count": 59,
   "id": "eec21dfd",
   "metadata": {},
   "outputs": [],
   "source": [
    "click=q7.find_element(By.XPATH,'/html/body/div/div[1]/div[3]/div/div/form/div[2]/div/span/span/button')\n",
    "click.click()"
   ]
  },
  {
   "cell_type": "code",
   "execution_count": 60,
   "id": "4038b0d9",
   "metadata": {},
   "outputs": [],
   "source": [
    "search=q7.find_element(By.XPATH,'/html/body/div[1]/header/div/div[1]/div[2]/div/form/div[2]/div[1]/input')\n",
    "search.send_keys('Laptop')"
   ]
  },
  {
   "cell_type": "code",
   "execution_count": 61,
   "id": "ddae9691",
   "metadata": {},
   "outputs": [],
   "source": [
    "fsearch=q7.find_element(By.XPATH,'/html/body/div[1]/header/div/div[1]/div[2]/div/form/div[3]/div/span/input')\n",
    "fsearch.click()"
   ]
  },
  {
   "cell_type": "code",
   "execution_count": 65,
   "id": "2e5293b9",
   "metadata": {},
   "outputs": [],
   "source": [
    "intel=q7.find_element(By.XPATH,'/html/body/div[1]/div[1]/div[1]/div[2]/div/div[3]/span/div[1]/div/div/div[5]/ul[6]/span[9]/li/span/a/span')\n",
    "intel.click()"
   ]
  },
  {
   "cell_type": "code",
   "execution_count": 69,
   "id": "7831b1f3",
   "metadata": {},
   "outputs": [],
   "source": [
    "title=[]\n",
    "tit=q7.find_elements(By.XPATH,'//div[@class=\"a-section a-spacing-small a-spacing-top-small\"]/div/h2/a/span[1]')\n",
    "for i in tit:\n",
    "    title.append(i.text)"
   ]
  },
  {
   "cell_type": "code",
   "execution_count": 70,
   "id": "8db396ee",
   "metadata": {},
   "outputs": [
    {
     "data": {
      "text/plain": [
       "['ASUS TUF Gaming F15, 15.6\"(39.62 cms) FHD 144Hz, Intel Core i7-11800H 11th Gen, 4GB NVIDIA GeForce RTX 3050 Ti, Gaming Laptop (16GB/512GB SSD/Windows 11/90WHrs Battery/Black/2.30 Kg), FX506HE-HN382W',\n",
       " 'MSI Modern 14, Intel 12th Gen. i7-1255U, 36CM FHD 60Hz Laptop (16GB/512GB NVMe SSD/Windows 11 Home/Intel Iris Xe Graphics/Classic Black/1.4Kg), C12M-459IN',\n",
       " 'HP Laptop 15s, 12th Gen Intel Core i7-1255U, 15.6-inch (39.6 cm), FHD, 16GB DDR4, 512GB SSD, Intel Iris Xe Graphics, Backlit KB, Thin & Light (Win 11, MSO 2021, Silver, 1.69 kg), fq5190TU',\n",
       " 'Lenovo IdeaPad Slim 3 Intel Core i7 11th Gen 15.6\" (39.62cm) FHD Laptop (16GB/512GB SSD/Win 11/Office 2021/1 Year Warranty/Arctic Grey/1.65Kg), 82H803LPIN',\n",
       " 'MSI GF63 Thin, Intel Core i7-11800H, 40CM FHD 144Hz Gaming Laptop (16GB/512GB NVMe SSD/Windows 11 Home/Nvidia GeForce GTX 1650, GDDR6 4GB/Black/1.8Kg), 11SC-1462IN',\n",
       " 'Acer Predator Helios Neo 16 Gaming Laptop 13th Gen Intel Core i7 Processor (16 GB/1 TB SSD/Windows 11 Home/NVIDIA ® GeForce RTX \\x84¢ 4050) PHN16-71, (16\") WUXGA Display',\n",
       " 'Acer Aspire Lite Premium Metal Laptop 11th Gen Intel Core Ci7-1165G7 Thin and Light Laptop (Windows 11 Home/16GB RAM/1TB SSD/MS Office) AL15-51, 39.62cm (15.6\") Full HD Display, Steel Gray, 1.59 KG',\n",
       " 'Dell Inspiron 5430 Laptop, Intel Core i7-1360P Processor/ 16GB/ 1TB SSD/14.0\" (35.56cm) FHD+ WVA AG with Comfortview 250 nits/Backlit KB + FPR/Win 11 + MSO\\'21/15 Month McAfee/Platinum Silver/ 1.59kg',\n",
       " 'MSI GF63 Thin, Intel Core i7-11800H, 40CM FHD 144Hz Gaming Laptop (8GBx2/512GB NVMe SSD/Windows 11 Home/Nvidia GeForce RTX 3050, GDDR6 4GB/Black/1.8Kg), 11UC-1293IN',\n",
       " 'ASUS Vivobook 15, Intel Core i7-12650H 12th Gen, 15.6\" (39.62 cm) FHD, Thin and Light Laptop (16GB/512GB/Win11/Office 2021/Blue/1.7 kg), X1502ZA-EJ741WS',\n",
       " 'HP Victus Gaming Laptop, 12th Gen Intel Core i7-12650H, NVIDIA RTX 3050 GPU, 15.6-inch (39.6 cm), 75W TGP , FHD, IPS, 144Hz, 9 ms Response time, 16GB DDR4, 512GB SSD (MSO, Blue, 2.29 kg), fa0188TX',\n",
       " '(Refurbished) Lenovo Thinkpad Laptop T470 Intel Core i7 7th Gen - 7600u Processor 8 GB Ram & 512 GB SSD, 14 Inches Notebook Computer',\n",
       " 'ASUS TUF Gaming F15, 15.6-inch (39.62 cms) FHD 144Hz, Intel Core i7-12700H 12th Gen, 4GB NVIDIA GeForce RTX 3050, Gaming Laptop (16GB/1TB SSD/Windows 11/90WHrs Battery/Gray/2.20 Kg), FX577ZC-HN192W',\n",
       " 'Acer Aspire 5 Gaming Laptop Intel Core i7 13th Gen (Windows 11 Home/16 GB/512 GB SSD/4 GB Graphics/NVIDIA GeForce RTX 2050) A514-56GM, 14.0\" WUXGA Display, 1.56 KG',\n",
       " 'Samsung Galaxy Book3 Core i7 13th Gen 1355U - (16 GB/512 GB SSD/Windows 11 Home) Galaxy Book3 Thin and Light Laptop  (15.6 Inch, Silver, 1.58 Kg, with MS Office)',\n",
       " '(Refurbished) MSI Modern 14, Intel 12th Gen. i7-1255U, 36CM FHD 60Hz Laptop (16GB/512GB NVMe SSD/Windows 11 Home/Intel Iris Xe Graphics/Classic Black/1.4Kg), C12M-459IN',\n",
       " 'Dell Inspiron 5330 Laptop, Intel Evo Platform Powered by Intel Core i7-1360P Processor/16GB LP DDR5/1TB SSD/13.3\" (33.78cm) QHD+ 300 nits/Win 11 + MSO\\'21/15 Month McAfee/Platinum Silver/1.24kg',\n",
       " 'Acer Nitro 5 12th Gen Intel Core i7-12650H Gaming Laptop (Windows 11 Home/16 GB/1TB SSD/NVIDIA GeForce RTX 3070Ti Graphics/165Hz) AN515-58 with 15.6 inch QHD IPS Display, Killer WiFi 6, RGB Keyboard',\n",
       " '(Refurbished) Dell Latitude Laptop 5400 Intel Core i7 Mobile-8th Gen -Processor, 32 GB Ram & 1TB SSD, 14 Inches FHD 1080p Touch Screen Notebook Computer',\n",
       " 'MSI Thin GF63, Intel 12th Gen. i7-12650H, 40CM FHD 144Hz Gaming Laptop (8GBx2/512GB NVMe SSD/Windows 11 Home/Nvidia GeForce RTX 4050, GDDR6 6GB/Black/1.86Kg), A12VE-070IN',\n",
       " 'Lenovo Legion 5 Pro Intel Core i7-12700H 16\" (40.64cm) QHD IPS 165Hz 500Nits Gaming Laptop (32GB/1TB SSD/Win 11/Office 2021/NVIDIA RTX 3070Ti 8GB/Alexa/3 Month Game Pass/Storm Grey/2.45Kg), 82RF00E1IN',\n",
       " 'HP Pavilion 15, 13th Gen Intel Core i7-1360P, 15.6-inch (39.6 cm), FHD, 16GB DDR4, 1TB SSD, Intel Iris Xᵉ Graphics, FPR, Backlit KB, Audio by B&O (Win 11, MSO 2021, Silver, 1.74 kg), eg3036TU',\n",
       " 'HP 2023 17 17.3\" Touchscreen HD+ Laptop Computer, 13th Gen Intel 10-Core i7-1355U up to 5.0GHz, 64GB DDR4 RAM, 4TB SSD, WiFi 6, Backlit Keyboard, Fingerprint Reader, Windows 11, Free HDMI Cable',\n",
       " '(Refurbished) HP EliteBook x360 1030 G4 13.3-Inch Touchscreen Laptop with Verizon/AT&T']"
      ]
     },
     "execution_count": 70,
     "metadata": {},
     "output_type": "execute_result"
    }
   ],
   "source": [
    "title"
   ]
  },
  {
   "cell_type": "code",
   "execution_count": 72,
   "id": "180731e7",
   "metadata": {},
   "outputs": [],
   "source": [
    "nt=title[0:10]"
   ]
  },
  {
   "cell_type": "code",
   "execution_count": 99,
   "id": "67d35a09",
   "metadata": {},
   "outputs": [],
   "source": [
    "ratings=[]\n",
    "\n",
    "rat=q7.find_elements(By.CLASS_NAME,'a-popover-trigger a-declarative')\n",
    "for i in rat:\n",
    "    ratings.append(i)"
   ]
  },
  {
   "cell_type": "code",
   "execution_count": 100,
   "id": "2581d35e",
   "metadata": {},
   "outputs": [
    {
     "data": {
      "text/plain": [
       "[]"
      ]
     },
     "execution_count": 100,
     "metadata": {},
     "output_type": "execute_result"
    }
   ],
   "source": [
    "ratings"
   ]
  },
  {
   "cell_type": "code",
   "execution_count": null,
   "id": "1f831262",
   "metadata": {},
   "outputs": [],
   "source": []
  },
  {
   "cell_type": "code",
   "execution_count": 101,
   "id": "41e46dc3",
   "metadata": {},
   "outputs": [],
   "source": [
    "price=[]\n",
    "\n",
    "pr=q7.find_elements(By.XPATH,'//div[@class=\"a-row a-size-base a-color-base\"]/div/a/span')\n",
    "for i in pr:\n",
    "    price.append(i.text)"
   ]
  },
  {
   "cell_type": "code",
   "execution_count": 107,
   "id": "58e18a55",
   "metadata": {},
   "outputs": [],
   "source": [
    "np=price[0:10]"
   ]
  },
  {
   "cell_type": "code",
   "execution_count": 108,
   "id": "93f6668f",
   "metadata": {},
   "outputs": [
    {
     "data": {
      "text/plain": [
       "10"
      ]
     },
     "execution_count": 108,
     "metadata": {},
     "output_type": "execute_result"
    }
   ],
   "source": [
    "len(np)"
   ]
  },
  {
   "cell_type": "code",
   "execution_count": null,
   "id": "191fdef1",
   "metadata": {},
   "outputs": [],
   "source": []
  },
  {
   "cell_type": "code",
   "execution_count": 109,
   "id": "8189920c",
   "metadata": {},
   "outputs": [],
   "source": [
    "amazondf=pd.DataFrame({\"Title\":nt,\"Price\":np})"
   ]
  },
  {
   "cell_type": "code",
   "execution_count": 110,
   "id": "44df9162",
   "metadata": {},
   "outputs": [
    {
     "data": {
      "text/html": [
       "<div>\n",
       "<style scoped>\n",
       "    .dataframe tbody tr th:only-of-type {\n",
       "        vertical-align: middle;\n",
       "    }\n",
       "\n",
       "    .dataframe tbody tr th {\n",
       "        vertical-align: top;\n",
       "    }\n",
       "\n",
       "    .dataframe thead th {\n",
       "        text-align: right;\n",
       "    }\n",
       "</style>\n",
       "<table border=\"1\" class=\"dataframe\">\n",
       "  <thead>\n",
       "    <tr style=\"text-align: right;\">\n",
       "      <th></th>\n",
       "      <th>Title</th>\n",
       "      <th>Price</th>\n",
       "    </tr>\n",
       "  </thead>\n",
       "  <tbody>\n",
       "    <tr>\n",
       "      <th>0</th>\n",
       "      <td>ASUS TUF Gaming F15, 15.6\"(39.62 cms) FHD 144H...</td>\n",
       "      <td>₹68,990</td>\n",
       "    </tr>\n",
       "    <tr>\n",
       "      <th>1</th>\n",
       "      <td>MSI Modern 14, Intel 12th Gen. i7-1255U, 36CM ...</td>\n",
       "      <td>₹49,990</td>\n",
       "    </tr>\n",
       "    <tr>\n",
       "      <th>2</th>\n",
       "      <td>HP Laptop 15s, 12th Gen Intel Core i7-1255U, 1...</td>\n",
       "      <td>₹63,990</td>\n",
       "    </tr>\n",
       "    <tr>\n",
       "      <th>3</th>\n",
       "      <td>Lenovo IdeaPad Slim 3 Intel Core i7 11th Gen 1...</td>\n",
       "      <td>₹52,990</td>\n",
       "    </tr>\n",
       "    <tr>\n",
       "      <th>4</th>\n",
       "      <td>MSI GF63 Thin, Intel Core i7-11800H, 40CM FHD ...</td>\n",
       "      <td>₹57,990</td>\n",
       "    </tr>\n",
       "    <tr>\n",
       "      <th>5</th>\n",
       "      <td>Acer Predator Helios Neo 16 Gaming Laptop 13th...</td>\n",
       "      <td>₹1,06,990</td>\n",
       "    </tr>\n",
       "    <tr>\n",
       "      <th>6</th>\n",
       "      <td>Acer Aspire Lite Premium Metal Laptop 11th Gen...</td>\n",
       "      <td>₹47,990</td>\n",
       "    </tr>\n",
       "    <tr>\n",
       "      <th>7</th>\n",
       "      <td>Dell Inspiron 5430 Laptop, Intel Core i7-1360P...</td>\n",
       "      <td>₹84,990</td>\n",
       "    </tr>\n",
       "    <tr>\n",
       "      <th>8</th>\n",
       "      <td>MSI GF63 Thin, Intel Core i7-11800H, 40CM FHD ...</td>\n",
       "      <td>₹64,990</td>\n",
       "    </tr>\n",
       "    <tr>\n",
       "      <th>9</th>\n",
       "      <td>ASUS Vivobook 15, Intel Core i7-12650H 12th Ge...</td>\n",
       "      <td>₹60,990</td>\n",
       "    </tr>\n",
       "  </tbody>\n",
       "</table>\n",
       "</div>"
      ],
      "text/plain": [
       "                                               Title      Price\n",
       "0  ASUS TUF Gaming F15, 15.6\"(39.62 cms) FHD 144H...    ₹68,990\n",
       "1  MSI Modern 14, Intel 12th Gen. i7-1255U, 36CM ...    ₹49,990\n",
       "2  HP Laptop 15s, 12th Gen Intel Core i7-1255U, 1...    ₹63,990\n",
       "3  Lenovo IdeaPad Slim 3 Intel Core i7 11th Gen 1...    ₹52,990\n",
       "4  MSI GF63 Thin, Intel Core i7-11800H, 40CM FHD ...    ₹57,990\n",
       "5  Acer Predator Helios Neo 16 Gaming Laptop 13th...  ₹1,06,990\n",
       "6  Acer Aspire Lite Premium Metal Laptop 11th Gen...    ₹47,990\n",
       "7  Dell Inspiron 5430 Laptop, Intel Core i7-1360P...    ₹84,990\n",
       "8  MSI GF63 Thin, Intel Core i7-11800H, 40CM FHD ...    ₹64,990\n",
       "9  ASUS Vivobook 15, Intel Core i7-12650H 12th Ge...    ₹60,990"
      ]
     },
     "execution_count": 110,
     "metadata": {},
     "output_type": "execute_result"
    }
   ],
   "source": [
    "amazondf"
   ]
  },
  {
   "cell_type": "code",
   "execution_count": 111,
   "id": "7bfc064c",
   "metadata": {},
   "outputs": [],
   "source": [
    "q8=webdriver.Chrome()"
   ]
  },
  {
   "cell_type": "code",
   "execution_count": null,
   "id": "78b51682",
   "metadata": {},
   "outputs": [],
   "source": [
    "q8.get('https://www.azquotes.com/')"
   ]
  },
  {
   "cell_type": "code",
   "execution_count": null,
   "id": "51381a66",
   "metadata": {},
   "outputs": [],
   "source": []
  },
  {
   "cell_type": "code",
   "execution_count": 113,
   "id": "60241c17",
   "metadata": {},
   "outputs": [],
   "source": [
    "top_quotes=q8.find_element(By.XPATH,'/html/body/div[1]/div[1]/div[1]/div/div[3]/ul/li[5]/a')\n",
    "top_quotes.click()"
   ]
  },
  {
   "cell_type": "code",
   "execution_count": 114,
   "id": "3cef371c",
   "metadata": {},
   "outputs": [],
   "source": [
    "Quotes=[]\n",
    "start=0\n",
    "end=10\n",
    "for page in range(start,end):\n",
    "    quote=q8.find_elements(By.XPATH,'//ul[@class=\"list-quotes\"]/li/div/p')\n",
    "    for i in quote:\n",
    "        Quotes.append(i.text)\n",
    "    nextp=q8.find_elements(By.XPATH,'/html/body/div[1]/div[2]/div/div/div/div[1]/div/div[3]/li[12]/a')\n",
    "    time.sleep(3)"
   ]
  },
  {
   "cell_type": "code",
   "execution_count": 116,
   "id": "e8e19b9e",
   "metadata": {},
   "outputs": [
    {
     "data": {
      "text/plain": [
       "1000"
      ]
     },
     "execution_count": 116,
     "metadata": {},
     "output_type": "execute_result"
    }
   ],
   "source": [
    "len(Quotes)"
   ]
  },
  {
   "cell_type": "code",
   "execution_count": 117,
   "id": "f7e41f98",
   "metadata": {},
   "outputs": [],
   "source": [
    "Authors=[]\n",
    "start=0\n",
    "end=10\n",
    "for page in range(start,end):\n",
    "    author=q8.find_elements(By.XPATH,'//div[@class=\"wrap-block\"]/div/a')\n",
    "    for i in author:\n",
    "        Authors.append(i.text)\n",
    "    nextp=q8.find_elements(By.XPATH,'/html/body/div[1]/div[2]/div/div/div/div[1]/div/div[3]/li[12]/a')\n",
    "    time.sleep(3)"
   ]
  },
  {
   "cell_type": "code",
   "execution_count": 119,
   "id": "553b1c4f",
   "metadata": {},
   "outputs": [
    {
     "data": {
      "text/plain": [
       "1000"
      ]
     },
     "execution_count": 119,
     "metadata": {},
     "output_type": "execute_result"
    }
   ],
   "source": [
    "len(Authors)"
   ]
  },
  {
   "cell_type": "code",
   "execution_count": 120,
   "id": "ba2f8a6a",
   "metadata": {},
   "outputs": [],
   "source": [
    "Type_of_quotes=[]\n",
    "start=0\n",
    "end=10\n",
    "for page in range(start,end):\n",
    "    tq=q8.find_elements(By.XPATH,'//div[@class=\"wrap-block\"]/div/div[1]')\n",
    "    for i in tq:\n",
    "        Type_of_quotes.append(i.text)\n",
    "    nextp=q8.find_elements(By.XPATH,'/html/body/div[1]/div[2]/div/div/div/div[1]/div/div[3]/li[12]/a')\n",
    "    time.sleep(3)"
   ]
  },
  {
   "cell_type": "code",
   "execution_count": 122,
   "id": "af10b6d1",
   "metadata": {},
   "outputs": [
    {
     "data": {
      "text/plain": [
       "1000"
      ]
     },
     "execution_count": 122,
     "metadata": {},
     "output_type": "execute_result"
    }
   ],
   "source": [
    "len(Type_of_quotes)"
   ]
  },
  {
   "cell_type": "code",
   "execution_count": 123,
   "id": "f8152e12",
   "metadata": {},
   "outputs": [],
   "source": [
    "Quotedf=pd.DataFrame({'Quotes':Quotes,\"Authors\":Authors,\"Type of Quotes\":Type_of_quotes})"
   ]
  },
  {
   "cell_type": "code",
   "execution_count": 124,
   "id": "709acb9d",
   "metadata": {},
   "outputs": [
    {
     "data": {
      "text/html": [
       "<div>\n",
       "<style scoped>\n",
       "    .dataframe tbody tr th:only-of-type {\n",
       "        vertical-align: middle;\n",
       "    }\n",
       "\n",
       "    .dataframe tbody tr th {\n",
       "        vertical-align: top;\n",
       "    }\n",
       "\n",
       "    .dataframe thead th {\n",
       "        text-align: right;\n",
       "    }\n",
       "</style>\n",
       "<table border=\"1\" class=\"dataframe\">\n",
       "  <thead>\n",
       "    <tr style=\"text-align: right;\">\n",
       "      <th></th>\n",
       "      <th>Quotes</th>\n",
       "      <th>Authors</th>\n",
       "      <th>Type of Quotes</th>\n",
       "    </tr>\n",
       "  </thead>\n",
       "  <tbody>\n",
       "    <tr>\n",
       "      <th>0</th>\n",
       "      <td>The essence of strategy is choosing what not t...</td>\n",
       "      <td>Michael Porter</td>\n",
       "      <td>Essence, Deep Thought, Transcendentalism</td>\n",
       "    </tr>\n",
       "    <tr>\n",
       "      <th>1</th>\n",
       "      <td>One cannot and must not try to erase the past ...</td>\n",
       "      <td>Golda Meir</td>\n",
       "      <td>Inspiration, Past, Trying</td>\n",
       "    </tr>\n",
       "    <tr>\n",
       "      <th>2</th>\n",
       "      <td>Patriotism means to stand by the country. It d...</td>\n",
       "      <td>Theodore Roosevelt</td>\n",
       "      <td>Country, Peace, War</td>\n",
       "    </tr>\n",
       "    <tr>\n",
       "      <th>3</th>\n",
       "      <td>Death is something inevitable. When a man has ...</td>\n",
       "      <td>Nelson Mandela</td>\n",
       "      <td>Inspirational, Motivational, Death</td>\n",
       "    </tr>\n",
       "    <tr>\n",
       "      <th>4</th>\n",
       "      <td>You have to love a nation that celebrates its ...</td>\n",
       "      <td>Erma Bombeck</td>\n",
       "      <td>4th Of July, Food, Patriotic</td>\n",
       "    </tr>\n",
       "    <tr>\n",
       "      <th>...</th>\n",
       "      <td>...</td>\n",
       "      <td>...</td>\n",
       "      <td>...</td>\n",
       "    </tr>\n",
       "    <tr>\n",
       "      <th>995</th>\n",
       "      <td>When the going gets weird, the weird turn pro.</td>\n",
       "      <td>Hunter S. Thompson</td>\n",
       "      <td>Music, Sports, Hunting</td>\n",
       "    </tr>\n",
       "    <tr>\n",
       "      <th>996</th>\n",
       "      <td>When a train goes through a tunnel and it gets...</td>\n",
       "      <td>Corrie Ten Boom</td>\n",
       "      <td>Trust, Encouraging, Uplifting</td>\n",
       "    </tr>\n",
       "    <tr>\n",
       "      <th>997</th>\n",
       "      <td>If you think you are too small to make a diffe...</td>\n",
       "      <td>Dalai Lama</td>\n",
       "      <td>Inspirational, Funny, Change</td>\n",
       "    </tr>\n",
       "    <tr>\n",
       "      <th>998</th>\n",
       "      <td>God doesn't require us to succeed, he only req...</td>\n",
       "      <td>Mother Teresa</td>\n",
       "      <td>Success, God, Mother</td>\n",
       "    </tr>\n",
       "    <tr>\n",
       "      <th>999</th>\n",
       "      <td>Change your thoughts and you change your world.</td>\n",
       "      <td>Norman Vincent Peale</td>\n",
       "      <td>Inspirational, Motivational, Change</td>\n",
       "    </tr>\n",
       "  </tbody>\n",
       "</table>\n",
       "<p>1000 rows × 3 columns</p>\n",
       "</div>"
      ],
      "text/plain": [
       "                                                Quotes               Authors  \\\n",
       "0    The essence of strategy is choosing what not t...        Michael Porter   \n",
       "1    One cannot and must not try to erase the past ...            Golda Meir   \n",
       "2    Patriotism means to stand by the country. It d...    Theodore Roosevelt   \n",
       "3    Death is something inevitable. When a man has ...        Nelson Mandela   \n",
       "4    You have to love a nation that celebrates its ...          Erma Bombeck   \n",
       "..                                                 ...                   ...   \n",
       "995     When the going gets weird, the weird turn pro.    Hunter S. Thompson   \n",
       "996  When a train goes through a tunnel and it gets...       Corrie Ten Boom   \n",
       "997  If you think you are too small to make a diffe...            Dalai Lama   \n",
       "998  God doesn't require us to succeed, he only req...         Mother Teresa   \n",
       "999    Change your thoughts and you change your world.  Norman Vincent Peale   \n",
       "\n",
       "                               Type of Quotes  \n",
       "0    Essence, Deep Thought, Transcendentalism  \n",
       "1                   Inspiration, Past, Trying  \n",
       "2                         Country, Peace, War  \n",
       "3          Inspirational, Motivational, Death  \n",
       "4                4th Of July, Food, Patriotic  \n",
       "..                                        ...  \n",
       "995                    Music, Sports, Hunting  \n",
       "996             Trust, Encouraging, Uplifting  \n",
       "997              Inspirational, Funny, Change  \n",
       "998                      Success, God, Mother  \n",
       "999       Inspirational, Motivational, Change  \n",
       "\n",
       "[1000 rows x 3 columns]"
      ]
     },
     "execution_count": 124,
     "metadata": {},
     "output_type": "execute_result"
    }
   ],
   "source": [
    "Quotedf"
   ]
  },
  {
   "cell_type": "code",
   "execution_count": 127,
   "id": "bc24b59c",
   "metadata": {},
   "outputs": [],
   "source": [
    "q9=webdriver.Chrome()"
   ]
  },
  {
   "cell_type": "code",
   "execution_count": 128,
   "id": "3c0e69ca",
   "metadata": {},
   "outputs": [],
   "source": [
    "q9.get(\"https://www.jagranjosh.com/\")"
   ]
  },
  {
   "cell_type": "code",
   "execution_count": 129,
   "id": "d581179f",
   "metadata": {},
   "outputs": [],
   "source": [
    "gk=q9.find_element(By.XPATH,'/html/body/div[1]/header/nav/div/div/div[3]/ul/li[6]/a')\n",
    "gk.click()"
   ]
  },
  {
   "cell_type": "code",
   "execution_count": 130,
   "id": "cbb9735e",
   "metadata": {},
   "outputs": [],
   "source": [
    "pm=q9.find_element(By.XPATH,'/html/body/div[2]/div/div/div[2]/div/div[10]/div/div/ul/li[2]/a')\n",
    "pm.click()"
   ]
  },
  {
   "cell_type": "code",
   "execution_count": 131,
   "id": "342e140d",
   "metadata": {},
   "outputs": [],
   "source": [
    "table=q9.find_element(By.XPATH,'//div[@class=\"table-box\"]/table/tbody[1]')\n"
   ]
  },
  {
   "cell_type": "code",
   "execution_count": 139,
   "id": "db2ec81b",
   "metadata": {},
   "outputs": [
    {
     "data": {
      "text/plain": [
       "<bound method WebElement.screenshot of <selenium.webdriver.remote.webelement.WebElement (session=\"1e25395b248f514fb29f09b91bd32e90\", element=\"AA2CFF6170EAE662EE6D114C940E31C6_element_1051\")>>"
      ]
     },
     "execution_count": 139,
     "metadata": {},
     "output_type": "execute_result"
    }
   ],
   "source": [
    "table."
   ]
  },
  {
   "cell_type": "code",
   "execution_count": 148,
   "id": "08f8c2d3",
   "metadata": {},
   "outputs": [],
   "source": [
    "q10=webdriver.Chrome()"
   ]
  },
  {
   "cell_type": "code",
   "execution_count": 149,
   "id": "0d330293",
   "metadata": {},
   "outputs": [],
   "source": [
    "q10.get('https://www.motor1.com/')"
   ]
  },
  {
   "cell_type": "code",
   "execution_count": 151,
   "id": "b1424fc0",
   "metadata": {},
   "outputs": [],
   "source": [
    "cs=q10.find_element(By.XPATH,'/html/body/div[10]/div[2]/div/div/div[3]/div/div/div/form/input')\n",
    "cs.send_keys(\"50 most expensive cars\")"
   ]
  },
  {
   "cell_type": "code",
   "execution_count": null,
   "id": "6c6d011e",
   "metadata": {},
   "outputs": [],
   "source": []
  },
  {
   "cell_type": "code",
   "execution_count": 152,
   "id": "e08fbb03",
   "metadata": {},
   "outputs": [],
   "source": [
    "search=q10.find_element(By.XPATH,'/html/body/div[10]/div[2]/div/div/div[3]/div/div/div/form/button[1]')\n",
    "search.click()"
   ]
  },
  {
   "cell_type": "code",
   "execution_count": 153,
   "id": "d0f0174a",
   "metadata": {},
   "outputs": [],
   "source": [
    "expensive=q10.find_element(By.XPATH,'/html/body/div[10]/div[9]/div/div[1]/div/div/div[2]/div/div[1]/h3/a')\n",
    "expensive.click()"
   ]
  },
  {
   "cell_type": "code",
   "execution_count": 156,
   "id": "e3156a59",
   "metadata": {},
   "outputs": [],
   "source": [
    "carname=[]\n",
    "car=q10.find_elements(By.CLASS_NAME,'subheader')\n",
    "for i in car:\n",
    "    carname.append(i.text)"
   ]
  },
  {
   "cell_type": "code",
   "execution_count": null,
   "id": "dd322e0a",
   "metadata": {},
   "outputs": [],
   "source": []
  },
  {
   "cell_type": "code",
   "execution_count": 157,
   "id": "8d249330",
   "metadata": {},
   "outputs": [
    {
     "data": {
      "text/plain": [
       "['Aston Martin Valour',\n",
       " 'McLaren Elva',\n",
       " 'Czinger 21C',\n",
       " 'Ferrari Monza',\n",
       " 'Gordon Murray T.33',\n",
       " 'Koenigsegg Gemera',\n",
       " 'Zenvo TSR-S',\n",
       " 'Hennessey Venom F5',\n",
       " 'Bentley Bacalar',\n",
       " 'Hispano Suiza Carmen Boulogne',\n",
       " 'Bentley Mulliner Batur',\n",
       " 'Deus Vayanne',\n",
       " 'SSC Tuatara',\n",
       " 'Lotus Evija',\n",
       " 'Aston Martin Vulcan',\n",
       " 'Delage D12',\n",
       " 'Ferrari Daytona SP3',\n",
       " 'McLaren Speedtail',\n",
       " 'Rimac Nevera',\n",
       " 'Pagani Utopia',\n",
       " 'Pininfarina Battista',\n",
       " 'Gordon Murray T.50',\n",
       " 'Lamborghini Countach',\n",
       " 'Mercedes-AMG Project One',\n",
       " 'Zenvo Aurora',\n",
       " 'Aston Martin Victor',\n",
       " 'Hennessey Venom F5 Roadster',\n",
       " 'Koenigsegg Jesko',\n",
       " 'Aston Martin Valkyrie',\n",
       " 'W Motors Lykan Hypersport',\n",
       " 'McLaren Solus',\n",
       " 'Lamborghini Sian',\n",
       " 'Koenigsegg CC850',\n",
       " 'Bugatti Chiron Super Sport 300+',\n",
       " 'Lamborghini Veneno',\n",
       " 'Bugatti Bolide',\n",
       " 'Pininfarina B95 Speedster',\n",
       " 'Bugatti Mistral',\n",
       " 'Pagani Huayra Imola',\n",
       " 'Bugatti Divo',\n",
       " 'SP Automotive Chaos',\n",
       " 'Pagani Codalunga',\n",
       " '777 Hypercar',\n",
       " 'Mercedes-Maybach Exelero',\n",
       " 'Bugatti Centodieci',\n",
       " 'Bugatti Chiron Profilée',\n",
       " 'Rolls-Royce Sweptail',\n",
       " 'Bugatti La Voiture Noire',\n",
       " 'Rolls-Royce Boat Tail*',\n",
       " 'Rolls-Royce La Rose Noire Droptail',\n",
       " 'Most Expensive Cars In The World']"
      ]
     },
     "execution_count": 157,
     "metadata": {},
     "output_type": "execute_result"
    }
   ],
   "source": [
    "carname"
   ]
  },
  {
   "cell_type": "code",
   "execution_count": 158,
   "id": "c22f6704",
   "metadata": {},
   "outputs": [],
   "source": [
    "price=[]\n",
    "pr=q10.find_elements(By.XPATH,'//*[@id=\"article_box\"]/div[1]/div[2]/div[2]/p[4]/strong')\n",
    "for i in pr:\n",
    "    price.append(i.text)"
   ]
  },
  {
   "cell_type": "code",
   "execution_count": 159,
   "id": "ffd41498",
   "metadata": {},
   "outputs": [
    {
     "data": {
      "text/plain": [
       "['Price: $1.5 Million']"
      ]
     },
     "execution_count": 159,
     "metadata": {},
     "output_type": "execute_result"
    }
   ],
   "source": [
    "price"
   ]
  },
  {
   "cell_type": "code",
   "execution_count": null,
   "id": "8baacf0f",
   "metadata": {},
   "outputs": [],
   "source": []
  },
  {
   "cell_type": "code",
   "execution_count": null,
   "id": "b9d8b966",
   "metadata": {},
   "outputs": [],
   "source": []
  },
  {
   "cell_type": "code",
   "execution_count": null,
   "id": "bd86fc8f",
   "metadata": {},
   "outputs": [],
   "source": []
  },
  {
   "cell_type": "code",
   "execution_count": null,
   "id": "ddb0a44f",
   "metadata": {},
   "outputs": [],
   "source": []
  },
  {
   "cell_type": "code",
   "execution_count": null,
   "id": "ea944c99",
   "metadata": {},
   "outputs": [],
   "source": []
  },
  {
   "cell_type": "code",
   "execution_count": null,
   "id": "4738c285",
   "metadata": {},
   "outputs": [],
   "source": []
  },
  {
   "cell_type": "code",
   "execution_count": null,
   "id": "1947862c",
   "metadata": {},
   "outputs": [],
   "source": []
  },
  {
   "cell_type": "code",
   "execution_count": null,
   "id": "e82fba1f",
   "metadata": {},
   "outputs": [],
   "source": []
  },
  {
   "cell_type": "code",
   "execution_count": null,
   "id": "ce9f3d98",
   "metadata": {},
   "outputs": [],
   "source": []
  },
  {
   "cell_type": "code",
   "execution_count": null,
   "id": "80bf1e18",
   "metadata": {},
   "outputs": [],
   "source": []
  },
  {
   "cell_type": "code",
   "execution_count": null,
   "id": "3fc8eb5d",
   "metadata": {},
   "outputs": [],
   "source": []
  },
  {
   "cell_type": "code",
   "execution_count": null,
   "id": "61c9f369",
   "metadata": {},
   "outputs": [],
   "source": []
  },
  {
   "cell_type": "code",
   "execution_count": null,
   "id": "c5119ab9",
   "metadata": {},
   "outputs": [],
   "source": []
  },
  {
   "cell_type": "code",
   "execution_count": null,
   "id": "a4f76f14",
   "metadata": {},
   "outputs": [],
   "source": []
  },
  {
   "cell_type": "code",
   "execution_count": null,
   "id": "0a2ebcea",
   "metadata": {},
   "outputs": [],
   "source": []
  }
 ],
 "metadata": {
  "kernelspec": {
   "display_name": "Python 3 (ipykernel)",
   "language": "python",
   "name": "python3"
  },
  "language_info": {
   "codemirror_mode": {
    "name": "ipython",
    "version": 3
   },
   "file_extension": ".py",
   "mimetype": "text/x-python",
   "name": "python",
   "nbconvert_exporter": "python",
   "pygments_lexer": "ipython3",
   "version": "3.10.9"
  }
 },
 "nbformat": 4,
 "nbformat_minor": 5
}
