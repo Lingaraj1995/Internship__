{
 "cells": [
  {
   "cell_type": "code",
   "execution_count": 127,
   "id": "4baca259",
   "metadata": {},
   "outputs": [],
   "source": [
    "import selenium\n",
    "from selenium import webdriver\n",
    "from selenium.webdriver.common.by import By\n",
    "import pandas as pd\n",
    "import warnings\n",
    "warnings.filterwarnings('ignore')\n",
    "import time"
   ]
  },
  {
   "cell_type": "code",
   "execution_count": 128,
   "id": "d8c58665",
   "metadata": {},
   "outputs": [],
   "source": [
    "driver=webdriver.Chrome()"
   ]
  },
  {
   "cell_type": "code",
   "execution_count": 129,
   "id": "3c0c5f84",
   "metadata": {},
   "outputs": [
    {
     "ename": "NoSuchElementException",
     "evalue": "Message: no such element: Unable to locate element: {\"method\":\"xpath\",\"selector\":\"/html/body/div/header[2]/div[2]/div[1]/span/span[1]\"}\n  (Session info: chrome=118.0.5993.120); For documentation on this error, please visit: https://www.selenium.dev/documentation/webdriver/troubleshooting/errors#no-such-element-exception\nStacktrace:\n\tGetHandleVerifier [0x00007FF7EBA28EF2+54786]\n\t(No symbol) [0x00007FF7EB995612]\n\t(No symbol) [0x00007FF7EB84A64B]\n\t(No symbol) [0x00007FF7EB88B79C]\n\t(No symbol) [0x00007FF7EB88B91C]\n\t(No symbol) [0x00007FF7EB8C6D87]\n\t(No symbol) [0x00007FF7EB8ABEAF]\n\t(No symbol) [0x00007FF7EB8C4D02]\n\t(No symbol) [0x00007FF7EB8ABC43]\n\t(No symbol) [0x00007FF7EB880941]\n\t(No symbol) [0x00007FF7EB881B84]\n\tGetHandleVerifier [0x00007FF7EBD77F52+3524194]\n\tGetHandleVerifier [0x00007FF7EBDCD800+3874576]\n\tGetHandleVerifier [0x00007FF7EBDC5D7F+3843215]\n\tGetHandleVerifier [0x00007FF7EBAC5086+694166]\n\t(No symbol) [0x00007FF7EB9A0A88]\n\t(No symbol) [0x00007FF7EB99CA94]\n\t(No symbol) [0x00007FF7EB99CBC2]\n\t(No symbol) [0x00007FF7EB98CC83]\n\tBaseThreadInitThunk [0x00007FFFB938257D+29]\n\tRtlUserThreadStart [0x00007FFFB982AA58+40]\n",
     "output_type": "error",
     "traceback": [
      "\u001b[1;31m---------------------------------------------------------------------------\u001b[0m",
      "\u001b[1;31mNoSuchElementException\u001b[0m                    Traceback (most recent call last)",
      "Cell \u001b[1;32mIn[129], line 1\u001b[0m\n\u001b[1;32m----> 1\u001b[0m fsearch\u001b[38;5;241m=\u001b[39m\u001b[43mdriver\u001b[49m\u001b[38;5;241;43m.\u001b[39;49m\u001b[43mfind_element\u001b[49m\u001b[43m(\u001b[49m\u001b[43mBy\u001b[49m\u001b[38;5;241;43m.\u001b[39;49m\u001b[43mXPATH\u001b[49m\u001b[43m,\u001b[49m\u001b[38;5;124;43m'\u001b[39;49m\u001b[38;5;124;43m/html/body/div/header[2]/div[2]/div[1]/span/span[1]\u001b[39;49m\u001b[38;5;124;43m'\u001b[39;49m\u001b[43m)\u001b[49m\n\u001b[0;32m      2\u001b[0m fsearch\u001b[38;5;241m.\u001b[39mclick()\n",
      "File \u001b[1;32m~\\anaconda3\\lib\\site-packages\\selenium\\webdriver\\remote\\webdriver.py:740\u001b[0m, in \u001b[0;36mWebDriver.find_element\u001b[1;34m(self, by, value)\u001b[0m\n\u001b[0;32m    737\u001b[0m     by \u001b[38;5;241m=\u001b[39m By\u001b[38;5;241m.\u001b[39mCSS_SELECTOR\n\u001b[0;32m    738\u001b[0m     value \u001b[38;5;241m=\u001b[39m \u001b[38;5;124mf\u001b[39m\u001b[38;5;124m'\u001b[39m\u001b[38;5;124m[name=\u001b[39m\u001b[38;5;124m\"\u001b[39m\u001b[38;5;132;01m{\u001b[39;00mvalue\u001b[38;5;132;01m}\u001b[39;00m\u001b[38;5;124m\"\u001b[39m\u001b[38;5;124m]\u001b[39m\u001b[38;5;124m'\u001b[39m\n\u001b[1;32m--> 740\u001b[0m \u001b[38;5;28;01mreturn\u001b[39;00m \u001b[38;5;28;43mself\u001b[39;49m\u001b[38;5;241;43m.\u001b[39;49m\u001b[43mexecute\u001b[49m\u001b[43m(\u001b[49m\u001b[43mCommand\u001b[49m\u001b[38;5;241;43m.\u001b[39;49m\u001b[43mFIND_ELEMENT\u001b[49m\u001b[43m,\u001b[49m\u001b[43m \u001b[49m\u001b[43m{\u001b[49m\u001b[38;5;124;43m\"\u001b[39;49m\u001b[38;5;124;43musing\u001b[39;49m\u001b[38;5;124;43m\"\u001b[39;49m\u001b[43m:\u001b[49m\u001b[43m \u001b[49m\u001b[43mby\u001b[49m\u001b[43m,\u001b[49m\u001b[43m \u001b[49m\u001b[38;5;124;43m\"\u001b[39;49m\u001b[38;5;124;43mvalue\u001b[39;49m\u001b[38;5;124;43m\"\u001b[39;49m\u001b[43m:\u001b[49m\u001b[43m \u001b[49m\u001b[43mvalue\u001b[49m\u001b[43m}\u001b[49m\u001b[43m)\u001b[49m[\u001b[38;5;124m\"\u001b[39m\u001b[38;5;124mvalue\u001b[39m\u001b[38;5;124m\"\u001b[39m]\n",
      "File \u001b[1;32m~\\anaconda3\\lib\\site-packages\\selenium\\webdriver\\remote\\webdriver.py:346\u001b[0m, in \u001b[0;36mWebDriver.execute\u001b[1;34m(self, driver_command, params)\u001b[0m\n\u001b[0;32m    344\u001b[0m response \u001b[38;5;241m=\u001b[39m \u001b[38;5;28mself\u001b[39m\u001b[38;5;241m.\u001b[39mcommand_executor\u001b[38;5;241m.\u001b[39mexecute(driver_command, params)\n\u001b[0;32m    345\u001b[0m \u001b[38;5;28;01mif\u001b[39;00m response:\n\u001b[1;32m--> 346\u001b[0m     \u001b[38;5;28;43mself\u001b[39;49m\u001b[38;5;241;43m.\u001b[39;49m\u001b[43merror_handler\u001b[49m\u001b[38;5;241;43m.\u001b[39;49m\u001b[43mcheck_response\u001b[49m\u001b[43m(\u001b[49m\u001b[43mresponse\u001b[49m\u001b[43m)\u001b[49m\n\u001b[0;32m    347\u001b[0m     response[\u001b[38;5;124m\"\u001b[39m\u001b[38;5;124mvalue\u001b[39m\u001b[38;5;124m\"\u001b[39m] \u001b[38;5;241m=\u001b[39m \u001b[38;5;28mself\u001b[39m\u001b[38;5;241m.\u001b[39m_unwrap_value(response\u001b[38;5;241m.\u001b[39mget(\u001b[38;5;124m\"\u001b[39m\u001b[38;5;124mvalue\u001b[39m\u001b[38;5;124m\"\u001b[39m, \u001b[38;5;28;01mNone\u001b[39;00m))\n\u001b[0;32m    348\u001b[0m     \u001b[38;5;28;01mreturn\u001b[39;00m response\n",
      "File \u001b[1;32m~\\anaconda3\\lib\\site-packages\\selenium\\webdriver\\remote\\errorhandler.py:229\u001b[0m, in \u001b[0;36mErrorHandler.check_response\u001b[1;34m(self, response)\u001b[0m\n\u001b[0;32m    227\u001b[0m         alert_text \u001b[38;5;241m=\u001b[39m value[\u001b[38;5;124m\"\u001b[39m\u001b[38;5;124malert\u001b[39m\u001b[38;5;124m\"\u001b[39m]\u001b[38;5;241m.\u001b[39mget(\u001b[38;5;124m\"\u001b[39m\u001b[38;5;124mtext\u001b[39m\u001b[38;5;124m\"\u001b[39m)\n\u001b[0;32m    228\u001b[0m     \u001b[38;5;28;01mraise\u001b[39;00m exception_class(message, screen, stacktrace, alert_text)  \u001b[38;5;66;03m# type: ignore[call-arg]  # mypy is not smart enough here\u001b[39;00m\n\u001b[1;32m--> 229\u001b[0m \u001b[38;5;28;01mraise\u001b[39;00m exception_class(message, screen, stacktrace)\n",
      "\u001b[1;31mNoSuchElementException\u001b[0m: Message: no such element: Unable to locate element: {\"method\":\"xpath\",\"selector\":\"/html/body/div/header[2]/div[2]/div[1]/span/span[1]\"}\n  (Session info: chrome=118.0.5993.120); For documentation on this error, please visit: https://www.selenium.dev/documentation/webdriver/troubleshooting/errors#no-such-element-exception\nStacktrace:\n\tGetHandleVerifier [0x00007FF7EBA28EF2+54786]\n\t(No symbol) [0x00007FF7EB995612]\n\t(No symbol) [0x00007FF7EB84A64B]\n\t(No symbol) [0x00007FF7EB88B79C]\n\t(No symbol) [0x00007FF7EB88B91C]\n\t(No symbol) [0x00007FF7EB8C6D87]\n\t(No symbol) [0x00007FF7EB8ABEAF]\n\t(No symbol) [0x00007FF7EB8C4D02]\n\t(No symbol) [0x00007FF7EB8ABC43]\n\t(No symbol) [0x00007FF7EB880941]\n\t(No symbol) [0x00007FF7EB881B84]\n\tGetHandleVerifier [0x00007FF7EBD77F52+3524194]\n\tGetHandleVerifier [0x00007FF7EBDCD800+3874576]\n\tGetHandleVerifier [0x00007FF7EBDC5D7F+3843215]\n\tGetHandleVerifier [0x00007FF7EBAC5086+694166]\n\t(No symbol) [0x00007FF7EB9A0A88]\n\t(No symbol) [0x00007FF7EB99CA94]\n\t(No symbol) [0x00007FF7EB99CBC2]\n\t(No symbol) [0x00007FF7EB98CC83]\n\tBaseThreadInitThunk [0x00007FFFB938257D+29]\n\tRtlUserThreadStart [0x00007FFFB982AA58+40]\n"
     ]
    }
   ],
   "source": [
    "fsearch=driver.find_element(By.XPATH,'/html/body/div/header[2]/div[2]/div[1]/span/span[1]')\n",
    "fsearch.click()"
   ]
  },
  {
   "cell_type": "code",
   "execution_count": null,
   "id": "592b22dd",
   "metadata": {},
   "outputs": [],
   "source": []
  },
  {
   "cell_type": "code",
   "execution_count": null,
   "id": "9b481700",
   "metadata": {},
   "outputs": [],
   "source": [
    "job_title=driver.find_element(By.CLASS_NAME,'form-control  ')\n",
    "job_title.send_keys(\"Data Analyst\")"
   ]
  },
  {
   "cell_type": "code",
   "execution_count": null,
   "id": "5d09d804",
   "metadata": {},
   "outputs": [],
   "source": [
    "job_location=driver.find_element(By.XPATH,'/html/body/div/div[4]/div/div[2]/div[2]/div/form/div/div[1]/ul/li[2]/div/input')\n",
    "job_location.send_keys(\"Bangalore\")"
   ]
  },
  {
   "cell_type": "code",
   "execution_count": null,
   "id": "8779d554",
   "metadata": {},
   "outputs": [],
   "source": [
    "search=driver.find_element(By.XPATH,'//div[@class=\"searchForm_btnWrap_advance__VYBHN\"]/button')\n",
    "search.click()"
   ]
  },
  {
   "cell_type": "code",
   "execution_count": null,
   "id": "a82e25fc",
   "metadata": {},
   "outputs": [],
   "source": [
    "job_urls=[]"
   ]
  },
  {
   "cell_type": "code",
   "execution_count": null,
   "id": "5cc622f7",
   "metadata": {},
   "outputs": [],
   "source": [
    "title_tags=driver.find_elements(By.TAG_NAME,'name')\n",
    "for i in title_tags:\n",
    "    title=i.text\n",
    "    job_urls.append(title)"
   ]
  },
  {
   "cell_type": "code",
   "execution_count": null,
   "id": "b61f94f6",
   "metadata": {},
   "outputs": [],
   "source": []
  },
  {
   "cell_type": "code",
   "execution_count": null,
   "id": "f32e0b71",
   "metadata": {},
   "outputs": [],
   "source": [
    "job_urls"
   ]
  },
  {
   "cell_type": "code",
   "execution_count": null,
   "id": "ff23d295",
   "metadata": {},
   "outputs": [],
   "source": []
  },
  {
   "cell_type": "code",
   "execution_count": null,
   "id": "891e2b7c",
   "metadata": {},
   "outputs": [],
   "source": []
  },
  {
   "cell_type": "code",
   "execution_count": null,
   "id": "ceadc942",
   "metadata": {},
   "outputs": [],
   "source": []
  },
  {
   "cell_type": "code",
   "execution_count": null,
   "id": "f4110f92",
   "metadata": {},
   "outputs": [],
   "source": []
  },
  {
   "cell_type": "code",
   "execution_count": null,
   "id": "91d3d58d",
   "metadata": {},
   "outputs": [],
   "source": []
  },
  {
   "cell_type": "code",
   "execution_count": null,
   "id": "bf40f68f",
   "metadata": {},
   "outputs": [],
   "source": []
  },
  {
   "cell_type": "code",
   "execution_count": null,
   "id": "07fc3e1c",
   "metadata": {},
   "outputs": [],
   "source": []
  },
  {
   "cell_type": "code",
   "execution_count": null,
   "id": "1ae54211",
   "metadata": {},
   "outputs": [],
   "source": [
    "location=driver.find_element(By.XPATH,'/html/body/div/div[4]/div/div[2]/div[2]/div/form/div/div[1]/ul/li[2]/div')\n",
    "location.send_keys('Bangalore')"
   ]
  },
  {
   "cell_type": "code",
   "execution_count": 130,
   "id": "94f3fdbc",
   "metadata": {},
   "outputs": [],
   "source": [
    "#Question5\n",
    "q5=webdriver.Chrome()"
   ]
  },
  {
   "cell_type": "code",
   "execution_count": 131,
   "id": "bda88a3a",
   "metadata": {},
   "outputs": [],
   "source": [
    "q5.get('https://www.flipkart.com/apple-iphone-11-black-64-gb/p/itm4e5041ba101fd?pid=MOBFWQ6BXGJCEYNY&lid=LSTMOBFWQ6BXGJCEYNYZE3ENS&marketplace=FLIPKART&q=iphone+11&store=tyy/4io&srno=s_1_1&otracker=AS_Query_HistoryAutoSuggest_6_0_na_na_na&otracker1=AS_Query_HistoryAutoSuggest_6_0_na_na_na&fm=organic&iid=e30aaa70-fe6e-466c-81d4-993e630ea913.MOBFWQ6BXGJCEYNY.SEARCH&ppt=hp&ppn=homepage&ssid=nseg9l47e80000001699187524593&qH=f6cdfdaa9f3c23f3')"
   ]
  },
  {
   "cell_type": "code",
   "execution_count": 132,
   "id": "9d5159a4",
   "metadata": {},
   "outputs": [],
   "source": [
    "from selenium.common.exceptions import NoSuchElementException"
   ]
  },
  {
   "cell_type": "code",
   "execution_count": 135,
   "id": "5a59dcf4",
   "metadata": {},
   "outputs": [],
   "source": [
    "all_reviews=q5.find_element(By.XPATH,'/html/body/div[1]/div/div[3]/div[1]/div[2]/div[9]/div[7]/div/a/div/span')\n",
    "all_reviews.click()\n"
   ]
  },
  {
   "cell_type": "code",
   "execution_count": null,
   "id": "d868fde3",
   "metadata": {},
   "outputs": [],
   "source": []
  },
  {
   "cell_type": "code",
   "execution_count": 136,
   "id": "824732c3",
   "metadata": {},
   "outputs": [],
   "source": [
    "Ratings=[]"
   ]
  },
  {
   "cell_type": "code",
   "execution_count": 141,
   "id": "af093788",
   "metadata": {},
   "outputs": [],
   "source": [
    "start=0\n",
    "end=10\n",
    "for page in range(start,end):\n",
    "    rating=q5.find_elements(By.XPATH,'//div[@class=\"col _2wzgFH K0kLPL\"]/div[1]/div[1]')\n",
    "    for i in rating:\n",
    "        Ratings.append(i.text)\n",
    "    next_page=q5.find_elements(By.XPATH,'/html/body/div[1]/div/div[3]/div/div/div[2]/div[13]/div/div/nav/a[11]/span')\n",
    "    time.sleep(3)\n",
    "    "
   ]
  },
  {
   "cell_type": "code",
   "execution_count": 143,
   "id": "e74077aa",
   "metadata": {},
   "outputs": [
    {
     "data": {
      "text/plain": [
       "100"
      ]
     },
     "execution_count": 143,
     "metadata": {},
     "output_type": "execute_result"
    }
   ],
   "source": [
    "len(Ratings)"
   ]
  },
  {
   "cell_type": "code",
   "execution_count": null,
   "id": "b114b9be",
   "metadata": {},
   "outputs": [],
   "source": []
  },
  {
   "cell_type": "code",
   "execution_count": null,
   "id": "5c03b7ca",
   "metadata": {},
   "outputs": [],
   "source": []
  },
  {
   "cell_type": "code",
   "execution_count": null,
   "id": "146328af",
   "metadata": {},
   "outputs": [],
   "source": [
    "review_summary=[]\n"
   ]
  },
  {
   "cell_type": "code",
   "execution_count": 144,
   "id": "04000d53",
   "metadata": {},
   "outputs": [],
   "source": [
    "start=0\n",
    "end=10\n",
    "for page in range(start,end):\n",
    "    review=q5.find_elements(By.XPATH,'//div[@class=\"col _2wzgFH K0kLPL\"]/div[1]/p')\n",
    "    for i in review:\n",
    "        review_summary.append(i.text)\n",
    "    nextb=q5.find_elements(By.XPATH,'/html/body/div[1]/div/div[3]/div/div/div[2]/div[13]/div/div/nav/a[11]/span')\n",
    "    time.sleep(3)\n",
    "    "
   ]
  },
  {
   "cell_type": "code",
   "execution_count": 154,
   "id": "bae8d3ca",
   "metadata": {},
   "outputs": [],
   "source": [
    "nrs=review_summary[0:100]"
   ]
  },
  {
   "cell_type": "code",
   "execution_count": 155,
   "id": "1d6fc795",
   "metadata": {},
   "outputs": [
    {
     "data": {
      "text/plain": [
       "100"
      ]
     },
     "execution_count": 155,
     "metadata": {},
     "output_type": "execute_result"
    }
   ],
   "source": [
    "len(nrs)"
   ]
  },
  {
   "cell_type": "code",
   "execution_count": null,
   "id": "04bb863a",
   "metadata": {},
   "outputs": [],
   "source": []
  },
  {
   "cell_type": "code",
   "execution_count": null,
   "id": "55d13f99",
   "metadata": {},
   "outputs": [],
   "source": [
    "full_review=[]"
   ]
  },
  {
   "cell_type": "code",
   "execution_count": 148,
   "id": "a9b25897",
   "metadata": {},
   "outputs": [],
   "source": [
    "start=0\n",
    "end=10\n",
    "for page in range(start,end):\n",
    "    full=q5.find_elements(By.XPATH,'//div[@class=\"col _2wzgFH K0kLPL\"]/div[2]/div/div')\n",
    "    for i in full:\n",
    "        full_review.append(i.text)\n",
    "    nextpage=q5.find_elements(By.XPATH,'/html/body/div[1]/div/div[3]/div/div/div[2]/div[13]/div/div/nav/a[11]/span')\n",
    "                       #/html/body/div[1]/div/div[3]/div/div/div[2]/div[13]/div/div/nav/a[12]/span\n",
    "    time.sleep(3)"
   ]
  },
  {
   "cell_type": "code",
   "execution_count": 149,
   "id": "bf518412",
   "metadata": {},
   "outputs": [
    {
     "data": {
      "text/plain": [
       "250"
      ]
     },
     "execution_count": 149,
     "metadata": {},
     "output_type": "execute_result"
    }
   ],
   "source": [
    "len(full_review)"
   ]
  },
  {
   "cell_type": "code",
   "execution_count": 150,
   "id": "9cd4d355",
   "metadata": {},
   "outputs": [],
   "source": [
    "nfr=full_review[0:100]"
   ]
  },
  {
   "cell_type": "code",
   "execution_count": 151,
   "id": "2e3b2942",
   "metadata": {},
   "outputs": [
    {
     "data": {
      "text/plain": [
       "100"
      ]
     },
     "execution_count": 151,
     "metadata": {},
     "output_type": "execute_result"
    }
   ],
   "source": [
    "len(nfr)"
   ]
  },
  {
   "cell_type": "code",
   "execution_count": 157,
   "id": "5923bc02",
   "metadata": {},
   "outputs": [],
   "source": [
    "df=pd.DataFrame({'Ratings':Ratings,\"Review Summary\":nrs,\"Full Review\":nfr})"
   ]
  },
  {
   "cell_type": "code",
   "execution_count": 159,
   "id": "fc092a08",
   "metadata": {},
   "outputs": [
    {
     "data": {
      "text/html": [
       "<div>\n",
       "<style scoped>\n",
       "    .dataframe tbody tr th:only-of-type {\n",
       "        vertical-align: middle;\n",
       "    }\n",
       "\n",
       "    .dataframe tbody tr th {\n",
       "        vertical-align: top;\n",
       "    }\n",
       "\n",
       "    .dataframe thead th {\n",
       "        text-align: right;\n",
       "    }\n",
       "</style>\n",
       "<table border=\"1\" class=\"dataframe\">\n",
       "  <thead>\n",
       "    <tr style=\"text-align: right;\">\n",
       "      <th></th>\n",
       "      <th>Ratings</th>\n",
       "      <th>Review Summary</th>\n",
       "      <th>Full Review</th>\n",
       "    </tr>\n",
       "  </thead>\n",
       "  <tbody>\n",
       "    <tr>\n",
       "      <th>0</th>\n",
       "      <td>5</td>\n",
       "      <td>Highly recommended</td>\n",
       "      <td>Awesome Battery Life...Camera clarity is too g...</td>\n",
       "    </tr>\n",
       "    <tr>\n",
       "      <th>1</th>\n",
       "      <td>5</td>\n",
       "      <td>Perfect product!</td>\n",
       "      <td>Photos super</td>\n",
       "    </tr>\n",
       "    <tr>\n",
       "      <th>2</th>\n",
       "      <td>5</td>\n",
       "      <td>Best in the market!</td>\n",
       "      <td>Good Camera</td>\n",
       "    </tr>\n",
       "    <tr>\n",
       "      <th>3</th>\n",
       "      <td>5</td>\n",
       "      <td>Classy product</td>\n",
       "      <td>Feeling awesome after getting the delivery of ...</td>\n",
       "    </tr>\n",
       "    <tr>\n",
       "      <th>4</th>\n",
       "      <td>5</td>\n",
       "      <td>Worth every penny</td>\n",
       "      <td>Camera is awesome\\nBest battery backup\\nA perf...</td>\n",
       "    </tr>\n",
       "    <tr>\n",
       "      <th>...</th>\n",
       "      <td>...</td>\n",
       "      <td>...</td>\n",
       "      <td>...</td>\n",
       "    </tr>\n",
       "    <tr>\n",
       "      <th>95</th>\n",
       "      <td>5</td>\n",
       "      <td>Good quality product</td>\n",
       "      <td>Best and amazing product.....phone looks so pr...</td>\n",
       "    </tr>\n",
       "    <tr>\n",
       "      <th>96</th>\n",
       "      <td>5</td>\n",
       "      <td>Brilliant</td>\n",
       "      <td>Review After 10month\\nSuperb quality product\\n...</td>\n",
       "    </tr>\n",
       "    <tr>\n",
       "      <th>97</th>\n",
       "      <td>5</td>\n",
       "      <td>Terrific purchase</td>\n",
       "      <td>I was using Iphone 6s and also Oneplus 6t. Bot...</td>\n",
       "    </tr>\n",
       "    <tr>\n",
       "      <th>98</th>\n",
       "      <td>5</td>\n",
       "      <td>Fabulous!</td>\n",
       "      <td>I upgraded from 7 plus and Im not regretting i...</td>\n",
       "    </tr>\n",
       "    <tr>\n",
       "      <th>99</th>\n",
       "      <td>5</td>\n",
       "      <td>Great product</td>\n",
       "      <td>Just awesome phone, everything works in such a...</td>\n",
       "    </tr>\n",
       "  </tbody>\n",
       "</table>\n",
       "<p>100 rows × 3 columns</p>\n",
       "</div>"
      ],
      "text/plain": [
       "   Ratings        Review Summary  \\\n",
       "0        5    Highly recommended   \n",
       "1        5      Perfect product!   \n",
       "2        5   Best in the market!   \n",
       "3        5        Classy product   \n",
       "4        5     Worth every penny   \n",
       "..     ...                   ...   \n",
       "95       5  Good quality product   \n",
       "96       5             Brilliant   \n",
       "97       5     Terrific purchase   \n",
       "98       5             Fabulous!   \n",
       "99       5         Great product   \n",
       "\n",
       "                                          Full Review  \n",
       "0   Awesome Battery Life...Camera clarity is too g...  \n",
       "1                                        Photos super  \n",
       "2                                         Good Camera  \n",
       "3   Feeling awesome after getting the delivery of ...  \n",
       "4   Camera is awesome\\nBest battery backup\\nA perf...  \n",
       "..                                                ...  \n",
       "95  Best and amazing product.....phone looks so pr...  \n",
       "96  Review After 10month\\nSuperb quality product\\n...  \n",
       "97  I was using Iphone 6s and also Oneplus 6t. Bot...  \n",
       "98  I upgraded from 7 plus and Im not regretting i...  \n",
       "99  Just awesome phone, everything works in such a...  \n",
       "\n",
       "[100 rows x 3 columns]"
      ]
     },
     "execution_count": 159,
     "metadata": {},
     "output_type": "execute_result"
    }
   ],
   "source": [
    "df"
   ]
  },
  {
   "cell_type": "code",
   "execution_count": 160,
   "id": "2edbfbc9",
   "metadata": {},
   "outputs": [],
   "source": [
    "#Question6\n",
    "q6=webdriver.Chrome()\n"
   ]
  },
  {
   "cell_type": "code",
   "execution_count": 161,
   "id": "f6be8b13",
   "metadata": {},
   "outputs": [],
   "source": [
    "q6.get('https://www.flipkart.com/')"
   ]
  },
  {
   "cell_type": "code",
   "execution_count": 162,
   "id": "26afe08f",
   "metadata": {},
   "outputs": [],
   "source": [
    "search_sneaker=q6.find_element(By.CLASS_NAME,'Pke_EE')\n",
    "search_sneaker.send_keys('sneakers')"
   ]
  },
  {
   "cell_type": "code",
   "execution_count": 163,
   "id": "907329c2",
   "metadata": {},
   "outputs": [],
   "source": [
    "search=q6.find_element(By.XPATH,'/html/body/div[1]/div/div[1]/div/div/div/div/div[1]/div/div[1]/div/div[1]/header/div[1]/div[2]/form/div/button')\n",
    "search.click()"
   ]
  },
  {
   "cell_type": "code",
   "execution_count": null,
   "id": "6386791d",
   "metadata": {},
   "outputs": [],
   "source": [
    "Brands=[]\n",
    "start=0\n",
    "end=4\n",
    "for page in range(start,end):\n",
    "    brands=q6.find_elements(By.XPATH,'//div[@class=\"_2WkVRV\"]')\n",
    "    for i in brands:\n",
    "        Brands.append(i.text)\n",
    "        nextb=q6.find_elements(By.XPATH,'/html/body/div/div/div[3]/div[1]/div[2]/div[12]/div/div/nav/a[11]/span')\n",
    "        time.sleep(3)\n",
    "        \n"
   ]
  },
  {
   "cell_type": "code",
   "execution_count": null,
   "id": "139b5128",
   "metadata": {},
   "outputs": [],
   "source": []
  },
  {
   "cell_type": "code",
   "execution_count": null,
   "id": "4953cd35",
   "metadata": {},
   "outputs": [],
   "source": [
    "Brands"
   ]
  },
  {
   "cell_type": "code",
   "execution_count": null,
   "id": "3f46faec",
   "metadata": {},
   "outputs": [],
   "source": []
  },
  {
   "cell_type": "code",
   "execution_count": null,
   "id": "71b75742",
   "metadata": {},
   "outputs": [],
   "source": []
  },
  {
   "cell_type": "code",
   "execution_count": null,
   "id": "acc7329a",
   "metadata": {},
   "outputs": [],
   "source": []
  },
  {
   "cell_type": "code",
   "execution_count": null,
   "id": "ff199033",
   "metadata": {},
   "outputs": [],
   "source": []
  },
  {
   "cell_type": "code",
   "execution_count": null,
   "id": "5bd673d1",
   "metadata": {},
   "outputs": [],
   "source": []
  },
  {
   "cell_type": "code",
   "execution_count": null,
   "id": "0d04b1a0",
   "metadata": {},
   "outputs": [],
   "source": []
  },
  {
   "cell_type": "code",
   "execution_count": null,
   "id": "aca5b254",
   "metadata": {},
   "outputs": [],
   "source": []
  },
  {
   "cell_type": "code",
   "execution_count": null,
   "id": "94b081ac",
   "metadata": {},
   "outputs": [],
   "source": []
  },
  {
   "cell_type": "code",
   "execution_count": null,
   "id": "a3aad300",
   "metadata": {},
   "outputs": [],
   "source": []
  },
  {
   "cell_type": "code",
   "execution_count": null,
   "id": "2459e7fd",
   "metadata": {},
   "outputs": [],
   "source": []
  },
  {
   "cell_type": "code",
   "execution_count": null,
   "id": "2ed7d4f6",
   "metadata": {},
   "outputs": [],
   "source": []
  }
 ],
 "metadata": {
  "kernelspec": {
   "display_name": "Python 3 (ipykernel)",
   "language": "python",
   "name": "python3"
  },
  "language_info": {
   "codemirror_mode": {
    "name": "ipython",
    "version": 3
   },
   "file_extension": ".py",
   "mimetype": "text/x-python",
   "name": "python",
   "nbconvert_exporter": "python",
   "pygments_lexer": "ipython3",
   "version": "3.10.9"
  }
 },
 "nbformat": 4,
 "nbformat_minor": 5
}
