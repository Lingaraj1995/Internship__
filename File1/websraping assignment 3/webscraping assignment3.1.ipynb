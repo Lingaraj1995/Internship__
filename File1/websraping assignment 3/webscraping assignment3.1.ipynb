{
 "cells": [
  {
   "cell_type": "code",
   "execution_count": 3,
   "id": "e9a2a743",
   "metadata": {},
   "outputs": [],
   "source": [
    "import selenium\n",
    "from selenium import webdriver\n",
    "from selenium.webdriver.common.by import By\n",
    "import warnings\n",
    "warnings.filterwarnings('ignore')\n",
    "from selenium.common.exceptions import NoSuchElementException\n",
    "import pandas as pd\n",
    "import time"
   ]
  },
  {
   "cell_type": "code",
   "execution_count": 6,
   "id": "852d1ca3",
   "metadata": {},
   "outputs": [],
   "source": [
    "q5=webdriver.Chrome()\n",
    "q5.get('https://www.google.co.in/maps/')"
   ]
  },
  {
   "cell_type": "code",
   "execution_count": 7,
   "id": "cb640866",
   "metadata": {},
   "outputs": [
    {
     "name": "stdout",
     "output_type": "stream",
     "text": [
      "Enter keywordTalcher\n"
     ]
    }
   ],
   "source": [
    "search_input=q5.find_element(By.XPATH,'/html/body/div[3]/div[8]/div[3]/div[1]/div[1]/div/div[2]/form/input')\n",
    "search_input.send_keys(input(\"Enter keyword\"))"
   ]
  },
  {
   "cell_type": "code",
   "execution_count": 8,
   "id": "f06f8d3b",
   "metadata": {},
   "outputs": [],
   "source": [
    "search=q5.find_element(By.XPATH,'/html/body/div[3]/div[8]/div[3]/div[1]/div[1]/div/div[2]/div[1]/button')\n",
    "search.click()"
   ]
  },
  {
   "cell_type": "code",
   "execution_count": 9,
   "id": "c1113b90",
   "metadata": {},
   "outputs": [],
   "source": [
    "details=q5.find_element(By.XPATH,'/html/body/div[3]/div[8]/div[9]/div/div/div[1]/div[2]/div/div[1]/div/div/div[7]/div/span[2]/a')\n",
    "details.click()"
   ]
  },
  {
   "cell_type": "code",
   "execution_count": 10,
   "id": "fb7c7187",
   "metadata": {},
   "outputs": [
    {
     "data": {
      "text/plain": [
       "'20.95729, 85.21955'"
      ]
     },
     "execution_count": 10,
     "metadata": {},
     "output_type": "execute_result"
    }
   ],
   "source": [
    "coordinates=q5.find_element(By.XPATH,'/html/body/div[3]/div[3]/div[1]/div[1]')\n",
    "coordinates.text"
   ]
  },
  {
   "cell_type": "code",
   "execution_count": 13,
   "id": "83c27fb0",
   "metadata": {},
   "outputs": [],
   "source": [
    "q7=webdriver.Chrome()\n",
    "q7.get(\"https://www.forbes.com/\")"
   ]
  },
  {
   "cell_type": "code",
   "execution_count": 14,
   "id": "810e5072",
   "metadata": {},
   "outputs": [],
   "source": [
    "q8=webdriver.Chrome()\n",
    "q8.get('https://www.youtube.com/')"
   ]
  },
  {
   "cell_type": "code",
   "execution_count": 15,
   "id": "a09f6b4e",
   "metadata": {},
   "outputs": [],
   "source": [
    "video=q8.find_element(By.XPATH,'/html/body/ytd-app/div[1]/ytd-page-manager/ytd-browse/ytd-two-column-browse-results-renderer/div[1]/ytd-rich-grid-renderer/div[6]/ytd-rich-grid-row[27]/div/ytd-rich-item-renderer/div/ytd-rich-grid-media/div[1]/div[3]/div[1]/h3/a/yt-formatted-string')\n",
    "video.click()"
   ]
  },
  {
   "cell_type": "code",
   "execution_count": 16,
   "id": "1194c2df",
   "metadata": {},
   "outputs": [],
   "source": [
    "q9=webdriver.Chrome()"
   ]
  },
  {
   "cell_type": "code",
   "execution_count": 17,
   "id": "aff261c9",
   "metadata": {},
   "outputs": [],
   "source": [
    "q9.get(\"https://www.hostelworld.com/\")"
   ]
  },
  {
   "cell_type": "code",
   "execution_count": 19,
   "id": "d914b26f",
   "metadata": {},
   "outputs": [],
   "source": [
    "location=q9.find_element(By.XPATH,'/html/body/div[3]/div/div/div[2]/div[2]/div[2]/div/div/div/div[1]/div[1]/div/div[2]/input')\n",
    "location.send_keys(\"London\")"
   ]
  },
  {
   "cell_type": "code",
   "execution_count": 21,
   "id": "466fcb14",
   "metadata": {},
   "outputs": [],
   "source": [
    "search=q9.find_element(By.XPATH,'/html/body/div[3]/div/div/div[2]/div[2]/div[2]/div/div/div/div[1]/div[2]/div/ul/li[2]/button')\n",
    "search.click()"
   ]
  },
  {
   "cell_type": "code",
   "execution_count": 22,
   "id": "a8814dd8",
   "metadata": {},
   "outputs": [],
   "source": [
    "find=q9.find_element(By.XPATH,'/html/body/div[3]/div/div/div[2]/div[2]/div[2]/div/div/div/div[5]/button[2]/span')\n",
    "find.click()"
   ]
  },
  {
   "cell_type": "code",
   "execution_count": 26,
   "id": "abbd0cac",
   "metadata": {},
   "outputs": [
    {
     "data": {
      "text/plain": [
       "\"St Christopher's Village\""
      ]
     },
     "execution_count": 26,
     "metadata": {},
     "output_type": "execute_result"
    }
   ],
   "source": [
    "hostel_name=[]\n",
    "name=q9.find_elements(By.XPATH,'//div[@class=\"property-info-container\"]/div[1]')\n",
    "for i in name:\n",
    "    hostel_name.append(i.text)\n",
    "    \n",
    "hostel_name.pop(0)"
   ]
  },
  {
   "cell_type": "code",
   "execution_count": 27,
   "id": "3d3f1eb1",
   "metadata": {},
   "outputs": [
    {
     "data": {
      "text/plain": [
       "[\"St Christopher's Village\",\n",
       " 'Onefam Notting Hill',\n",
       " 'Urbany Hostel London',\n",
       " 'Generator London',\n",
       " 'Safestay London Elephant & Castle',\n",
       " 'Astor Hyde Park',\n",
       " 'NX London Hostel',\n",
       " 'Safestay London Kensington Holland Park',\n",
       " 'Clink261',\n",
       " 'No.8 Willesden Hostel London',\n",
       " 'Smart Russell Square Hostel',\n",
       " 'Destinations Hostels @ The Gallery',\n",
       " 'Smart Hyde Park Inn Hostel',\n",
       " 'Phoenix Hostel',\n",
       " 'No.8 Seven Sisters',\n",
       " 'Hostelle - women only hostel London',\n",
       " 'YHA London Oxford Street',\n",
       " \"St Christopher's Hammersmith\",\n",
       " 'Prime Backpackers Angel',\n",
       " 'Barmy Badger Backpackers',\n",
       " 'London Backpackers',\n",
       " 'Astor Victoria',\n",
       " 'Saint James Backpackers',\n",
       " 'Kabannas London St Pancras',\n",
       " 'Book a Bed Hostels',\n",
       " \"St Christopher's Camden\",\n",
       " 'PubLove @ The Steam Engine, Waterloo',\n",
       " 'Bell House Hostel',\n",
       " 'Smart Hyde Park View Hostel',\n",
       " \"St Christopher's Shepherds Bush\"]"
      ]
     },
     "execution_count": 27,
     "metadata": {},
     "output_type": "execute_result"
    }
   ],
   "source": [
    "hostel_name"
   ]
  },
  {
   "cell_type": "code",
   "execution_count": 28,
   "id": "3e3eb315",
   "metadata": {},
   "outputs": [
    {
     "data": {
      "text/plain": [
       "['- 1.8km from city centre',\n",
       " '- 5.5km from city centre',\n",
       " '- 5.4km from city centre',\n",
       " '- 3km from city centre',\n",
       " '- 1.7km from city centre',\n",
       " '- 4.3km from city centre',\n",
       " '- 6.1km from city centre',\n",
       " '- 5.8km from city centre',\n",
       " '- 3.2km from city centre',\n",
       " '- 10km from city centre',\n",
       " '- 2.6km from city centre',\n",
       " '- 1.7km from city centre',\n",
       " '- 5km from city centre',\n",
       " '- 4.2km from city centre',\n",
       " '- 9km from city centre',\n",
       " '- 5.1km from city centre',\n",
       " '- 2.1km from city centre',\n",
       " '- 7.5km from city centre',\n",
       " '- 3.6km from city centre',\n",
       " '- 5.5km from city centre',\n",
       " '- 11.9km from city centre',\n",
       " '- 1.8km from city centre',\n",
       " '- 5.5km from city centre',\n",
       " '- 3.3km from city centre',\n",
       " '- 6.9km from city centre',\n",
       " '- 4.3km from city centre',\n",
       " '- 0.5km from city centre',\n",
       " '- 4.2km from city centre',\n",
       " '- 4.8km from city centre',\n",
       " '- 7km from city centre']"
      ]
     },
     "execution_count": 28,
     "metadata": {},
     "output_type": "execute_result"
    }
   ],
   "source": [
    "distance_from_city=[]\n",
    "distance=q9.find_elements(By.XPATH,'//div[@class=\"property-distance\"]/span[2]')\n",
    "for i in distance:\n",
    "    distance_from_city.append(i.text)\n",
    "    \n",
    "distance_from_city"
   ]
  },
  {
   "cell_type": "code",
   "execution_count": 30,
   "id": "b84964fb",
   "metadata": {},
   "outputs": [
    {
     "data": {
      "text/plain": [
       "['8.2',\n",
       " '9.6',\n",
       " '9.5',\n",
       " '7.5',\n",
       " '7.1',\n",
       " '8.2',\n",
       " '8.3',\n",
       " '6.9',\n",
       " '8.0',\n",
       " '7.1',\n",
       " '7.5',\n",
       " '9.1',\n",
       " '7.6',\n",
       " '7.1',\n",
       " '6.5',\n",
       " '8.8',\n",
       " '9.0',\n",
       " '7.6',\n",
       " '8.1',\n",
       " '9.0',\n",
       " '8.0',\n",
       " '7.1',\n",
       " '7.7',\n",
       " '8.3',\n",
       " '7.4',\n",
       " '7.4',\n",
       " '7.8',\n",
       " '7.1',\n",
       " '7.7',\n",
       " '7.2']"
      ]
     },
     "execution_count": 30,
     "metadata": {},
     "output_type": "execute_result"
    }
   ],
   "source": [
    "Ratings=[]\n",
    "ratings=q9.find_elements(By.XPATH,'//div[@class=\"rating medium theme-null\"]/div[1]/span[1]')\n",
    "for i in ratings:\n",
    "    Ratings.append(i.text)\n",
    "    \n",
    "Ratings"
   ]
  },
  {
   "cell_type": "code",
   "execution_count": 31,
   "id": "3214dbdb",
   "metadata": {},
   "outputs": [
    {
     "data": {
      "text/plain": [
       "['(12630)',\n",
       " '(2386)',\n",
       " '(1013)',\n",
       " '(7920)',\n",
       " '(5194)',\n",
       " '(12243)',\n",
       " '(2045)',\n",
       " '(1718)',\n",
       " '(448)',\n",
       " '(5139)',\n",
       " '(10144)',\n",
       " '(275)',\n",
       " '(6766)',\n",
       " '(4538)',\n",
       " '(4116)',\n",
       " '(77)',\n",
       " '(4673)',\n",
       " '(4340)',\n",
       " '(835)',\n",
       " '(2009)',\n",
       " '(4544)',\n",
       " '(15056)',\n",
       " '(1940)',\n",
       " '(2941)',\n",
       " '(1288)',\n",
       " '(4104)',\n",
       " '(436)',\n",
       " '(112)',\n",
       " '(4730)',\n",
       " '(810)']"
      ]
     },
     "execution_count": 31,
     "metadata": {},
     "output_type": "execute_result"
    }
   ],
   "source": [
    "total_reviews=[]\n",
    "reviews=q9.find_elements(By.XPATH,'//div[@class=\"review\"]/span')\n",
    "for i in reviews:\n",
    "    total_reviews.append(i.text)\n",
    "    \n",
    "total_reviews"
   ]
  },
  {
   "cell_type": "code",
   "execution_count": null,
   "id": "01e0a234",
   "metadata": {},
   "outputs": [],
   "source": [
    "privates_from_price=[]\n",
    "price=q9.find_elements(By.XPATH,'')"
   ]
  },
  {
   "cell_type": "code",
   "execution_count": null,
   "id": "41901042",
   "metadata": {},
   "outputs": [],
   "source": []
  },
  {
   "cell_type": "code",
   "execution_count": null,
   "id": "356314ce",
   "metadata": {},
   "outputs": [],
   "source": []
  },
  {
   "cell_type": "code",
   "execution_count": null,
   "id": "3f9aa1a6",
   "metadata": {},
   "outputs": [],
   "source": []
  },
  {
   "cell_type": "code",
   "execution_count": null,
   "id": "86359335",
   "metadata": {},
   "outputs": [],
   "source": []
  },
  {
   "cell_type": "code",
   "execution_count": null,
   "id": "d03dfd0e",
   "metadata": {},
   "outputs": [],
   "source": []
  },
  {
   "cell_type": "code",
   "execution_count": null,
   "id": "b6fdbad8",
   "metadata": {},
   "outputs": [],
   "source": []
  }
 ],
 "metadata": {
  "kernelspec": {
   "display_name": "Python 3 (ipykernel)",
   "language": "python",
   "name": "python3"
  },
  "language_info": {
   "codemirror_mode": {
    "name": "ipython",
    "version": 3
   },
   "file_extension": ".py",
   "mimetype": "text/x-python",
   "name": "python",
   "nbconvert_exporter": "python",
   "pygments_lexer": "ipython3",
   "version": "3.10.9"
  }
 },
 "nbformat": 4,
 "nbformat_minor": 5
}
