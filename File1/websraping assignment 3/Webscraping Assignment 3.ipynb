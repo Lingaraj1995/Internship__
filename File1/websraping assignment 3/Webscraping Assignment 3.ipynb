{
 "cells": [
  {
   "cell_type": "code",
   "execution_count": 1,
   "id": "31f31657",
   "metadata": {},
   "outputs": [],
   "source": [
    "import selenium\n",
    "from selenium import webdriver\n",
    "from selenium.webdriver.common.by import By\n",
    "import pandas as pd\n",
    "from selenium.common.exceptions import NoSuchElementException\n",
    "import warnings\n",
    "warnings.filterwarnings(\"ignore\")\n",
    "import time"
   ]
  },
  {
   "cell_type": "code",
   "execution_count": 53,
   "id": "e9133f14",
   "metadata": {},
   "outputs": [],
   "source": [
    "q1=webdriver.Chrome()"
   ]
  },
  {
   "cell_type": "code",
   "execution_count": null,
   "id": "1514396f",
   "metadata": {},
   "outputs": [],
   "source": []
  },
  {
   "cell_type": "code",
   "execution_count": 54,
   "id": "c9b6d671",
   "metadata": {},
   "outputs": [],
   "source": [
    "q1.get(\"https://www.amazon.in/\")"
   ]
  },
  {
   "cell_type": "code",
   "execution_count": 55,
   "id": "5d1024ce",
   "metadata": {},
   "outputs": [
    {
     "name": "stdout",
     "output_type": "stream",
     "text": [
      "Enter the product for search :guitar\n"
     ]
    }
   ],
   "source": [
    "search_bar=q1.find_element(By.XPATH,'/html/body/div[1]/header/div/div[1]/div[2]/div/form/div[2]/div[1]/input')   \n",
    "search_bar.send_keys(input('Enter the product for search :'))"
   ]
  },
  {
   "cell_type": "code",
   "execution_count": 56,
   "id": "5d039095",
   "metadata": {},
   "outputs": [],
   "source": [
    "search=q1.find_element(By.XPATH,'/html/body/div[1]/header/div/div[1]/div[2]/div/form/div[3]/div/span/input')\n",
    "search.click()"
   ]
  },
  {
   "cell_type": "code",
   "execution_count": 57,
   "id": "d9dcc6a1",
   "metadata": {},
   "outputs": [],
   "source": [
    "Brands=[]\n",
    "start=0\n",
    "end=3\n",
    "for page in range(start,end):\n",
    "    brands=q1.find_elements(By.XPATH,'//h2[@class=\"a-size-mini a-spacing-none a-color-base s-line-clamp-4\"]/a/span[1]')\n",
    "    for i in brands:\n",
    "        Brands.append(i.text)\n",
    "    nextb=q1.find_elements(By.XPATH,'/html/body/div[1]/div[1]/div[1]/div[1]/div/span[1]/div[1]/div[67]/div/div/span/a[3]')\n",
    "    time.sleep(3)"
   ]
  },
  {
   "cell_type": "code",
   "execution_count": 77,
   "id": "64d51554",
   "metadata": {},
   "outputs": [
    {
     "data": {
      "text/plain": [
       "168"
      ]
     },
     "execution_count": 77,
     "metadata": {},
     "output_type": "execute_result"
    }
   ],
   "source": [
    "len(Brands)"
   ]
  },
  {
   "cell_type": "code",
   "execution_count": 78,
   "id": "ac0e232f",
   "metadata": {},
   "outputs": [],
   "source": [
    "nB=Brands[0:150]"
   ]
  },
  {
   "cell_type": "code",
   "execution_count": 59,
   "id": "80005768",
   "metadata": {},
   "outputs": [
    {
     "data": {
      "text/plain": [
       "['Kadence Frontier guitar with Online Guitar learning course , Wine Red Acoustic Guitar with Die Cast Keys, Set of Strings, Strap, Picks and Bag (Wine Red, Acoustic)',\n",
       " 'Kadence rosewood Guitar Frontier Series, Electric Acoustic Black Guitar With EQ, Die Cast Keys, Set Of Strings, Strap, Picks And Bag (Black EQ, Electric Acoustic)',\n",
       " 'Kadence Slowhand Premium Jumbo Semi Acoustic Guitar with Heavy Padded Bag, guitar cable, Pro Capo (Black Spruce Wood)',\n",
       " 'Henrix 38C 38 Inch Cutaway Acoustic Guitar With Dual Action Truss Rod, Gigbag, Picks, String Set, String Winder, Strap, Polishing Cloth & Ebook - Natural',\n",
       " 'Juârez Acoustic Guitar, 38 Inch Cutaway, 038C with Bag, Strings, Pick and Strap, Black',\n",
       " 'Intern INT-38C Acoustic Guitar Kit (Blue)',\n",
       " 'Juarez Lindenwood Acoustic Guitar Kit, 38 Inches Cutaway, 38C With Bag, Strings, Pick And Strap, 3TS Sunburst',\n",
       " 'Juarez Lindenwood Acoustic Guitar Kit, 38 Inches Cutaway, 38C With Bag, Strings, Pick And Strap, TBS Transparent (Blue Sunburst)',\n",
       " 'Yamaha F280 Acoustic Rosewood Guitar (Natural, Beige)',\n",
       " 'Juarez JRZ-ST01 38 Inches Wood 6-String Electric Guitar, Right Handed, Full Black, With Case/Bag And Picks (Black)',\n",
       " 'Juarez Acoustic Guitar, 38 Inch Cutaway, JRZ38C/TBLSNA TRANSPARENT BLUE SUNBURST',\n",
       " 'Yamaha 16 Incheses wood Acoustic Guitar F280 Dreadnought With Mexa Sponge Bag Belt,Plectrums, String Set & Guitar StAnd (Natural)',\n",
       " 'Intern 38C Ebony Wood Cutaway Design Acoustic Guitar with Picks And Carry Bag (Black)',\n",
       " 'Kadence Frontier guitar with Online Guitar learning course , Wine Red Acoustic Guitar with Die Cast Keys, Set of Strings, Strap, Picks and Bag (Wine Red, Acoustic)',\n",
       " 'Kadence Guitar Acoustica Series A05, Electric Acoustic Guitar, Zebra Wood with Pickup, Inbuilt tuner and Bag (Zebra Wood, Electro Acoustic)',\n",
       " 'Intern INT-38C-NT-G 38 Incheses lindenwood Right HAnded Acoustic Guitar Kit With Bag, Strings, Pick And Strap (Natural, 6-Strings)',\n",
       " 'Henrix 38C 38 Inch Cutaway Acoustic Guitar With Dual Action Truss Rod, Gigbag, Picks, String Set, String Winder, Strap, Polishing Cloth & Ebook - Black',\n",
       " 'Juarez JRZ38C/3TSNA Acoustic Guitar, 38 Inch Cutaway, 3TS Sunburst',\n",
       " 'Kadence rosewood Guitar Frontier Series, Electric Acoustic Black Guitar With EQ, Die Cast Keys, Set Of Strings, Strap, Picks And Bag (Black EQ, Electric Acoustic)',\n",
       " 'INTERN 41 inches Acoustic Guitar with truss rod. Includes carry bag, strings pack, strap & plectrums. Premium Wooden durable built, tonal stability & for all age-groups(Glossy Sunburst).…',\n",
       " 'Vault DA20 Dreadnought Acoustic Guitar With Gig-Bag, Picks, Strings Set, String Winder, Strap, Polishing Cloth And Allen Key',\n",
       " 'GUITAR BRO - COMBO (Black Acoustic Rose Wood Guitar for Beginner, Guitar Learning Kit, Song Book, Video Lectures, Accessories like Pick, Bag)',\n",
       " 'Mustang 46 PCS Guitar Strings Changing Kit Guitar Tool Kit Including Guitar Strings Guitar Tuner Picks Capo Pins Guitar String Cutter and Winder for Beginner',\n",
       " 'DEVICE OF URBAN INFOTECH 40 inch Acoustic Guitar for Beginners Adults Premium Wood Curved Cutaway Design Acoustic Guitar Kit with Carrying Gig Bag Guitar for Adults Starters Students (Blue)',\n",
       " 'Intern INT-38C-BK-G Cutaway Right Handed Acoustic Guitar Kit, with Bag, Nickel Strings, Pick And Strap (Black) -6 Strings',\n",
       " 'JUAREZ JRZ38C 38 Inches Lindenwood Right Handed Acoustic Guitar With Bag, Strings, Pick And Strap (Natural, Brown, 6 Strings)',\n",
       " 'Ibanez MD39C-NT Rose Wood Acoustic Guitar (Natural), Designed in Japan and Made Specially for India',\n",
       " 'Kadence Slowhand Premium Jumbo Semi Acoustic Guitar with Heavy Padded Bag, guitar cable, Pro Capo (Black Spruce Wood)',\n",
       " 'Intern INT-38C Acoustic Guitar Kit (Red)',\n",
       " 'Yamaha FS80C 25 Incheses sprucewood The Ultimate Concert Body Cutaway Acoustic Guitar (Black) With Bajaao Gig-Bag',\n",
       " 'Juarez Acoustic Guitar, 38 Inch Cutaway, JRZ38C/BKNA Black',\n",
       " 'Juarez Acoustic Guitar, [ LEFT HANDED] 38 Inch Cutaway, 38CL/BK with Bag, Strings, Pick and Strap, Black',\n",
       " 'Yamaha F280 Acoustic sprucewood Guitar Dreadnought With Mexa Guitar Bag, Belt, String Set, Plectrums & Guitar StAnd (Tsb)',\n",
       " 'BLUEBERRY B-D38, Acoustic Guitar Kit Inbuilt Truss Rod with Bag, Strap, One Pack Strings And Picks - 38 Inch (Black)',\n",
       " 'Yamaha FSX80C Semi acoustic cutaway guitar (natural)',\n",
       " 'Intern INT-38C Acoustic Guitar Kit (Natural)',\n",
       " 'Intern INT-38C-SB-G Linden Wood Cutaway Right Handed Acoustic Guitar Kit, With Bag, Strings, Pick And Strap (Sunburst, 6 Strings)',\n",
       " 'AAR Store Wooden Kids 4 String Musical Guitar Classical Series Guitar Musical Instrument (23 inch_Multicolor)',\n",
       " 'PS Signature 41inch Acoustic Guitar (Natural Color) Free 1 set Strings, 3 Picks, Bag & Belt)',\n",
       " 'BLUEBERRY VIP-380, Acoustic Guitar Kit With Bag, Belt, String Set and 2 Picks - 38 Inch (Black)',\n",
       " 'Fender Acoustic Guitar Concert Cutaway Electronics FA135CE 971253522 Mahogany',\n",
       " 'Kadence Astro Man Electric Guitar, with Free learning course 24 FRETS, H- S - S PICK UPS Walnut Top with Alder wood Back and Sides With Amplifier',\n",
       " 'JUAREZ JRZ-ST01, 6 Strings Linden Wood Electric Guitar, Right Handed with Bag/Case, 2 x Picks (3TS Sunburst)',\n",
       " 'Yamaha FS100C Acoustic Guitar, Black',\n",
       " 'Intern INT-38C-VT-G 38 Incheses Cutaway Right HAnded lindenwood Acoustic Guitar Kit, With Bag, Strings, Pick And Strap (Violet, 6-Strings)',\n",
       " 'Hovner 215 Black F-Cut Rosewood Fretboard Acoustic Guitar With Bag,Strap,1 Set of Extra Strings and 2 Picks By K-Retail',\n",
       " 'Medellin 38\" Acoustic Guitar premium wood, free online learning course, Set Of Strings, Strap, Bag and 3 Picks Blue',\n",
       " 'Intern INT-38C Acoustic Guitar Kit (Purple)',\n",
       " 'YAMAHA F310, 6-Strings Rose Wood Acoustic Guitar, Natural',\n",
       " 'Revel 38 Inches Cutaway Design Acoustic Guitar with Carry bag and Plectrums. Great tone and Beginner/Learners standard size configuration for all age groups (Black)',\n",
       " 'Kadence Guitar Frontier Series, Blue Acoustic Guitar with Die Cast Keys, Set of Strings, Strap, Picks, Guitar stand, Capo and Bag, Super Combo (Blue, Acoustic)',\n",
       " 'Yamaha F280 Acoustic Guitar, Tobacco Brown Sunburst',\n",
       " 'Juarez Lindenwood Acoustic Guitar, 38 Inches Curved Body Cutaway, 38CUR With Bag, Strings, Pick And Strap (Black)',\n",
       " 'Ibanez MD39C-NT 39 Inches Rose Wood Cutaway Acoustic Guitar With Gig-Bag, Polishing Cloth And E-Book',\n",
       " 'Kadence BB01 Dreadnought Acoustic Guitar + (free online learning Course) - Natural',\n",
       " 'Vault DA20 Dreadnought Acoustic Guitar With Gig-Bag, Picks, Strings Set, String Winder, Strap, Polishing Cloth And Allen Key',\n",
       " 'Kadence Frontier guitar with Online Guitar learning course , Wine Red Acoustic Guitar with Die Cast Keys, Set of Strings, Strap, Picks and Bag (Wine Red, Acoustic)',\n",
       " 'Kadence rosewood Guitar Frontier Series, Electric Acoustic Black Guitar With EQ, Die Cast Keys, Set Of Strings, Strap, Picks And Bag (Black EQ, Electric Acoustic)',\n",
       " 'Kadence Slowhand Premium Jumbo Semi Acoustic Guitar with Heavy Padded Bag, guitar cable, Pro Capo (Black Spruce Wood)',\n",
       " 'Henrix 38C 38 Inch Cutaway Acoustic Guitar With Dual Action Truss Rod, Gigbag, Picks, String Set, String Winder, Strap, Polishing Cloth & Ebook - Natural',\n",
       " 'Juârez Acoustic Guitar, 38 Inch Cutaway, 038C with Bag, Strings, Pick and Strap, Black',\n",
       " 'Intern INT-38C Acoustic Guitar Kit (Blue)',\n",
       " 'Juarez Lindenwood Acoustic Guitar Kit, 38 Inches Cutaway, 38C With Bag, Strings, Pick And Strap, 3TS Sunburst',\n",
       " 'Juarez Lindenwood Acoustic Guitar Kit, 38 Inches Cutaway, 38C With Bag, Strings, Pick And Strap, TBS Transparent (Blue Sunburst)',\n",
       " 'Yamaha F280 Acoustic Rosewood Guitar (Natural, Beige)',\n",
       " 'Juarez JRZ-ST01 38 Inches Wood 6-String Electric Guitar, Right Handed, Full Black, With Case/Bag And Picks (Black)',\n",
       " 'Juarez Acoustic Guitar, 38 Inch Cutaway, JRZ38C/TBLSNA TRANSPARENT BLUE SUNBURST',\n",
       " 'Yamaha 16 Incheses wood Acoustic Guitar F280 Dreadnought With Mexa Sponge Bag Belt,Plectrums, String Set & Guitar StAnd (Natural)',\n",
       " 'Intern 38C Ebony Wood Cutaway Design Acoustic Guitar with Picks And Carry Bag (Black)',\n",
       " 'Kadence Frontier guitar with Online Guitar learning course , Wine Red Acoustic Guitar with Die Cast Keys, Set of Strings, Strap, Picks and Bag (Wine Red, Acoustic)',\n",
       " 'Kadence Guitar Acoustica Series A05, Electric Acoustic Guitar, Zebra Wood with Pickup, Inbuilt tuner and Bag (Zebra Wood, Electro Acoustic)',\n",
       " 'Intern INT-38C-NT-G 38 Incheses lindenwood Right HAnded Acoustic Guitar Kit With Bag, Strings, Pick And Strap (Natural, 6-Strings)',\n",
       " 'Henrix 38C 38 Inch Cutaway Acoustic Guitar With Dual Action Truss Rod, Gigbag, Picks, String Set, String Winder, Strap, Polishing Cloth & Ebook - Black',\n",
       " 'Juarez JRZ38C/3TSNA Acoustic Guitar, 38 Inch Cutaway, 3TS Sunburst',\n",
       " 'Kadence rosewood Guitar Frontier Series, Electric Acoustic Black Guitar With EQ, Die Cast Keys, Set Of Strings, Strap, Picks And Bag (Black EQ, Electric Acoustic)',\n",
       " 'INTERN 41 inches Acoustic Guitar with truss rod. Includes carry bag, strings pack, strap & plectrums. Premium Wooden durable built, tonal stability & for all age-groups(Glossy Sunburst).…',\n",
       " 'Vault DA20 Dreadnought Acoustic Guitar With Gig-Bag, Picks, Strings Set, String Winder, Strap, Polishing Cloth And Allen Key',\n",
       " 'GUITAR BRO - COMBO (Black Acoustic Rose Wood Guitar for Beginner, Guitar Learning Kit, Song Book, Video Lectures, Accessories like Pick, Bag)',\n",
       " 'Mustang 46 PCS Guitar Strings Changing Kit Guitar Tool Kit Including Guitar Strings Guitar Tuner Picks Capo Pins Guitar String Cutter and Winder for Beginner',\n",
       " 'DEVICE OF URBAN INFOTECH 40 inch Acoustic Guitar for Beginners Adults Premium Wood Curved Cutaway Design Acoustic Guitar Kit with Carrying Gig Bag Guitar for Adults Starters Students (Blue)',\n",
       " 'Intern INT-38C-BK-G Cutaway Right Handed Acoustic Guitar Kit, with Bag, Nickel Strings, Pick And Strap (Black) -6 Strings',\n",
       " 'JUAREZ JRZ38C 38 Inches Lindenwood Right Handed Acoustic Guitar With Bag, Strings, Pick And Strap (Natural, Brown, 6 Strings)',\n",
       " 'Ibanez MD39C-NT Rose Wood Acoustic Guitar (Natural), Designed in Japan and Made Specially for India',\n",
       " 'Kadence Slowhand Premium Jumbo Semi Acoustic Guitar with Heavy Padded Bag, guitar cable, Pro Capo (Black Spruce Wood)',\n",
       " 'Intern INT-38C Acoustic Guitar Kit (Red)',\n",
       " 'Yamaha FS80C 25 Incheses sprucewood The Ultimate Concert Body Cutaway Acoustic Guitar (Black) With Bajaao Gig-Bag',\n",
       " 'Juarez Acoustic Guitar, 38 Inch Cutaway, JRZ38C/BKNA Black',\n",
       " 'Juarez Acoustic Guitar, [ LEFT HANDED] 38 Inch Cutaway, 38CL/BK with Bag, Strings, Pick and Strap, Black',\n",
       " 'Yamaha F280 Acoustic sprucewood Guitar Dreadnought With Mexa Guitar Bag, Belt, String Set, Plectrums & Guitar StAnd (Tsb)',\n",
       " 'BLUEBERRY B-D38, Acoustic Guitar Kit Inbuilt Truss Rod with Bag, Strap, One Pack Strings And Picks - 38 Inch (Black)',\n",
       " 'Yamaha FSX80C Semi acoustic cutaway guitar (natural)',\n",
       " 'Intern INT-38C Acoustic Guitar Kit (Natural)',\n",
       " 'Intern INT-38C-SB-G Linden Wood Cutaway Right Handed Acoustic Guitar Kit, With Bag, Strings, Pick And Strap (Sunburst, 6 Strings)',\n",
       " 'AAR Store Wooden Kids 4 String Musical Guitar Classical Series Guitar Musical Instrument (23 inch_Multicolor)',\n",
       " 'PS Signature 41inch Acoustic Guitar (Natural Color) Free 1 set Strings, 3 Picks, Bag & Belt)',\n",
       " 'BLUEBERRY VIP-380, Acoustic Guitar Kit With Bag, Belt, String Set and 2 Picks - 38 Inch (Black)',\n",
       " 'Fender Acoustic Guitar Concert Cutaway Electronics FA135CE 971253522 Mahogany',\n",
       " 'Kadence Astro Man Electric Guitar, with Free learning course 24 FRETS, H- S - S PICK UPS Walnut Top with Alder wood Back and Sides With Amplifier',\n",
       " 'JUAREZ JRZ-ST01, 6 Strings Linden Wood Electric Guitar, Right Handed with Bag/Case, 2 x Picks (3TS Sunburst)',\n",
       " 'Yamaha FS100C Acoustic Guitar, Black',\n",
       " 'Intern INT-38C-VT-G 38 Incheses Cutaway Right HAnded lindenwood Acoustic Guitar Kit, With Bag, Strings, Pick And Strap (Violet, 6-Strings)',\n",
       " 'Hovner 215 Black F-Cut Rosewood Fretboard Acoustic Guitar With Bag,Strap,1 Set of Extra Strings and 2 Picks By K-Retail',\n",
       " 'Medellin 38\" Acoustic Guitar premium wood, free online learning course, Set Of Strings, Strap, Bag and 3 Picks Blue',\n",
       " 'Intern INT-38C Acoustic Guitar Kit (Purple)',\n",
       " 'YAMAHA F310, 6-Strings Rose Wood Acoustic Guitar, Natural',\n",
       " 'Revel 38 Inches Cutaway Design Acoustic Guitar with Carry bag and Plectrums. Great tone and Beginner/Learners standard size configuration for all age groups (Black)',\n",
       " 'Kadence Guitar Frontier Series, Blue Acoustic Guitar with Die Cast Keys, Set of Strings, Strap, Picks, Guitar stand, Capo and Bag, Super Combo (Blue, Acoustic)',\n",
       " 'Yamaha F280 Acoustic Guitar, Tobacco Brown Sunburst',\n",
       " 'Juarez Lindenwood Acoustic Guitar, 38 Inches Curved Body Cutaway, 38CUR With Bag, Strings, Pick And Strap (Black)',\n",
       " 'Ibanez MD39C-NT 39 Inches Rose Wood Cutaway Acoustic Guitar With Gig-Bag, Polishing Cloth And E-Book',\n",
       " 'Kadence BB01 Dreadnought Acoustic Guitar + (free online learning Course) - Natural',\n",
       " 'Vault DA20 Dreadnought Acoustic Guitar With Gig-Bag, Picks, Strings Set, String Winder, Strap, Polishing Cloth And Allen Key',\n",
       " 'Kadence Frontier guitar with Online Guitar learning course , Wine Red Acoustic Guitar with Die Cast Keys, Set of Strings, Strap, Picks and Bag (Wine Red, Acoustic)',\n",
       " 'Kadence rosewood Guitar Frontier Series, Electric Acoustic Black Guitar With EQ, Die Cast Keys, Set Of Strings, Strap, Picks And Bag (Black EQ, Electric Acoustic)',\n",
       " 'Kadence Slowhand Premium Jumbo Semi Acoustic Guitar with Heavy Padded Bag, guitar cable, Pro Capo (Black Spruce Wood)',\n",
       " 'Henrix 38C 38 Inch Cutaway Acoustic Guitar With Dual Action Truss Rod, Gigbag, Picks, String Set, String Winder, Strap, Polishing Cloth & Ebook - Natural',\n",
       " 'Juârez Acoustic Guitar, 38 Inch Cutaway, 038C with Bag, Strings, Pick and Strap, Black',\n",
       " 'Intern INT-38C Acoustic Guitar Kit (Blue)',\n",
       " 'Juarez Lindenwood Acoustic Guitar Kit, 38 Inches Cutaway, 38C With Bag, Strings, Pick And Strap, 3TS Sunburst',\n",
       " 'Juarez Lindenwood Acoustic Guitar Kit, 38 Inches Cutaway, 38C With Bag, Strings, Pick And Strap, TBS Transparent (Blue Sunburst)',\n",
       " 'Yamaha F280 Acoustic Rosewood Guitar (Natural, Beige)',\n",
       " 'Juarez JRZ-ST01 38 Inches Wood 6-String Electric Guitar, Right Handed, Full Black, With Case/Bag And Picks (Black)',\n",
       " 'Juarez Acoustic Guitar, 38 Inch Cutaway, JRZ38C/TBLSNA TRANSPARENT BLUE SUNBURST',\n",
       " 'Yamaha 16 Incheses wood Acoustic Guitar F280 Dreadnought With Mexa Sponge Bag Belt,Plectrums, String Set & Guitar StAnd (Natural)',\n",
       " 'Intern 38C Ebony Wood Cutaway Design Acoustic Guitar with Picks And Carry Bag (Black)',\n",
       " 'Kadence Frontier guitar with Online Guitar learning course , Wine Red Acoustic Guitar with Die Cast Keys, Set of Strings, Strap, Picks and Bag (Wine Red, Acoustic)',\n",
       " 'Kadence Guitar Acoustica Series A05, Electric Acoustic Guitar, Zebra Wood with Pickup, Inbuilt tuner and Bag (Zebra Wood, Electro Acoustic)',\n",
       " 'Intern INT-38C-NT-G 38 Incheses lindenwood Right HAnded Acoustic Guitar Kit With Bag, Strings, Pick And Strap (Natural, 6-Strings)',\n",
       " 'Henrix 38C 38 Inch Cutaway Acoustic Guitar With Dual Action Truss Rod, Gigbag, Picks, String Set, String Winder, Strap, Polishing Cloth & Ebook - Black',\n",
       " 'Juarez JRZ38C/3TSNA Acoustic Guitar, 38 Inch Cutaway, 3TS Sunburst',\n",
       " 'Kadence rosewood Guitar Frontier Series, Electric Acoustic Black Guitar With EQ, Die Cast Keys, Set Of Strings, Strap, Picks And Bag (Black EQ, Electric Acoustic)',\n",
       " 'INTERN 41 inches Acoustic Guitar with truss rod. Includes carry bag, strings pack, strap & plectrums. Premium Wooden durable built, tonal stability & for all age-groups(Glossy Sunburst).…',\n",
       " 'Vault DA20 Dreadnought Acoustic Guitar With Gig-Bag, Picks, Strings Set, String Winder, Strap, Polishing Cloth And Allen Key',\n",
       " 'GUITAR BRO - COMBO (Black Acoustic Rose Wood Guitar for Beginner, Guitar Learning Kit, Song Book, Video Lectures, Accessories like Pick, Bag)',\n",
       " 'Mustang 46 PCS Guitar Strings Changing Kit Guitar Tool Kit Including Guitar Strings Guitar Tuner Picks Capo Pins Guitar String Cutter and Winder for Beginner',\n",
       " 'DEVICE OF URBAN INFOTECH 40 inch Acoustic Guitar for Beginners Adults Premium Wood Curved Cutaway Design Acoustic Guitar Kit with Carrying Gig Bag Guitar for Adults Starters Students (Blue)',\n",
       " 'Intern INT-38C-BK-G Cutaway Right Handed Acoustic Guitar Kit, with Bag, Nickel Strings, Pick And Strap (Black) -6 Strings',\n",
       " 'JUAREZ JRZ38C 38 Inches Lindenwood Right Handed Acoustic Guitar With Bag, Strings, Pick And Strap (Natural, Brown, 6 Strings)',\n",
       " 'Ibanez MD39C-NT Rose Wood Acoustic Guitar (Natural), Designed in Japan and Made Specially for India',\n",
       " 'Kadence Slowhand Premium Jumbo Semi Acoustic Guitar with Heavy Padded Bag, guitar cable, Pro Capo (Black Spruce Wood)',\n",
       " 'Intern INT-38C Acoustic Guitar Kit (Red)',\n",
       " 'Yamaha FS80C 25 Incheses sprucewood The Ultimate Concert Body Cutaway Acoustic Guitar (Black) With Bajaao Gig-Bag',\n",
       " 'Juarez Acoustic Guitar, 38 Inch Cutaway, JRZ38C/BKNA Black',\n",
       " 'Juarez Acoustic Guitar, [ LEFT HANDED] 38 Inch Cutaway, 38CL/BK with Bag, Strings, Pick and Strap, Black',\n",
       " 'Yamaha F280 Acoustic sprucewood Guitar Dreadnought With Mexa Guitar Bag, Belt, String Set, Plectrums & Guitar StAnd (Tsb)',\n",
       " 'BLUEBERRY B-D38, Acoustic Guitar Kit Inbuilt Truss Rod with Bag, Strap, One Pack Strings And Picks - 38 Inch (Black)',\n",
       " 'Yamaha FSX80C Semi acoustic cutaway guitar (natural)',\n",
       " 'Intern INT-38C Acoustic Guitar Kit (Natural)',\n",
       " 'Intern INT-38C-SB-G Linden Wood Cutaway Right Handed Acoustic Guitar Kit, With Bag, Strings, Pick And Strap (Sunburst, 6 Strings)',\n",
       " 'AAR Store Wooden Kids 4 String Musical Guitar Classical Series Guitar Musical Instrument (23 inch_Multicolor)',\n",
       " 'PS Signature 41inch Acoustic Guitar (Natural Color) Free 1 set Strings, 3 Picks, Bag & Belt)',\n",
       " 'BLUEBERRY VIP-380, Acoustic Guitar Kit With Bag, Belt, String Set and 2 Picks - 38 Inch (Black)',\n",
       " 'Fender Acoustic Guitar Concert Cutaway Electronics FA135CE 971253522 Mahogany',\n",
       " 'Kadence Astro Man Electric Guitar, with Free learning course 24 FRETS, H- S - S PICK UPS Walnut Top with Alder wood Back and Sides With Amplifier',\n",
       " 'JUAREZ JRZ-ST01, 6 Strings Linden Wood Electric Guitar, Right Handed with Bag/Case, 2 x Picks (3TS Sunburst)',\n",
       " 'Yamaha FS100C Acoustic Guitar, Black',\n",
       " 'Intern INT-38C-VT-G 38 Incheses Cutaway Right HAnded lindenwood Acoustic Guitar Kit, With Bag, Strings, Pick And Strap (Violet, 6-Strings)',\n",
       " 'Hovner 215 Black F-Cut Rosewood Fretboard Acoustic Guitar With Bag,Strap,1 Set of Extra Strings and 2 Picks By K-Retail',\n",
       " 'Medellin 38\" Acoustic Guitar premium wood, free online learning course, Set Of Strings, Strap, Bag and 3 Picks Blue',\n",
       " 'Intern INT-38C Acoustic Guitar Kit (Purple)',\n",
       " 'YAMAHA F310, 6-Strings Rose Wood Acoustic Guitar, Natural',\n",
       " 'Revel 38 Inches Cutaway Design Acoustic Guitar with Carry bag and Plectrums. Great tone and Beginner/Learners standard size configuration for all age groups (Black)',\n",
       " 'Kadence Guitar Frontier Series, Blue Acoustic Guitar with Die Cast Keys, Set of Strings, Strap, Picks, Guitar stand, Capo and Bag, Super Combo (Blue, Acoustic)',\n",
       " 'Yamaha F280 Acoustic Guitar, Tobacco Brown Sunburst',\n",
       " 'Juarez Lindenwood Acoustic Guitar, 38 Inches Curved Body Cutaway, 38CUR With Bag, Strings, Pick And Strap (Black)',\n",
       " 'Ibanez MD39C-NT 39 Inches Rose Wood Cutaway Acoustic Guitar With Gig-Bag, Polishing Cloth And E-Book',\n",
       " 'Kadence BB01 Dreadnought Acoustic Guitar + (free online learning Course) - Natural',\n",
       " 'Vault DA20 Dreadnought Acoustic Guitar With Gig-Bag, Picks, Strings Set, String Winder, Strap, Polishing Cloth And Allen Key']"
      ]
     },
     "execution_count": 59,
     "metadata": {},
     "output_type": "execute_result"
    }
   ],
   "source": [
    "Brands"
   ]
  },
  {
   "cell_type": "code",
   "execution_count": 63,
   "id": "0e4285b4",
   "metadata": {},
   "outputs": [],
   "source": [
    "price=[]\n",
    "start=0\n",
    "end=3\n",
    "for page in range(start,end):\n",
    "    pr=q1.find_elements(By.CLASS_NAME,'a-price-whole')\n",
    "    for i in pr:\n",
    "        price.append(i.text)\n",
    "    nextb=q1.find_elements(By.XPATH,'/html/body/div[1]/div[1]/div[1]/div[1]/div/span[1]/div[1]/div[67]/div/div/span/a[3]')\n",
    "    time.sleep(3)"
   ]
  },
  {
   "cell_type": "code",
   "execution_count": 65,
   "id": "7e043a2e",
   "metadata": {},
   "outputs": [
    {
     "data": {
      "text/plain": [
       "['6,651',\n",
       " '5,999',\n",
       " '6,999',\n",
       " '3,960',\n",
       " '4,275',\n",
       " '7,999',\n",
       " '2,799',\n",
       " '1,899',\n",
       " '2,204',\n",
       " '1,899',\n",
       " '6,651',\n",
       " '1,899',\n",
       " '7,499',\n",
       " '5,299',\n",
       " '1,789',\n",
       " '8,790',\n",
       " '2,106',\n",
       " '3,960',\n",
       " '5,999',\n",
       " '2,099',\n",
       " '2,849',\n",
       " '1,789',\n",
       " '4,275',\n",
       " '4,009',\n",
       " '4,649',\n",
       " '8,999',\n",
       " '895',\n",
       " '5,449',\n",
       " '2,199',\n",
       " '2,634',\n",
       " '7,249',\n",
       " '7,999',\n",
       " '2,249',\n",
       " '8,890',\n",
       " '1,789',\n",
       " '2,669',\n",
       " '8,990',\n",
       " '2,515',\n",
       " '12,418',\n",
       " '2,399',\n",
       " '2,351',\n",
       " '699',\n",
       " '3,419',\n",
       " '2,999',\n",
       " '19,601',\n",
       " '9,999',\n",
       " '5,314',\n",
       " '9,599',\n",
       " '2,399',\n",
       " '4,351',\n",
       " '2,199',\n",
       " '2,249',\n",
       " '9,700',\n",
       " '4,999',\n",
       " '7,950',\n",
       " '2,411',\n",
       " '7,600',\n",
       " '3,999',\n",
       " '4,649',\n",
       " '298',\n",
       " '6,651',\n",
       " '5,999',\n",
       " '6,999',\n",
       " '3,960',\n",
       " '4,275',\n",
       " '7,999',\n",
       " '2,799',\n",
       " '1,899',\n",
       " '2,204',\n",
       " '1,899',\n",
       " '6,651',\n",
       " '1,899',\n",
       " '7,499',\n",
       " '5,299',\n",
       " '1,789',\n",
       " '8,790',\n",
       " '2,106',\n",
       " '3,960',\n",
       " '5,999',\n",
       " '2,099',\n",
       " '2,849',\n",
       " '1,789',\n",
       " '4,275',\n",
       " '4,009',\n",
       " '4,649',\n",
       " '8,999',\n",
       " '895',\n",
       " '5,449',\n",
       " '2,199',\n",
       " '2,634',\n",
       " '7,249',\n",
       " '7,999',\n",
       " '2,249',\n",
       " '8,890',\n",
       " '1,789',\n",
       " '2,669',\n",
       " '8,990',\n",
       " '2,515',\n",
       " '12,418',\n",
       " '2,399',\n",
       " '2,351',\n",
       " '699',\n",
       " '3,419',\n",
       " '2,999',\n",
       " '19,601',\n",
       " '9,999',\n",
       " '5,314',\n",
       " '9,599',\n",
       " '2,399',\n",
       " '4,351',\n",
       " '2,199',\n",
       " '2,249',\n",
       " '9,700',\n",
       " '4,999',\n",
       " '7,950',\n",
       " '2,411',\n",
       " '7,600',\n",
       " '3,999',\n",
       " '4,649',\n",
       " '298',\n",
       " '6,651',\n",
       " '5,999',\n",
       " '6,999',\n",
       " '3,960',\n",
       " '4,275',\n",
       " '7,999',\n",
       " '2,799',\n",
       " '1,899',\n",
       " '2,204',\n",
       " '1,899',\n",
       " '6,651',\n",
       " '1,899',\n",
       " '7,499',\n",
       " '5,299',\n",
       " '1,789',\n",
       " '8,790',\n",
       " '2,106',\n",
       " '3,960',\n",
       " '5,999',\n",
       " '2,099',\n",
       " '2,849',\n",
       " '1,789',\n",
       " '4,275',\n",
       " '4,009',\n",
       " '4,649',\n",
       " '8,999',\n",
       " '895',\n",
       " '5,449',\n",
       " '2,199',\n",
       " '2,634',\n",
       " '7,249',\n",
       " '7,999',\n",
       " '2,249',\n",
       " '8,890',\n",
       " '1,789',\n",
       " '2,669',\n",
       " '8,990',\n",
       " '2,515',\n",
       " '12,418',\n",
       " '2,399',\n",
       " '2,351',\n",
       " '699',\n",
       " '3,419',\n",
       " '2,999',\n",
       " '19,601',\n",
       " '9,999',\n",
       " '5,314',\n",
       " '9,599',\n",
       " '2,399',\n",
       " '4,351',\n",
       " '2,199',\n",
       " '2,249',\n",
       " '9,700',\n",
       " '4,999',\n",
       " '7,950',\n",
       " '2,411',\n",
       " '7,600',\n",
       " '3,999',\n",
       " '4,649',\n",
       " '298']"
      ]
     },
     "execution_count": 65,
     "metadata": {},
     "output_type": "execute_result"
    }
   ],
   "source": [
    "price"
   ]
  },
  {
   "cell_type": "code",
   "execution_count": 79,
   "id": "bbead253",
   "metadata": {},
   "outputs": [
    {
     "data": {
      "text/plain": [
       "180"
      ]
     },
     "execution_count": 79,
     "metadata": {},
     "output_type": "execute_result"
    }
   ],
   "source": [
    "len(price)"
   ]
  },
  {
   "cell_type": "code",
   "execution_count": 80,
   "id": "fda15b2c",
   "metadata": {},
   "outputs": [],
   "source": [
    "nPr=price[0:150]"
   ]
  },
  {
   "cell_type": "code",
   "execution_count": 68,
   "id": "f7ac48a7",
   "metadata": {},
   "outputs": [],
   "source": [
    "Expected_delivery=[]\n",
    "start=0\n",
    "end=3\n",
    "for page in range(start,end):\n",
    "    expected=q1.find_elements(By.XPATH,'//div[@class=\"a-row a-size-base a-color-secondary s-align-children-center\"]/div/span[2]')\n",
    "    for i in expected:\n",
    "        Expected_delivery.append(i.text)\n",
    "    nextb=q1.find_elements(By.XPATH,'/html/body/div[1]/div[1]/div[1]/div[1]/div/span[1]/div[1]/div[63]/div/div/span/a[3]')\n",
    "    time.sleep(3)"
   ]
  },
  {
   "cell_type": "code",
   "execution_count": null,
   "id": "83b9e5aa",
   "metadata": {},
   "outputs": [],
   "source": []
  },
  {
   "cell_type": "code",
   "execution_count": 81,
   "id": "7366c88f",
   "metadata": {},
   "outputs": [
    {
     "data": {
      "text/plain": [
       "159"
      ]
     },
     "execution_count": 81,
     "metadata": {},
     "output_type": "execute_result"
    }
   ],
   "source": [
    "len(Expected_delivery)"
   ]
  },
  {
   "cell_type": "code",
   "execution_count": 82,
   "id": "ef93c0ed",
   "metadata": {},
   "outputs": [],
   "source": [
    "nE=Expected_delivery[0:150]"
   ]
  },
  {
   "cell_type": "code",
   "execution_count": 74,
   "id": "5f0777b9",
   "metadata": {},
   "outputs": [],
   "source": [
    "product_url=[]\n",
    "start=0\n",
    "end=3\n",
    "for page in range(start,end):\n",
    "    url=q1.find_elements(By.XPATH,'//h2[@class=\"a-size-mini a-spacing-none a-color-base s-line-clamp-4\"]/a')\n",
    "    for i in url:\n",
    "        product_url.append(i.get_attribute('href'))\n",
    "    nextb=q1.find_elements(By.XPATH,'/html/body/div[1]/div[1]/div[1]/div[1]/div/span[1]/div[1]/div[63]/div/div/span/a[3]')\n",
    "    time.sleep(3)"
   ]
  },
  {
   "cell_type": "code",
   "execution_count": 83,
   "id": "da958190",
   "metadata": {},
   "outputs": [
    {
     "data": {
      "text/plain": [
       "168"
      ]
     },
     "execution_count": 83,
     "metadata": {},
     "output_type": "execute_result"
    }
   ],
   "source": [
    "len(product_url)"
   ]
  },
  {
   "cell_type": "code",
   "execution_count": 84,
   "id": "4b4b030e",
   "metadata": {},
   "outputs": [],
   "source": [
    "nPurl=product_url[0:150]"
   ]
  },
  {
   "cell_type": "code",
   "execution_count": 85,
   "id": "856ee0f9",
   "metadata": {},
   "outputs": [],
   "source": [
    "amazondf=pd.DataFrame({'Brands':nB,'price':nPr,\"Expected delivery\":nE,\"Product url\":nPurl})"
   ]
  },
  {
   "cell_type": "code",
   "execution_count": 89,
   "id": "c56bd3d6",
   "metadata": {},
   "outputs": [
    {
     "data": {
      "text/html": [
       "<div>\n",
       "<style scoped>\n",
       "    .dataframe tbody tr th:only-of-type {\n",
       "        vertical-align: middle;\n",
       "    }\n",
       "\n",
       "    .dataframe tbody tr th {\n",
       "        vertical-align: top;\n",
       "    }\n",
       "\n",
       "    .dataframe thead th {\n",
       "        text-align: right;\n",
       "    }\n",
       "</style>\n",
       "<table border=\"1\" class=\"dataframe\">\n",
       "  <thead>\n",
       "    <tr style=\"text-align: right;\">\n",
       "      <th></th>\n",
       "      <th>Brands</th>\n",
       "      <th>price</th>\n",
       "      <th>Expected delivery</th>\n",
       "      <th>Product url</th>\n",
       "    </tr>\n",
       "  </thead>\n",
       "  <tbody>\n",
       "    <tr>\n",
       "      <th>0</th>\n",
       "      <td>Kadence Frontier guitar with Online Guitar lea...</td>\n",
       "      <td>6,651</td>\n",
       "      <td>Get it by Tomorrow, 10 November</td>\n",
       "      <td>https://www.amazon.in/sspa/click?ie=UTF8&amp;spc=M...</td>\n",
       "    </tr>\n",
       "    <tr>\n",
       "      <th>1</th>\n",
       "      <td>Kadence rosewood Guitar Frontier Series, Elect...</td>\n",
       "      <td>5,999</td>\n",
       "      <td>Get it by Thursday, 16 November</td>\n",
       "      <td>https://www.amazon.in/sspa/click?ie=UTF8&amp;spc=M...</td>\n",
       "    </tr>\n",
       "    <tr>\n",
       "      <th>2</th>\n",
       "      <td>Kadence Slowhand Premium Jumbo Semi Acoustic G...</td>\n",
       "      <td>6,999</td>\n",
       "      <td>Get it by Tomorrow, 10 November</td>\n",
       "      <td>https://www.amazon.in/sspa/click?ie=UTF8&amp;spc=M...</td>\n",
       "    </tr>\n",
       "    <tr>\n",
       "      <th>3</th>\n",
       "      <td>Henrix 38C 38 Inch Cutaway Acoustic Guitar Wit...</td>\n",
       "      <td>3,960</td>\n",
       "      <td>Get it by Monday, 20 November</td>\n",
       "      <td>https://www.amazon.in/sspa/click?ie=UTF8&amp;spc=M...</td>\n",
       "    </tr>\n",
       "    <tr>\n",
       "      <th>4</th>\n",
       "      <td>Juârez Acoustic Guitar, 38 Inch Cutaway, 038C ...</td>\n",
       "      <td>4,275</td>\n",
       "      <td>Get it by Thursday, 16 November</td>\n",
       "      <td>https://www.amazon.in/Juarez-Acoustic-Cutaway-...</td>\n",
       "    </tr>\n",
       "    <tr>\n",
       "      <th>...</th>\n",
       "      <td>...</td>\n",
       "      <td>...</td>\n",
       "      <td>...</td>\n",
       "      <td>...</td>\n",
       "    </tr>\n",
       "    <tr>\n",
       "      <th>145</th>\n",
       "      <td>BLUEBERRY B-D38, Acoustic Guitar Kit Inbuilt T...</td>\n",
       "      <td>8,999</td>\n",
       "      <td>Get it by Tomorrow, 10 November</td>\n",
       "      <td>https://www.amazon.in/Blueberry-B-D38-Acoustic...</td>\n",
       "    </tr>\n",
       "    <tr>\n",
       "      <th>146</th>\n",
       "      <td>Yamaha FSX80C Semi acoustic cutaway guitar (na...</td>\n",
       "      <td>895</td>\n",
       "      <td>Get it by Thursday, 16 November</td>\n",
       "      <td>https://www.amazon.in/Yamaha-FSX80C-Acoustic-C...</td>\n",
       "    </tr>\n",
       "    <tr>\n",
       "      <th>147</th>\n",
       "      <td>Intern INT-38C Acoustic Guitar Kit (Natural)</td>\n",
       "      <td>5,449</td>\n",
       "      <td>Get it by Tomorrow, 10 November</td>\n",
       "      <td>https://www.amazon.in/Intern-INT-38C-Acoustic-...</td>\n",
       "    </tr>\n",
       "    <tr>\n",
       "      <th>148</th>\n",
       "      <td>Intern INT-38C-SB-G Linden Wood Cutaway Right ...</td>\n",
       "      <td>2,199</td>\n",
       "      <td>Get it by Friday, 17 November</td>\n",
       "      <td>https://www.amazon.in/Intern-INT-38C-SB-G-Guit...</td>\n",
       "    </tr>\n",
       "    <tr>\n",
       "      <th>149</th>\n",
       "      <td>AAR Store Wooden Kids 4 String Musical Guitar ...</td>\n",
       "      <td>2,634</td>\n",
       "      <td>Get it by Tomorrow, 10 November</td>\n",
       "      <td>https://www.amazon.in/AAR-Store-Classical-Inst...</td>\n",
       "    </tr>\n",
       "  </tbody>\n",
       "</table>\n",
       "<p>150 rows × 4 columns</p>\n",
       "</div>"
      ],
      "text/plain": [
       "                                                Brands  price  \\\n",
       "0    Kadence Frontier guitar with Online Guitar lea...  6,651   \n",
       "1    Kadence rosewood Guitar Frontier Series, Elect...  5,999   \n",
       "2    Kadence Slowhand Premium Jumbo Semi Acoustic G...  6,999   \n",
       "3    Henrix 38C 38 Inch Cutaway Acoustic Guitar Wit...  3,960   \n",
       "4    Juârez Acoustic Guitar, 38 Inch Cutaway, 038C ...  4,275   \n",
       "..                                                 ...    ...   \n",
       "145  BLUEBERRY B-D38, Acoustic Guitar Kit Inbuilt T...  8,999   \n",
       "146  Yamaha FSX80C Semi acoustic cutaway guitar (na...    895   \n",
       "147       Intern INT-38C Acoustic Guitar Kit (Natural)  5,449   \n",
       "148  Intern INT-38C-SB-G Linden Wood Cutaway Right ...  2,199   \n",
       "149  AAR Store Wooden Kids 4 String Musical Guitar ...  2,634   \n",
       "\n",
       "                   Expected delivery  \\\n",
       "0    Get it by Tomorrow, 10 November   \n",
       "1    Get it by Thursday, 16 November   \n",
       "2    Get it by Tomorrow, 10 November   \n",
       "3      Get it by Monday, 20 November   \n",
       "4    Get it by Thursday, 16 November   \n",
       "..                               ...   \n",
       "145  Get it by Tomorrow, 10 November   \n",
       "146  Get it by Thursday, 16 November   \n",
       "147  Get it by Tomorrow, 10 November   \n",
       "148    Get it by Friday, 17 November   \n",
       "149  Get it by Tomorrow, 10 November   \n",
       "\n",
       "                                           Product url  \n",
       "0    https://www.amazon.in/sspa/click?ie=UTF8&spc=M...  \n",
       "1    https://www.amazon.in/sspa/click?ie=UTF8&spc=M...  \n",
       "2    https://www.amazon.in/sspa/click?ie=UTF8&spc=M...  \n",
       "3    https://www.amazon.in/sspa/click?ie=UTF8&spc=M...  \n",
       "4    https://www.amazon.in/Juarez-Acoustic-Cutaway-...  \n",
       "..                                                 ...  \n",
       "145  https://www.amazon.in/Blueberry-B-D38-Acoustic...  \n",
       "146  https://www.amazon.in/Yamaha-FSX80C-Acoustic-C...  \n",
       "147  https://www.amazon.in/Intern-INT-38C-Acoustic-...  \n",
       "148  https://www.amazon.in/Intern-INT-38C-SB-G-Guit...  \n",
       "149  https://www.amazon.in/AAR-Store-Classical-Inst...  \n",
       "\n",
       "[150 rows x 4 columns]"
      ]
     },
     "execution_count": 89,
     "metadata": {},
     "output_type": "execute_result"
    }
   ],
   "source": [
    "amazondf"
   ]
  },
  {
   "cell_type": "code",
   "execution_count": 153,
   "id": "21d0c592",
   "metadata": {},
   "outputs": [],
   "source": [
    "q3=webdriver.Chrome()"
   ]
  },
  {
   "cell_type": "code",
   "execution_count": 154,
   "id": "5496ddc0",
   "metadata": {},
   "outputs": [],
   "source": [
    "q3.get(\"https://images.google.com/\")"
   ]
  },
  {
   "cell_type": "code",
   "execution_count": 182,
   "id": "10ce1fea",
   "metadata": {},
   "outputs": [
    {
     "name": "stdout",
     "output_type": "stream",
     "text": [
      "Enter words:-cakes\n"
     ]
    }
   ],
   "source": [
    "fruit_search=q3.find_element(By.XPATH,'/html/body/div[1]/div[3]/form/div[1]/div[1]/div[1]/div/div[2]/textarea')\n",
    "fruit_search.send_keys(input(\"Enter words:-\"))"
   ]
  },
  {
   "cell_type": "code",
   "execution_count": 183,
   "id": "273f59ae",
   "metadata": {},
   "outputs": [],
   "source": [
    "search=q3.find_element(By.XPATH,'/html/body/div[1]/div[3]/form/div[1]/div[1]/div[1]/button/div/span')\n",
    "search.click()"
   ]
  },
  {
   "cell_type": "code",
   "execution_count": null,
   "id": "8089c817",
   "metadata": {},
   "outputs": [],
   "source": []
  },
  {
   "cell_type": "code",
   "execution_count": 116,
   "id": "ecf9c25a",
   "metadata": {},
   "outputs": [],
   "source": [
    "import bs4\n",
    "from bs4 import BeautifulSoup"
   ]
  },
  {
   "cell_type": "code",
   "execution_count": 166,
   "id": "d19de5d0",
   "metadata": {},
   "outputs": [],
   "source": [
    "fruits=[]\n",
    "fruit_img=q3.find_elements(By.XPATH,'//div[@class=\"isv-r PNCib ViTmJb BUooTd\"]//a[2]')\n",
    "for i in fruit_img:\n",
    "    fruits.append(i.get_attribute('href'))\n",
    "\n"
   ]
  },
  {
   "cell_type": "code",
   "execution_count": 168,
   "id": "9fa261ce",
   "metadata": {},
   "outputs": [],
   "source": [
    "cars=[]\n",
    "car_img=q3.find_elements(By.XPATH,'//div[@class=\"isv-r PNCib ViTmJb BUooTd\"]/a[2]')\n",
    "for i in car_img:\n",
    "    cars.append(i.get_attribute('href'))"
   ]
  },
  {
   "cell_type": "code",
   "execution_count": 177,
   "id": "accd501a",
   "metadata": {},
   "outputs": [
    {
     "data": {
      "text/plain": [
       "['https://www.forbes.com/sites/jimgorzelany/2019/07/23/here-are-the-coolest-new-cars-for-2020/',\n",
       " 'https://www.architecturaldigest.com/gallery/cars-future-bentley-bugatti-lamborghini',\n",
       " 'https://www.roadandtrack.com/car-culture/g6404/nine-of-the-greatest-modern-v10-cars/',\n",
       " 'https://www.pixar.com/feature-films/cars',\n",
       " 'https://www.carwow.co.uk/best/best-supercars',\n",
       " 'https://www.freepik.com/free-photos-vectors/car-wallpaper',\n",
       " 'https://www.sixt.com/magazine/tips/top-10-fastest-cars-in-the-world/',\n",
       " 'https://www.pexels.com/search/car/',\n",
       " 'https://www.carandbike.com/nissan-cars',\n",
       " 'https://www.imdb.com/title/tt0317219/']"
      ]
     },
     "execution_count": 177,
     "metadata": {},
     "output_type": "execute_result"
    }
   ],
   "source": [
    "fruits[0:10]"
   ]
  },
  {
   "cell_type": "code",
   "execution_count": null,
   "id": "4d00f488",
   "metadata": {},
   "outputs": [],
   "source": []
  },
  {
   "cell_type": "code",
   "execution_count": null,
   "id": "224d172c",
   "metadata": {},
   "outputs": [],
   "source": []
  },
  {
   "cell_type": "code",
   "execution_count": 176,
   "id": "1e747e9f",
   "metadata": {},
   "outputs": [
    {
     "data": {
      "text/plain": [
       "['https://www.forbes.com/sites/jimgorzelany/2019/07/23/here-are-the-coolest-new-cars-for-2020/',\n",
       " 'https://www.architecturaldigest.com/gallery/cars-future-bentley-bugatti-lamborghini',\n",
       " 'https://www.roadandtrack.com/car-culture/g6404/nine-of-the-greatest-modern-v10-cars/',\n",
       " 'https://www.pixar.com/feature-films/cars',\n",
       " 'https://www.carwow.co.uk/best/best-supercars',\n",
       " 'https://www.freepik.com/free-photos-vectors/car-wallpaper',\n",
       " 'https://www.sixt.com/magazine/tips/top-10-fastest-cars-in-the-world/',\n",
       " 'https://www.pexels.com/search/car/',\n",
       " 'https://www.carandbike.com/nissan-cars',\n",
       " 'https://www.imdb.com/title/tt0317219/']"
      ]
     },
     "execution_count": 176,
     "metadata": {},
     "output_type": "execute_result"
    }
   ],
   "source": [
    "cars[0:10]"
   ]
  },
  {
   "cell_type": "code",
   "execution_count": 174,
   "id": "93405137",
   "metadata": {},
   "outputs": [
    {
     "data": {
      "text/plain": [
       "['https://www.udacity.com/course/machine-learning--ud262',\n",
       " 'https://www.fsm.ac.in/blog/an-introduction-to-machine-learning-its-importance-types-and-applications/',\n",
       " 'https://towardsdatascience.com/machine-learning-types-2-c1291d4f04b1',\n",
       " 'https://www.atriainnovation.com/en/machine-learning-in-industry/',\n",
       " 'https://www.forbes.com/sites/kalevleetaru/2019/01/15/why-machine-learning-needs-semantics-not-just-statistics/',\n",
       " 'https://builtin.com/artificial-intelligence/machine-learning-examples-applications',\n",
       " 'https://www.scs.org.sg/articles/machine-learning-vs-deep-learning',\n",
       " 'https://www.insiris.com/blog/machine-learning-in-the-real-world',\n",
       " 'https://www.analyticsvidhya.com/blog/2021/03/everything-you-need-to-know-about-machine-learning/',\n",
       " 'https://towardsdatascience.com/introduction-to-machine-learning-for-beginners-eed6024fdb08']"
      ]
     },
     "execution_count": 174,
     "metadata": {},
     "output_type": "execute_result"
    }
   ],
   "source": [
    "machine_learning=[]\n",
    "ml=q3.find_elements(By.XPATH,'//div[@class=\"isv-r PNCib ViTmJb BUooTd\"]/a[2]')\n",
    "for i in ml:\n",
    "    machine_learning.append(i.get_attribute('href'))\n",
    "    \n",
    "machine_learning[0:10]"
   ]
  },
  {
   "cell_type": "code",
   "execution_count": 180,
   "id": "f170d1ec",
   "metadata": {},
   "outputs": [
    {
     "data": {
      "text/plain": [
       "['https://en.wikipedia.org/wiki/Guitar',\n",
       " 'https://yamahamusicstore.in/fs-ta-vintage-tint-zu63730.html',\n",
       " 'https://yamahamusicstore.in/yamaha-c40-classical-guitar.html',\n",
       " 'https://www.amazon.in/JRZ-ST01-6-String-Electric-Sunburst-Without/dp/B01FYZSOEE',\n",
       " 'https://kadence.in/product/frontier-series-blue-acoustic-40-guitar-with-combo/',\n",
       " 'https://www.amazon.in/Yamaha-F310-6-Strings-Acoustic-Natural/dp/B000RVYW7E',\n",
       " 'https://www.bajaao.com/products/yamaha-c40-classical-guitar',\n",
       " 'https://kadence.in/product/classical-acoustic-cedar-wood-39inch-guitar-with-bag/',\n",
       " 'https://yamahamusicstore.in/pacifica112j-wa78360.html',\n",
       " 'https://www.amazon.in/Kadence-Professional-Guitar-Sunburst-Strings/dp/B07SXH9JKX']"
      ]
     },
     "execution_count": 180,
     "metadata": {},
     "output_type": "execute_result"
    }
   ],
   "source": [
    "guitar=[]\n",
    "gt=q3.find_elements(By.XPATH,'//div[@class=\"isv-r PNCib ViTmJb BUooTd\"]/a[2]')\n",
    "for i in gt:\n",
    "    guitar.append(i.get_attribute('href'))\n",
    "    \n",
    "guitar[0:10]"
   ]
  },
  {
   "cell_type": "code",
   "execution_count": 184,
   "id": "b2d1fae2",
   "metadata": {},
   "outputs": [
    {
     "data": {
      "text/plain": [
       "['https://www.justdial.com/Kolkata/Customised-Cake-Retailers-in-New-Town/nct-10974244',\n",
       " 'https://en.wikipedia.org/wiki/Wedding_cake',\n",
       " 'https://www.winni.in/marble-crunch-cake/pd/44863',\n",
       " 'https://www.floweraura.com/p/cake/decadent-black-forest-cake-with-birthday-topper-9814460ca',\n",
       " 'https://www.warmoven.in/strawberry-cake.html',\n",
       " 'https://www.fnp.com/blog/top-10-cakes-for-birthday-celebration',\n",
       " 'https://sallysbakingaddiction.com/triple-chocolate-layer-cake/',\n",
       " 'https://aclassictwist.com/makeup-cake/',\n",
       " 'https://www.justdial.com/Kolkata/Bon-Appetit-Near-Dlf-It-Park-New-Town/033PXX33-XX33-171219235055-Y3K2_BZDET',\n",
       " 'https://chelsweets.com/penguin-cake/']"
      ]
     },
     "execution_count": 184,
     "metadata": {},
     "output_type": "execute_result"
    }
   ],
   "source": [
    "cakes=[]\n",
    "ck=q3.find_elements(By.XPATH,'//div[@class=\"isv-r PNCib ViTmJb BUooTd\"]/a[2]')\n",
    "for i in ck:\n",
    "    cakes.append(i.get_attribute('href'))\n",
    "    \n",
    "cakes[0:10]"
   ]
  },
  {
   "cell_type": "code",
   "execution_count": null,
   "id": "d5f1fbf0",
   "metadata": {},
   "outputs": [],
   "source": []
  },
  {
   "cell_type": "code",
   "execution_count": null,
   "id": "e6851150",
   "metadata": {},
   "outputs": [],
   "source": []
  },
  {
   "cell_type": "code",
   "execution_count": null,
   "id": "c9549b9e",
   "metadata": {},
   "outputs": [],
   "source": []
  },
  {
   "cell_type": "code",
   "execution_count": null,
   "id": "e855ee5f",
   "metadata": {},
   "outputs": [],
   "source": []
  },
  {
   "cell_type": "code",
   "execution_count": null,
   "id": "b33062f8",
   "metadata": {},
   "outputs": [],
   "source": []
  },
  {
   "cell_type": "code",
   "execution_count": null,
   "id": "faeae62c",
   "metadata": {},
   "outputs": [],
   "source": []
  },
  {
   "cell_type": "code",
   "execution_count": null,
   "id": "f732cd05",
   "metadata": {},
   "outputs": [],
   "source": []
  },
  {
   "cell_type": "code",
   "execution_count": null,
   "id": "027d159a",
   "metadata": {},
   "outputs": [],
   "source": []
  },
  {
   "cell_type": "code",
   "execution_count": null,
   "id": "81cdbf5e",
   "metadata": {},
   "outputs": [],
   "source": []
  },
  {
   "cell_type": "code",
   "execution_count": 175,
   "id": "77cf35a4",
   "metadata": {},
   "outputs": [
    {
     "data": {
      "text/plain": [
       "['https://www.forbes.com/sites/jimgorzelany/2019/07/23/here-are-the-coolest-new-cars-for-2020/',\n",
       " 'https://www.architecturaldigest.com/gallery/cars-future-bentley-bugatti-lamborghini',\n",
       " 'https://www.roadandtrack.com/car-culture/g6404/nine-of-the-greatest-modern-v10-cars/',\n",
       " 'https://www.pixar.com/feature-films/cars',\n",
       " 'https://www.carwow.co.uk/best/best-supercars',\n",
       " 'https://www.freepik.com/free-photos-vectors/car-wallpaper',\n",
       " 'https://www.sixt.com/magazine/tips/top-10-fastest-cars-in-the-world/',\n",
       " 'https://www.pexels.com/search/car/',\n",
       " 'https://www.carandbike.com/nissan-cars',\n",
       " 'https://www.imdb.com/title/tt0317219/']"
      ]
     },
     "execution_count": 175,
     "metadata": {},
     "output_type": "execute_result"
    }
   ],
   "source": [
    "fruits[0:10]"
   ]
  },
  {
   "cell_type": "code",
   "execution_count": 193,
   "id": "49dd6860",
   "metadata": {},
   "outputs": [],
   "source": [
    "q4=webdriver.Chrome()"
   ]
  },
  {
   "cell_type": "code",
   "execution_count": 194,
   "id": "c04ae796",
   "metadata": {},
   "outputs": [],
   "source": [
    "q4.get('https://www.flipkart.com/')"
   ]
  },
  {
   "cell_type": "code",
   "execution_count": 195,
   "id": "eb165167",
   "metadata": {},
   "outputs": [],
   "source": [
    "close_ad=q4.find_element(By.XPATH,'/html/body/div[3]/div/span')\n",
    "close_ad.click()"
   ]
  },
  {
   "cell_type": "code",
   "execution_count": 199,
   "id": "64c43dca",
   "metadata": {},
   "outputs": [],
   "source": [
    "search_bar=q4.find_element(By.XPATH,'/html/body/div[1]/div/div[1]/div/div/div/div/div[1]/div/div[1]/div/div[1]/header/div[1]/div[2]/form/div/div/input')\n",
    "search_bar.send_keys('oneplus Nord')"
   ]
  },
  {
   "cell_type": "code",
   "execution_count": 200,
   "id": "2e0767c6",
   "metadata": {},
   "outputs": [],
   "source": [
    "search=q4.find_element(By.XPATH,'/html/body/div[1]/div/div[1]/div/div/div/div/div[1]/div/div[1]/div/div[1]/header/div[1]/div[2]/form/div/button')\n",
    "search.click()"
   ]
  },
  {
   "cell_type": "code",
   "execution_count": 216,
   "id": "0a10dd52",
   "metadata": {},
   "outputs": [],
   "source": [
    "oneplus=q4.find_element(By.XPATH,'/html/body/div/div/div[3]/div[1]/div[2]/div[2]/div/div/div/a')\n",
    "oneplus.click()"
   ]
  },
  {
   "cell_type": "code",
   "execution_count": 210,
   "id": "92bdc37a",
   "metadata": {},
   "outputs": [],
   "source": [
    "from selenium.common.exceptions import NoSuchElementException as ne\n"
   ]
  },
  {
   "cell_type": "code",
   "execution_count": 215,
   "id": "7a57ffc4",
   "metadata": {},
   "outputs": [
    {
     "name": "stdout",
     "output_type": "stream",
     "text": [
      "no such element <class 'selenium.common.exceptions.NoSuchElementException'>\n"
     ]
    }
   ],
   "source": [
    "try:\n",
    "    specs=q4.find_element(By.CLASS_NAME,'_1UhVsV _3AsE0T')\n",
    "    specs.click()\n",
    "except:\n",
    "    print(\"no such element\",ne)\n"
   ]
  },
  {
   "cell_type": "code",
   "execution_count": 241,
   "id": "7a530e62",
   "metadata": {},
   "outputs": [],
   "source": [
    "q41=webdriver.Chrome()"
   ]
  },
  {
   "cell_type": "code",
   "execution_count": 242,
   "id": "4df5873c",
   "metadata": {},
   "outputs": [],
   "source": [
    "q41.get('https://www.flipkart.com/oneplus-nord-ce-2-lite-5g-blue-tide-128-gb/p/itm7acae55b999e6?pid=MOBGMFREBAHZQGY9&lid=LSTMOBGMFREBAHZQGY9OTMXUZ&marketplace=FLIPKART&q=oneplus+Nord&store=tyy%2F4io&spotlightTagId=BestsellerId_tyy%2F4io&srno=s_1_1&otracker=search&otracker1=search&fm=Search&iid=6c10ba3c-d4d4-40eb-937f-7ef1e96e9a8f.MOBGMFREBAHZQGY9.SEARCH&ppt=sp&ppn=sp&ssid=j8u6sq6kow0000001699852494283&qH=cb8dd548b47d984f')"
   ]
  },
  {
   "cell_type": "code",
   "execution_count": null,
   "id": "b2c09119",
   "metadata": {},
   "outputs": [],
   "source": []
  },
  {
   "cell_type": "code",
   "execution_count": 243,
   "id": "bfcb2d8c",
   "metadata": {},
   "outputs": [],
   "source": [
    "specs=q41.find_element(By.XPATH,'/html/body/div[1]/div/div[3]/div[1]/div[2]/div[8]/div[4]/div/div[2]/button')\n",
    "specs.click()"
   ]
  },
  {
   "cell_type": "code",
   "execution_count": 230,
   "id": "d2e27fa8",
   "metadata": {},
   "outputs": [],
   "source": [
    "Brand=q41.find_element(By.XPATH,'/html/body/div[1]/div/div[3]/div[1]/div[2]/div[1]/div[1]/div/div[4]/a')\n",
    "Brand_name=Brand.text"
   ]
  },
  {
   "cell_type": "code",
   "execution_count": 231,
   "id": "6a69fa03",
   "metadata": {},
   "outputs": [
    {
     "data": {
      "text/plain": [
       "'OnePlus Mobiles'"
      ]
     },
     "execution_count": 231,
     "metadata": {},
     "output_type": "execute_result"
    }
   ],
   "source": [
    "Brand_name"
   ]
  },
  {
   "cell_type": "code",
   "execution_count": 232,
   "id": "a1880023",
   "metadata": {},
   "outputs": [],
   "source": [
    "phone=q41.find_element(By.XPATH,'/html/body/div[1]/div/div[3]/div[1]/div[2]/div[2]/div/div[1]/h1/span')\n",
    "smartphone_name=phone.text"
   ]
  },
  {
   "cell_type": "code",
   "execution_count": 233,
   "id": "fab066e8",
   "metadata": {},
   "outputs": [
    {
     "data": {
      "text/plain": [
       "'OnePlus Nord CE 2 Lite 5G (Blue Tide, 128 GB)  (6 GB RAM)'"
      ]
     },
     "execution_count": 233,
     "metadata": {},
     "output_type": "execute_result"
    }
   ],
   "source": [
    "smartphone_name"
   ]
  },
  {
   "cell_type": "code",
   "execution_count": 234,
   "id": "bab3560b",
   "metadata": {},
   "outputs": [],
   "source": [
    "color=q41.find_element(By.XPATH,'/html/body/div[1]/div/div[3]/div[1]/div[2]/div[8]/div[4]/div/div[2]/div[1]/div[1]/table/tbody/tr[4]/td[2]/ul/li')\n",
    "colour=color.text"
   ]
  },
  {
   "cell_type": "code",
   "execution_count": 235,
   "id": "2d4eec18",
   "metadata": {},
   "outputs": [
    {
     "data": {
      "text/plain": [
       "'Blue Tide'"
      ]
     },
     "execution_count": 235,
     "metadata": {},
     "output_type": "execute_result"
    }
   ],
   "source": [
    "colour"
   ]
  },
  {
   "cell_type": "code",
   "execution_count": 244,
   "id": "b0082edf",
   "metadata": {},
   "outputs": [],
   "source": [
    "RAM=q41.find_element(By.XPATH,'/html/body/div[1]/div/div[3]/div[1]/div[2]/div[8]/div[4]/div/div[2]/div[1]/div[4]/table/tbody/tr[2]/td[2]/ul/li')\n",
    "RAM_size=RAM.text"
   ]
  },
  {
   "cell_type": "code",
   "execution_count": 245,
   "id": "5c8c6ad8",
   "metadata": {},
   "outputs": [
    {
     "data": {
      "text/plain": [
       "'6 GB'"
      ]
     },
     "execution_count": 245,
     "metadata": {},
     "output_type": "execute_result"
    }
   ],
   "source": [
    "RAM_size"
   ]
  },
  {
   "cell_type": "code",
   "execution_count": 246,
   "id": "ea85f29d",
   "metadata": {},
   "outputs": [
    {
     "data": {
      "text/plain": [
       "'128 GB'"
      ]
     },
     "execution_count": 246,
     "metadata": {},
     "output_type": "execute_result"
    }
   ],
   "source": [
    "rom=q41.find_element(By.XPATH,'/html/body/div[1]/div/div[3]/div[1]/div[2]/div[8]/div[4]/div/div[2]/div[1]/div[4]/table/tbody/tr[1]/td[2]/ul/li')\n",
    "ROM=rom.text\n",
    "ROM"
   ]
  },
  {
   "cell_type": "code",
   "execution_count": 247,
   "id": "9bb38b87",
   "metadata": {},
   "outputs": [
    {
     "data": {
      "text/plain": [
       "'64MP Rear Camera'"
      ]
     },
     "execution_count": 247,
     "metadata": {},
     "output_type": "execute_result"
    }
   ],
   "source": [
    "pc=q41.find_element(By.XPATH,'/html/body/div[1]/div/div[3]/div[1]/div[2]/div[8]/div[4]/div/div[2]/div[1]/div[5]/table/tbody/tr[1]/td[2]/ul/li')\n",
    "primary_camera=pc.text\n",
    "primary_camera"
   ]
  },
  {
   "cell_type": "code",
   "execution_count": 248,
   "id": "a4fef3b0",
   "metadata": {},
   "outputs": [
    {
     "data": {
      "text/plain": [
       "'16MP Front Camera'"
      ]
     },
     "execution_count": 248,
     "metadata": {},
     "output_type": "execute_result"
    }
   ],
   "source": [
    "sc=q41.find_element(By.XPATH,'/html/body/div[1]/div/div[3]/div[1]/div[2]/div[8]/div[4]/div/div[2]/div[1]/div[5]/table/tbody/tr[2]/td[2]/ul/li')\n",
    "secondary_camera=sc.text\n",
    "secondary_camera"
   ]
  },
  {
   "cell_type": "code",
   "execution_count": 249,
   "id": "dbe43b18",
   "metadata": {},
   "outputs": [
    {
     "data": {
      "text/plain": [
       "'16.74 cm (6.59 inch)'"
      ]
     },
     "execution_count": 249,
     "metadata": {},
     "output_type": "execute_result"
    }
   ],
   "source": [
    "ds=q41.find_element(By.XPATH,'/html/body/div[1]/div/div[3]/div[1]/div[2]/div[8]/div[4]/div/div[2]/div[1]/div[2]/table/tbody/tr[1]/td[2]/ul/li')\n",
    "display_size=ds.text\n",
    "display_size"
   ]
  },
  {
   "cell_type": "code",
   "execution_count": 250,
   "id": "092004dd",
   "metadata": {},
   "outputs": [
    {
     "data": {
      "text/plain": [
       "'5000 mAh'"
      ]
     },
     "execution_count": 250,
     "metadata": {},
     "output_type": "execute_result"
    }
   ],
   "source": [
    "bc=q41.find_element(By.XPATH,'/html/body/div[1]/div/div[3]/div[1]/div[2]/div[8]/div[4]/div/div[2]/div[1]/div[7]/table/tbody/tr/td[2]/ul/li')\n",
    "battery=bc.text\n",
    "battery"
   ]
  },
  {
   "cell_type": "code",
   "execution_count": 251,
   "id": "65de63ad",
   "metadata": {},
   "outputs": [
    {
     "data": {
      "text/plain": [
       "'₹17,170'"
      ]
     },
     "execution_count": 251,
     "metadata": {},
     "output_type": "execute_result"
    }
   ],
   "source": [
    "pr=q41.find_element(By.XPATH,'/html/body/div[1]/div/div[3]/div[1]/div[2]/div[2]/div/div[4]/div[1]/div/div[1]')\n",
    "price=pr.text\n",
    "price"
   ]
  },
  {
   "cell_type": "code",
   "execution_count": null,
   "id": "2a505634",
   "metadata": {},
   "outputs": [],
   "source": []
  },
  {
   "cell_type": "code",
   "execution_count": null,
   "id": "41528afa",
   "metadata": {},
   "outputs": [],
   "source": []
  },
  {
   "cell_type": "code",
   "execution_count": null,
   "id": "9f2c2e14",
   "metadata": {},
   "outputs": [],
   "source": []
  },
  {
   "cell_type": "code",
   "execution_count": null,
   "id": "16aa4b88",
   "metadata": {},
   "outputs": [],
   "source": []
  },
  {
   "cell_type": "code",
   "execution_count": null,
   "id": "98f8e0d0",
   "metadata": {},
   "outputs": [],
   "source": []
  },
  {
   "cell_type": "code",
   "execution_count": null,
   "id": "97958182",
   "metadata": {},
   "outputs": [],
   "source": []
  },
  {
   "cell_type": "code",
   "execution_count": null,
   "id": "b523892b",
   "metadata": {},
   "outputs": [],
   "source": []
  },
  {
   "cell_type": "code",
   "execution_count": null,
   "id": "af0cc98d",
   "metadata": {},
   "outputs": [],
   "source": []
  },
  {
   "cell_type": "code",
   "execution_count": null,
   "id": "86b32d3a",
   "metadata": {},
   "outputs": [],
   "source": []
  },
  {
   "cell_type": "code",
   "execution_count": null,
   "id": "54615a53",
   "metadata": {},
   "outputs": [],
   "source": []
  },
  {
   "cell_type": "code",
   "execution_count": null,
   "id": "9bbcf5f7",
   "metadata": {},
   "outputs": [],
   "source": []
  },
  {
   "cell_type": "code",
   "execution_count": null,
   "id": "f8c0d248",
   "metadata": {},
   "outputs": [],
   "source": []
  },
  {
   "cell_type": "code",
   "execution_count": null,
   "id": "301f7674",
   "metadata": {},
   "outputs": [],
   "source": []
  },
  {
   "cell_type": "code",
   "execution_count": null,
   "id": "23f7e54e",
   "metadata": {},
   "outputs": [],
   "source": []
  },
  {
   "cell_type": "code",
   "execution_count": null,
   "id": "97cd35b6",
   "metadata": {},
   "outputs": [],
   "source": []
  },
  {
   "cell_type": "code",
   "execution_count": null,
   "id": "86e8d5fe",
   "metadata": {},
   "outputs": [],
   "source": []
  },
  {
   "cell_type": "code",
   "execution_count": null,
   "id": "5f43237d",
   "metadata": {},
   "outputs": [],
   "source": []
  },
  {
   "cell_type": "code",
   "execution_count": null,
   "id": "fa9dfcd6",
   "metadata": {},
   "outputs": [],
   "source": []
  },
  {
   "cell_type": "code",
   "execution_count": null,
   "id": "3b407dbd",
   "metadata": {},
   "outputs": [],
   "source": []
  },
  {
   "cell_type": "code",
   "execution_count": null,
   "id": "8d33d632",
   "metadata": {},
   "outputs": [],
   "source": []
  },
  {
   "cell_type": "code",
   "execution_count": null,
   "id": "c9fc1b87",
   "metadata": {},
   "outputs": [],
   "source": []
  },
  {
   "cell_type": "code",
   "execution_count": null,
   "id": "ec92e898",
   "metadata": {},
   "outputs": [],
   "source": []
  },
  {
   "cell_type": "code",
   "execution_count": null,
   "id": "f8280b24",
   "metadata": {},
   "outputs": [],
   "source": []
  },
  {
   "cell_type": "code",
   "execution_count": null,
   "id": "884f91a0",
   "metadata": {},
   "outputs": [],
   "source": []
  },
  {
   "cell_type": "code",
   "execution_count": null,
   "id": "46dcfeeb",
   "metadata": {},
   "outputs": [],
   "source": []
  },
  {
   "cell_type": "code",
   "execution_count": null,
   "id": "62bdb561",
   "metadata": {},
   "outputs": [],
   "source": []
  },
  {
   "cell_type": "code",
   "execution_count": null,
   "id": "5a332f2e",
   "metadata": {},
   "outputs": [],
   "source": []
  },
  {
   "cell_type": "code",
   "execution_count": null,
   "id": "f2c60065",
   "metadata": {},
   "outputs": [],
   "source": []
  },
  {
   "cell_type": "code",
   "execution_count": null,
   "id": "834dd67c",
   "metadata": {},
   "outputs": [],
   "source": []
  },
  {
   "cell_type": "code",
   "execution_count": null,
   "id": "b42f5dad",
   "metadata": {},
   "outputs": [],
   "source": []
  },
  {
   "cell_type": "code",
   "execution_count": null,
   "id": "461cd576",
   "metadata": {},
   "outputs": [],
   "source": []
  },
  {
   "cell_type": "code",
   "execution_count": null,
   "id": "0edd88c9",
   "metadata": {},
   "outputs": [],
   "source": []
  },
  {
   "cell_type": "code",
   "execution_count": null,
   "id": "86c9c424",
   "metadata": {},
   "outputs": [],
   "source": []
  },
  {
   "cell_type": "code",
   "execution_count": null,
   "id": "20d0d72e",
   "metadata": {},
   "outputs": [],
   "source": []
  },
  {
   "cell_type": "code",
   "execution_count": null,
   "id": "962cbd81",
   "metadata": {},
   "outputs": [],
   "source": []
  },
  {
   "cell_type": "code",
   "execution_count": null,
   "id": "d37d54f0",
   "metadata": {},
   "outputs": [],
   "source": []
  },
  {
   "cell_type": "code",
   "execution_count": null,
   "id": "44e005d6",
   "metadata": {},
   "outputs": [],
   "source": []
  },
  {
   "cell_type": "code",
   "execution_count": null,
   "id": "2b2f4408",
   "metadata": {},
   "outputs": [],
   "source": []
  },
  {
   "cell_type": "code",
   "execution_count": null,
   "id": "35dee64b",
   "metadata": {},
   "outputs": [],
   "source": []
  },
  {
   "cell_type": "code",
   "execution_count": null,
   "id": "d730f6fd",
   "metadata": {},
   "outputs": [],
   "source": []
  },
  {
   "cell_type": "code",
   "execution_count": null,
   "id": "58930072",
   "metadata": {},
   "outputs": [],
   "source": []
  },
  {
   "cell_type": "code",
   "execution_count": null,
   "id": "5ca0c485",
   "metadata": {},
   "outputs": [],
   "source": []
  },
  {
   "cell_type": "code",
   "execution_count": null,
   "id": "f6139afc",
   "metadata": {},
   "outputs": [],
   "source": []
  },
  {
   "cell_type": "code",
   "execution_count": null,
   "id": "80f62195",
   "metadata": {},
   "outputs": [],
   "source": []
  },
  {
   "cell_type": "code",
   "execution_count": null,
   "id": "56e9d3bb",
   "metadata": {},
   "outputs": [],
   "source": []
  },
  {
   "cell_type": "code",
   "execution_count": null,
   "id": "9b17d5a7",
   "metadata": {},
   "outputs": [],
   "source": []
  },
  {
   "cell_type": "code",
   "execution_count": null,
   "id": "f885ff00",
   "metadata": {},
   "outputs": [],
   "source": []
  },
  {
   "cell_type": "code",
   "execution_count": null,
   "id": "79d7dfdd",
   "metadata": {},
   "outputs": [],
   "source": []
  },
  {
   "cell_type": "code",
   "execution_count": null,
   "id": "98bfa964",
   "metadata": {},
   "outputs": [],
   "source": []
  },
  {
   "cell_type": "code",
   "execution_count": null,
   "id": "df1b387e",
   "metadata": {},
   "outputs": [],
   "source": []
  },
  {
   "cell_type": "code",
   "execution_count": null,
   "id": "07024961",
   "metadata": {},
   "outputs": [],
   "source": []
  },
  {
   "cell_type": "code",
   "execution_count": null,
   "id": "32dc6dbb",
   "metadata": {},
   "outputs": [],
   "source": []
  },
  {
   "cell_type": "code",
   "execution_count": null,
   "id": "c31bb897",
   "metadata": {},
   "outputs": [],
   "source": []
  },
  {
   "cell_type": "code",
   "execution_count": null,
   "id": "78a57e4f",
   "metadata": {},
   "outputs": [],
   "source": []
  },
  {
   "cell_type": "code",
   "execution_count": null,
   "id": "75b8db3a",
   "metadata": {},
   "outputs": [],
   "source": []
  },
  {
   "cell_type": "code",
   "execution_count": null,
   "id": "f572b8fa",
   "metadata": {},
   "outputs": [],
   "source": []
  },
  {
   "cell_type": "code",
   "execution_count": null,
   "id": "7136c7e1",
   "metadata": {},
   "outputs": [],
   "source": []
  },
  {
   "cell_type": "code",
   "execution_count": null,
   "id": "64f48904",
   "metadata": {},
   "outputs": [],
   "source": []
  },
  {
   "cell_type": "code",
   "execution_count": null,
   "id": "d2871de3",
   "metadata": {},
   "outputs": [],
   "source": []
  },
  {
   "cell_type": "code",
   "execution_count": null,
   "id": "18cacac6",
   "metadata": {},
   "outputs": [],
   "source": []
  },
  {
   "cell_type": "code",
   "execution_count": null,
   "id": "45609616",
   "metadata": {},
   "outputs": [],
   "source": []
  },
  {
   "cell_type": "code",
   "execution_count": null,
   "id": "c448c652",
   "metadata": {},
   "outputs": [],
   "source": []
  },
  {
   "cell_type": "code",
   "execution_count": null,
   "id": "59094758",
   "metadata": {},
   "outputs": [],
   "source": []
  },
  {
   "cell_type": "code",
   "execution_count": null,
   "id": "4af98ace",
   "metadata": {},
   "outputs": [],
   "source": []
  },
  {
   "cell_type": "code",
   "execution_count": null,
   "id": "9d80b555",
   "metadata": {},
   "outputs": [],
   "source": []
  },
  {
   "cell_type": "code",
   "execution_count": null,
   "id": "0d8ae6a6",
   "metadata": {},
   "outputs": [],
   "source": []
  }
 ],
 "metadata": {
  "kernelspec": {
   "display_name": "Python 3 (ipykernel)",
   "language": "python",
   "name": "python3"
  },
  "language_info": {
   "codemirror_mode": {
    "name": "ipython",
    "version": 3
   },
   "file_extension": ".py",
   "mimetype": "text/x-python",
   "name": "python",
   "nbconvert_exporter": "python",
   "pygments_lexer": "ipython3",
   "version": "3.10.9"
  }
 },
 "nbformat": 4,
 "nbformat_minor": 5
}
