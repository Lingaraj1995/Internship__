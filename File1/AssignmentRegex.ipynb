{
 "cells": [
  {
   "cell_type": "code",
   "execution_count": 136,
   "id": "92362378",
   "metadata": {},
   "outputs": [],
   "source": [
    "import regex as re"
   ]
  },
  {
   "cell_type": "code",
   "execution_count": 137,
   "id": "548a9897",
   "metadata": {},
   "outputs": [
    {
     "name": "stdout",
     "output_type": "stream",
     "text": [
      "Python:Exercises::PHP:exercises:\n"
     ]
    }
   ],
   "source": [
    "#Answer1-------------\n",
    "text='Python Exercises, PHP exercises.'\n",
    "result=re.sub(r'[ ,.]',r':',text)\n",
    "print(result)"
   ]
  },
  {
   "cell_type": "code",
   "execution_count": 138,
   "id": "349c3f5c",
   "metadata": {},
   "outputs": [
    {
     "name": "stdout",
     "output_type": "stream",
     "text": [
      "['eat', 'an', 'apple']\n"
     ]
    }
   ],
   "source": [
    "#Answer2-------------\n",
    "text='We should eat an apple daily'\n",
    "pattern='\\\\b[ae]\\w+'\n",
    "result=re.findall(pattern,text)\n",
    "print(result)"
   ]
  },
  {
   "cell_type": "code",
   "execution_count": 139,
   "id": "23e03cbc",
   "metadata": {},
   "outputs": [],
   "source": [
    "#Answer3------------------------------\n",
    "def Question3(text):\n",
    "    superregex=re.compile('\\\\b\\w{4,}\\\\b')\n",
    "    for i in superregex.finditer(text):\n",
    "        print(i)\n",
    "        print(i.group())"
   ]
  },
  {
   "cell_type": "code",
   "execution_count": 140,
   "id": "9e39cce9",
   "metadata": {},
   "outputs": [],
   "source": [
    "string1=\"Mahendra Singh Dhoni is my favourite cricketer\""
   ]
  },
  {
   "cell_type": "code",
   "execution_count": 141,
   "id": "5b71e93c",
   "metadata": {},
   "outputs": [
    {
     "name": "stdout",
     "output_type": "stream",
     "text": [
      "<regex.Match object; span=(0, 8), match='Mahendra'>\n",
      "Mahendra\n",
      "<regex.Match object; span=(9, 14), match='Singh'>\n",
      "Singh\n",
      "<regex.Match object; span=(15, 20), match='Dhoni'>\n",
      "Dhoni\n",
      "<regex.Match object; span=(27, 36), match='favourite'>\n",
      "favourite\n",
      "<regex.Match object; span=(37, 46), match='cricketer'>\n",
      "cricketer\n"
     ]
    }
   ],
   "source": [
    "Question3(string1)"
   ]
  },
  {
   "cell_type": "code",
   "execution_count": 142,
   "id": "ae31f5e9",
   "metadata": {},
   "outputs": [
    {
     "name": "stdout",
     "output_type": "stream",
     "text": [
      "<regex.Match object; span=(0, 3), match='cat'>\n",
      "<regex.Match object; span=(4, 7), match='and'>\n",
      "<regex.Match object; span=(8, 13), match='dogss'>\n",
      "<regex.Match object; span=(14, 17), match='are'>\n",
      "<regex.Match object; span=(18, 22), match='very'>\n",
      "<regex.Match object; span=(32, 36), match='pets'>\n"
     ]
    }
   ],
   "source": [
    "#Answer4-----------------\n",
    "def Question4(text):\n",
    "    sup_regex=re.compile('\\\\b\\w{3,5}\\\\b')\n",
    "    for i in sup_regex.finditer(text):\n",
    "        print(i)\n",
    "        \n",
    "string2=\"cat and dogss are very innocent pets\"\n",
    "Question4(string2)"
   ]
  },
  {
   "cell_type": "code",
   "execution_count": 143,
   "id": "52834b5f",
   "metadata": {},
   "outputs": [],
   "source": [
    "#Answer5----------------\n",
    "sample_text=[\"example (.com)\", \"hr@fliprobo (.com)\", \"github (.com)\", \"Hello (Data Science World)\", \"Data (Scientist)\"]\n",
    "def Question5(text):\n",
    "    sr=re.compile(r'[ ()]')\n",
    "    for i in text:\n",
    "        print(i)\n",
    "        x=sr.sub('',i)\n",
    "        print(x)"
   ]
  },
  {
   "cell_type": "code",
   "execution_count": 144,
   "id": "242362aa",
   "metadata": {},
   "outputs": [
    {
     "name": "stdout",
     "output_type": "stream",
     "text": [
      "example (.com)\n",
      "example.com\n",
      "hr@fliprobo (.com)\n",
      "hr@fliprobo.com\n",
      "github (.com)\n",
      "github.com\n",
      "Hello (Data Science World)\n",
      "HelloDataScienceWorld\n",
      "Data (Scientist)\n",
      "DataScientist\n"
     ]
    }
   ],
   "source": [
    "Question5(sample_text)"
   ]
  },
  {
   "cell_type": "code",
   "execution_count": 145,
   "id": "521151b7",
   "metadata": {},
   "outputs": [
    {
     "name": "stdout",
     "output_type": "stream",
     "text": [
      "example (.com)\n",
      "hr@fliprobo (.com)\n",
      "github (.com)\n",
      "Hello (Data Science World)\n",
      "Data (Scientist)\n"
     ]
    },
    {
     "data": {
      "text/plain": [
       "['example ', 'hr@fliprobo ', 'github ', 'Hello ', 'Data ']"
      ]
     },
     "execution_count": 145,
     "metadata": {},
     "output_type": "execute_result"
    }
   ],
   "source": [
    "#Answer6---------------\n",
    "sample_text=[\"example (.com)\", \"hr@fliprobo (.com)\", \"github (.com)\", \"Hello (Data Science World)\", \"Data (Scientist)\"]\n",
    "def Question6(text):\n",
    "    Answertext=[]\n",
    "    sr=re.compile(r'\\([^(]+\\)')\n",
    "    for i in text:\n",
    "        print(i)\n",
    "        y=sr.sub('',i)\n",
    "        Answertext.append(y)     \n",
    "        \n",
    "    return Answertext    \n",
    "        \n",
    "Question6(sample_text)"
   ]
  },
  {
   "cell_type": "code",
   "execution_count": 146,
   "id": "85e7963e",
   "metadata": {},
   "outputs": [
    {
     "name": "stdout",
     "output_type": "stream",
     "text": [
      "['Importance', 'Of', 'Regular', 'Expressions', 'In', 'Python']\n"
     ]
    }
   ],
   "source": [
    "#Answer7-----------------\n",
    "s_text=\"ImportanceOfRegularExpressionsInPython\"\n",
    "Question7=re.findall(r'[A-Z][a-z]+',s_text)\n",
    "print(Question7)\n"
   ]
  },
  {
   "cell_type": "code",
   "execution_count": 147,
   "id": "4fedf4da",
   "metadata": {},
   "outputs": [],
   "source": [
    "#Answer8----------------------------\n",
    "\n",
    "text1=\"RegularExpression1IsAn2ImportantTopic3InPython\"\n",
    "\n",
    "def Question8(text):\n",
    "    Q8=re.sub('([A-Z][a-z]+)(\\d)',r'\\1 \\2',text)\n",
    "    print(Q8)\n",
    "    \n"
   ]
  },
  {
   "cell_type": "code",
   "execution_count": 148,
   "id": "d7c1bd75",
   "metadata": {},
   "outputs": [
    {
     "name": "stdout",
     "output_type": "stream",
     "text": [
      "RegularExpression 1IsAn 2ImportantTopic 3InPython\n"
     ]
    }
   ],
   "source": [
    "Question8(text1)"
   ]
  },
  {
   "cell_type": "code",
   "execution_count": 149,
   "id": "afcc2ab9",
   "metadata": {},
   "outputs": [
    {
     "name": "stdout",
     "output_type": "stream",
     "text": [
      "RegularExpression 1 IsAn 2 ImportantTopic 3 InPython\n"
     ]
    }
   ],
   "source": [
    "#Answer9------------------\n",
    "text1=\"RegularExpression1IsAn2ImportantTopic3InPython\"\n",
    "\n",
    "def Question9(text):\n",
    "    Q9=re.sub(r'([A-Z][a-z]+)(\\d+)',r'\\1 \\2 ',text)\n",
    "    print(Q9)\n",
    "    \n",
    "Question9(text1)"
   ]
  },
  {
   "cell_type": "code",
   "execution_count": 150,
   "id": "96b512be",
   "metadata": {},
   "outputs": [
    {
     "name": "stdout",
     "output_type": "stream",
     "text": [
      "['xyz@domain.com', 'xyz.abc@sdomain.domain.com', 'hr@fliprobo.com']\n"
     ]
    }
   ],
   "source": [
    "#Answer10----------------\n",
    "sampletext=\"Hello my name is Data Science and my email address is xyz@domain.com and alternate email address is xyz.abc@sdomain.domain.com.Please contact us at hr@fliprobo.com for further information.\"\n",
    "\n",
    "Q10=re.findall(r'\\w+\\.*\\w+\\@\\w+\\.*\\w+\\.*\\w+',sampletext)\n",
    "print(Q10)\n"
   ]
  },
  {
   "cell_type": "code",
   "execution_count": 156,
   "id": "4b5d7afb",
   "metadata": {},
   "outputs": [
    {
     "name": "stdout",
     "output_type": "stream",
     "text": [
      "<regex.Match object; span=(0, 30), match='My_Name_is_Lingaraj_dehury_123'>\n",
      "My_Name_is_Lingaraj_dehury_123\n"
     ]
    }
   ],
   "source": [
    "#Answer11--------------\n",
    "Question11=\"My_Name_is_Lingaraj_dehury_123\"\n",
    "Q11=re.search(r'[A-Za-z0-9_]+',Question11)\n",
    "print(Q11)\n",
    "print(Q11.group())"
   ]
  },
  {
   "cell_type": "code",
   "execution_count": 159,
   "id": "3264585b",
   "metadata": {},
   "outputs": [
    {
     "name": "stdout",
     "output_type": "stream",
     "text": [
      "<regex.Match object; span=(0, 21), match='1My name is Lingaraj.'>\n",
      "1My name is Lingaraj.\n"
     ]
    }
   ],
   "source": [
    "#Answer12---------------------\n",
    "Question12=\"1My name is Lingaraj.\"\n",
    "b=re.match(r'^1.*',Question12)\n",
    "print(b)\n",
    "print(b.group())"
   ]
  },
  {
   "cell_type": "code",
   "execution_count": 160,
   "id": "36664957",
   "metadata": {},
   "outputs": [
    {
     "name": "stdout",
     "output_type": "stream",
     "text": [
      "10.24.9.542\n"
     ]
    }
   ],
   "source": [
    "#Answer13-------------\n",
    "ip_address=\"10.024.009.542\"\n",
    "Q13=re.sub(r'\\.[0]*',r'.',ip_address)\n",
    "print(Q13)"
   ]
  },
  {
   "cell_type": "code",
   "execution_count": 161,
   "id": "e750041c",
   "metadata": {},
   "outputs": [
    {
     "name": "stdout",
     "output_type": "stream",
     "text": [
      "<regex.Match object; span=(3, 19), match='August 15th 1947'>\n",
      "August 15th 1947\n"
     ]
    }
   ],
   "source": [
    "#Answe14-------------------------------\n",
    "Question14='On August 15th 1947 that India was declared independent from British colonialism, and the reins of control were handed over to the leaders of the Country'\n",
    "Q14=re.search(r'[A-Za-z]+\\s\\d{2}\\w+\\s\\d{4}',Question14)\n",
    "print(Q14)\n",
    "print(Q14.group())"
   ]
  },
  {
   "cell_type": "code",
   "execution_count": 181,
   "id": "e52dca11",
   "metadata": {},
   "outputs": [],
   "source": [
    "#Answer15----------------------------\n",
    "Question15=\"The quick brown fox jumps over the lazy dog.\"\n",
    "patterns=['fox','dog','horse']\n",
    "\n",
    "def AoQ15(text):\n",
    "     for i in patterns:\n",
    "            if re.search(i,text):\n",
    "                print(i,\"matched\")\n",
    "            else:\n",
    "                print (i,\"not matched\")        \n",
    "            "
   ]
  },
  {
   "cell_type": "code",
   "execution_count": 183,
   "id": "5b85406c",
   "metadata": {},
   "outputs": [
    {
     "name": "stdout",
     "output_type": "stream",
     "text": [
      "fox matched\n",
      "dog matched\n",
      "horse not matched\n"
     ]
    }
   ],
   "source": [
    "AoQ15(Question15)"
   ]
  },
  {
   "cell_type": "code",
   "execution_count": 185,
   "id": "76b95f1d",
   "metadata": {},
   "outputs": [
    {
     "name": "stdout",
     "output_type": "stream",
     "text": [
      "<regex.Match object; span=(16, 19), match='fox'>\n",
      "(16, 19)\n"
     ]
    }
   ],
   "source": [
    "#Answer16------------\n",
    "Question15=\"The quick brown fox jumps over the lazy dog.\"\n",
    "\n",
    "Q16=re.search(r'fox',Question15)\n",
    "print(Q16)\n",
    "print(Q16.span())"
   ]
  },
  {
   "cell_type": "code",
   "execution_count": 186,
   "id": "817ec88a",
   "metadata": {},
   "outputs": [
    {
     "name": "stdout",
     "output_type": "stream",
     "text": [
      "['exercises', 'exercises', 'exercises']\n"
     ]
    }
   ],
   "source": [
    "#Answer17-----------------\n",
    "Question17= 'Python exercises, PHP exercises, C# exercises'\n",
    "pattern=\"exercises\"\n",
    "Q17=re.findall(pattern,Question17)\n",
    "print(Q17)"
   ]
  },
  {
   "cell_type": "code",
   "execution_count": 190,
   "id": "8e518a1d",
   "metadata": {},
   "outputs": [
    {
     "name": "stdout",
     "output_type": "stream",
     "text": [
      "<regex.Match object; span=(7, 16), match='exercises'>\n",
      "(7, 16)\n",
      "7\n",
      "16\n",
      "-------------\n",
      "<regex.Match object; span=(22, 31), match='exercises'>\n",
      "(22, 31)\n",
      "22\n",
      "31\n",
      "-------------\n",
      "<regex.Match object; span=(36, 45), match='exercises'>\n",
      "(36, 45)\n",
      "36\n",
      "45\n",
      "-------------\n"
     ]
    }
   ],
   "source": [
    "#Answer18--------------\n",
    "Question17= 'Python exercises, PHP exercises, C# exercises'\n",
    "pattern=\"exercises\"\n",
    "Q18=re.finditer(pattern,Question17)\n",
    "for i in Q18:\n",
    "    print(i)\n",
    "    print(i.span())\n",
    "    print(i.start())\n",
    "    print(i.end())\n",
    "    print('-------------')"
   ]
  },
  {
   "cell_type": "code",
   "execution_count": 191,
   "id": "8c968d82",
   "metadata": {},
   "outputs": [],
   "source": [
    "#Answer19----------------\n",
    "def dateformat(dt):\n",
    "    return re.sub(r'(\\d{4})-(\\d{2})-(\\d{2})',r'\\3-\\2-\\1',dt)\n",
    "dt=\"1972-06-26\""
   ]
  },
  {
   "cell_type": "code",
   "execution_count": 192,
   "id": "39560c21",
   "metadata": {},
   "outputs": [
    {
     "data": {
      "text/plain": [
       "'26-06-1972'"
      ]
     },
     "execution_count": 192,
     "metadata": {},
     "output_type": "execute_result"
    }
   ],
   "source": [
    "dateformat(dt)"
   ]
  },
  {
   "cell_type": "code",
   "execution_count": 208,
   "id": "3348e141",
   "metadata": {},
   "outputs": [],
   "source": [
    "#Answer20---------------\n",
    "text1=\"01.12 0132.123 2.31875 145.8 3.01 27.25 0.25\"\n",
    "def Question20(text):\n",
    "    sr=re.compile(r'([0-9]+\\.\\d{1,2})\\s')\n",
    "    x=sr.findall(text)\n",
    "    print (x)\n",
    "\n",
    "#For Question no 20 couldnot think a regex code to get 0.25 in o/p\n"
   ]
  },
  {
   "cell_type": "code",
   "execution_count": 209,
   "id": "ddfa04ce",
   "metadata": {},
   "outputs": [
    {
     "name": "stdout",
     "output_type": "stream",
     "text": [
      "['01.12', '145.8', '3.01', '27.25']\n"
     ]
    }
   ],
   "source": [
    "Question20(text1)"
   ]
  },
  {
   "cell_type": "code",
   "execution_count": 210,
   "id": "8431ad0e",
   "metadata": {},
   "outputs": [
    {
     "name": "stdout",
     "output_type": "stream",
     "text": [
      "<regex.Match object; span=(8, 10), match='13'>\n",
      "13\n",
      "(8, 10)\n",
      "8\n",
      "10\n",
      "\n",
      "\n",
      "<regex.Match object; span=(22, 23), match='5'>\n",
      "5\n",
      "(22, 23)\n",
      "22\n",
      "23\n",
      "\n",
      "\n"
     ]
    }
   ],
   "source": [
    "#Answer21-------------\n",
    "text1=\"Ram has 13 shirts and 5 pants\"\n",
    "\n",
    "for i in re.finditer(r'\\d+',text1):\n",
    "    print(i)\n",
    "    print(i.group())\n",
    "    print(i.span())\n",
    "    print(i.start())\n",
    "    print(i.end())\n",
    "    print(\"\\n\")"
   ]
  },
  {
   "cell_type": "code",
   "execution_count": 212,
   "id": "659ecc60",
   "metadata": {},
   "outputs": [
    {
     "name": "stdout",
     "output_type": "stream",
     "text": [
      "['947', '896', '926', '524', '734', '950', '642']\n",
      "maximum marks:- 950\n"
     ]
    }
   ],
   "source": [
    "#Answer22---------------\n",
    "text2=\"My marks in each semester are: 947, 896, 926, 524, 734, 950, 642\"\n",
    "y=re.findall(r'\\d+',text2)\n",
    "print(y)\n",
    "print(\"maximum marks:-\",max(y))"
   ]
  },
  {
   "cell_type": "code",
   "execution_count": 214,
   "id": "721539e4",
   "metadata": {},
   "outputs": [],
   "source": [
    "#Answer23---------------\n",
    "text=\"RegularExpressionIsAnImportantTopicInPython\"\n",
    "def function(text):\n",
    "    y=re.sub(r'([A-Z])([a-z]+)',r'\\1\\2 ',text)\n",
    "    print(y)\n",
    "    "
   ]
  },
  {
   "cell_type": "code",
   "execution_count": 215,
   "id": "5005019e",
   "metadata": {},
   "outputs": [
    {
     "name": "stdout",
     "output_type": "stream",
     "text": [
      "Regular Expression Is An Important Topic In Python \n"
     ]
    }
   ],
   "source": [
    "function(text)"
   ]
  },
  {
   "cell_type": "code",
   "execution_count": 216,
   "id": "32920f3c",
   "metadata": {},
   "outputs": [
    {
     "name": "stdout",
     "output_type": "stream",
     "text": [
      "<regex.Match object; span=(0, 8), match='Lingaraj'>\n"
     ]
    }
   ],
   "source": [
    "#Answer24-----------------\n",
    "text=\"Lingaraj\"\n",
    "pattern=r'[A-Z][a-z]+$'\n",
    "y=re.search(pattern,text)\n",
    "print(y)"
   ]
  },
  {
   "cell_type": "code",
   "execution_count": 217,
   "id": "990ddd1d",
   "metadata": {},
   "outputs": [],
   "source": [
    "#Question 25- Write a Python program to remove continuous duplicate words from Sentence using Regular Expression.\n",
    "#Sample Text: \"Hello hello world world\"\n",
    "#Expected Output: Hello hello world\n",
    "\n",
    "#Couldn't find the pattern\n"
   ]
  },
  {
   "cell_type": "code",
   "execution_count": 219,
   "id": "349c04b8",
   "metadata": {},
   "outputs": [
    {
     "name": "stdout",
     "output_type": "stream",
     "text": [
      "<regex.Match object; span=(34, 40), match='123end'>\n",
      "123end\n"
     ]
    }
   ],
   "source": [
    "#Answer26---------------\n",
    "text=\"I will go to NewYork in the month 123end\"\n",
    "pattern=r\"[a-zA-Z0-9]+$\"\n",
    "y=re.search(pattern,text)\n",
    "print(y)\n",
    "print(y.group())"
   ]
  },
  {
   "cell_type": "code",
   "execution_count": 220,
   "id": "0bea0b65",
   "metadata": {},
   "outputs": [
    {
     "name": "stdout",
     "output_type": "stream",
     "text": [
      "['#Doltiwal', '#xyzabc', '#Demonetization']\n"
     ]
    }
   ],
   "source": [
    "#Answer27-------------\n",
    "text1=\"\"\"RT @kapil_kausik: #Doltiwal I mean #xyzabc is \"hurt\" by #Demonetization as the same has rendered USELESS <ed><U+00A0><U+00BD><ed><U+00B1><U+0089> \"acquired funds\" No wo\"\"\"\n",
    "pattern=r\"\\#\\w+\"\n",
    "x=re.findall(pattern,text1)\n",
    "print(x)"
   ]
  },
  {
   "cell_type": "code",
   "execution_count": 221,
   "id": "cdfe62da",
   "metadata": {},
   "outputs": [
    {
     "name": "stdout",
     "output_type": "stream",
     "text": [
      "@Jags123456 Bharat band on 28??<ed><ed>Those who  are protesting #demonetization  are all different party leaders\n"
     ]
    }
   ],
   "source": [
    "#Answer28--------------\n",
    "text2=\"@Jags123456 Bharat band on 28??<ed><U+00A0><U+00BD><ed><U+00B8><U+0082>Those who  are protesting #demonetization  are all different party leaders\"\n",
    "\n",
    "z=re.sub(r'\\<\\w+\\+\\d+\\w+\\>',r'',text2)\n",
    "print(z)"
   ]
  },
  {
   "cell_type": "code",
   "execution_count": 222,
   "id": "46d2824a",
   "metadata": {},
   "outputs": [
    {
     "name": "stdout",
     "output_type": "stream",
     "text": [
      "['12-09-1992', '15-12-1999']\n"
     ]
    }
   ],
   "source": [
    "#Answer29--------------\n",
    "text3=\"Ron was born on 12-09-1992 and he was admitted to school 15-12-1999.\"\n",
    "a=re.findall(r'\\d{2}-\\d{2}-\\d{4}',text3)\n",
    "print(a)"
   ]
  },
  {
   "cell_type": "code",
   "execution_count": 243,
   "id": "03706da5",
   "metadata": {},
   "outputs": [],
   "source": [
    "#Answer30----------------\n",
    "text4=\"The following example creates an ArrayList with a capacity of 50 elements. 4 elements are then added to the ArrayList and the ArrayList is trimmed accordingly.\"\n",
    "\n",
    "def function30(text):\n",
    "    sr=re.compile(r'\\W*\\b\\w{2,4}\\b')\n",
    "    y=sr.sub(r'',text4)\n",
    "    print(y)"
   ]
  },
  {
   "cell_type": "code",
   "execution_count": 244,
   "id": "191ebb39",
   "metadata": {},
   "outputs": [
    {
     "name": "stdout",
     "output_type": "stream",
     "text": [
      " following example creates ArrayList a capacity elements. 4 elements added ArrayList ArrayList trimmed accordingly.\n"
     ]
    }
   ],
   "source": [
    "function30(text4)"
   ]
  },
  {
   "cell_type": "code",
   "execution_count": null,
   "id": "3961ab60",
   "metadata": {},
   "outputs": [],
   "source": []
  },
  {
   "cell_type": "code",
   "execution_count": null,
   "id": "d3a7dd85",
   "metadata": {},
   "outputs": [],
   "source": []
  },
  {
   "cell_type": "code",
   "execution_count": null,
   "id": "7bf10b64",
   "metadata": {},
   "outputs": [],
   "source": []
  },
  {
   "cell_type": "code",
   "execution_count": null,
   "id": "98705307",
   "metadata": {},
   "outputs": [],
   "source": []
  },
  {
   "cell_type": "code",
   "execution_count": null,
   "id": "982bb51e",
   "metadata": {},
   "outputs": [],
   "source": []
  },
  {
   "cell_type": "code",
   "execution_count": null,
   "id": "b979821a",
   "metadata": {},
   "outputs": [],
   "source": []
  },
  {
   "cell_type": "code",
   "execution_count": null,
   "id": "0ea38392",
   "metadata": {},
   "outputs": [],
   "source": []
  },
  {
   "cell_type": "code",
   "execution_count": null,
   "id": "7b10d281",
   "metadata": {},
   "outputs": [],
   "source": []
  },
  {
   "cell_type": "code",
   "execution_count": null,
   "id": "379a626f",
   "metadata": {},
   "outputs": [],
   "source": []
  },
  {
   "cell_type": "code",
   "execution_count": null,
   "id": "f5425aee",
   "metadata": {},
   "outputs": [],
   "source": []
  },
  {
   "cell_type": "code",
   "execution_count": null,
   "id": "f251181f",
   "metadata": {},
   "outputs": [],
   "source": []
  },
  {
   "cell_type": "code",
   "execution_count": null,
   "id": "dd792a69",
   "metadata": {},
   "outputs": [],
   "source": []
  },
  {
   "cell_type": "code",
   "execution_count": null,
   "id": "ca8b9463",
   "metadata": {},
   "outputs": [],
   "source": []
  },
  {
   "cell_type": "code",
   "execution_count": null,
   "id": "1a3ddea1",
   "metadata": {},
   "outputs": [],
   "source": []
  },
  {
   "cell_type": "code",
   "execution_count": null,
   "id": "3baad881",
   "metadata": {},
   "outputs": [],
   "source": []
  },
  {
   "cell_type": "code",
   "execution_count": null,
   "id": "41099f89",
   "metadata": {},
   "outputs": [],
   "source": []
  },
  {
   "cell_type": "code",
   "execution_count": null,
   "id": "b854aa1d",
   "metadata": {},
   "outputs": [],
   "source": []
  },
  {
   "cell_type": "code",
   "execution_count": null,
   "id": "491f4a68",
   "metadata": {},
   "outputs": [],
   "source": []
  },
  {
   "cell_type": "code",
   "execution_count": null,
   "id": "4e485cda",
   "metadata": {},
   "outputs": [],
   "source": []
  },
  {
   "cell_type": "code",
   "execution_count": null,
   "id": "74f3955f",
   "metadata": {},
   "outputs": [],
   "source": []
  },
  {
   "cell_type": "code",
   "execution_count": null,
   "id": "230680b1",
   "metadata": {},
   "outputs": [],
   "source": []
  },
  {
   "cell_type": "code",
   "execution_count": null,
   "id": "f66a099e",
   "metadata": {},
   "outputs": [],
   "source": []
  },
  {
   "cell_type": "code",
   "execution_count": null,
   "id": "490a3a84",
   "metadata": {},
   "outputs": [],
   "source": []
  },
  {
   "cell_type": "code",
   "execution_count": null,
   "id": "515d343f",
   "metadata": {},
   "outputs": [],
   "source": []
  },
  {
   "cell_type": "code",
   "execution_count": null,
   "id": "d0a03ef3",
   "metadata": {},
   "outputs": [],
   "source": []
  },
  {
   "cell_type": "code",
   "execution_count": null,
   "id": "23dc7ed1",
   "metadata": {},
   "outputs": [],
   "source": []
  },
  {
   "cell_type": "code",
   "execution_count": null,
   "id": "46028d29",
   "metadata": {},
   "outputs": [],
   "source": []
  },
  {
   "cell_type": "code",
   "execution_count": null,
   "id": "90603445",
   "metadata": {},
   "outputs": [],
   "source": []
  },
  {
   "cell_type": "code",
   "execution_count": null,
   "id": "c6dcaeb8",
   "metadata": {},
   "outputs": [],
   "source": []
  },
  {
   "cell_type": "code",
   "execution_count": null,
   "id": "5e5b16a1",
   "metadata": {},
   "outputs": [],
   "source": []
  },
  {
   "cell_type": "code",
   "execution_count": null,
   "id": "07a9db03",
   "metadata": {},
   "outputs": [],
   "source": []
  },
  {
   "cell_type": "code",
   "execution_count": null,
   "id": "a59e288d",
   "metadata": {},
   "outputs": [],
   "source": []
  },
  {
   "cell_type": "code",
   "execution_count": null,
   "id": "b94b32a6",
   "metadata": {},
   "outputs": [],
   "source": []
  },
  {
   "cell_type": "code",
   "execution_count": null,
   "id": "9c482196",
   "metadata": {},
   "outputs": [],
   "source": []
  },
  {
   "cell_type": "code",
   "execution_count": null,
   "id": "7d585142",
   "metadata": {},
   "outputs": [],
   "source": []
  }
 ],
 "metadata": {
  "kernelspec": {
   "display_name": "Python 3 (ipykernel)",
   "language": "python",
   "name": "python3"
  },
  "language_info": {
   "codemirror_mode": {
    "name": "ipython",
    "version": 3
   },
   "file_extension": ".py",
   "mimetype": "text/x-python",
   "name": "python",
   "nbconvert_exporter": "python",
   "pygments_lexer": "ipython3",
   "version": "3.10.9"
  }
 },
 "nbformat": 4,
 "nbformat_minor": 5
}
